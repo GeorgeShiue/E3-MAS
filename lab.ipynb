{
 "cells": [
  {
   "cell_type": "markdown",
   "metadata": {},
   "source": [
    "# API Key"
   ]
  },
  {
   "cell_type": "code",
   "execution_count": 18,
   "metadata": {},
   "outputs": [],
   "source": [
    "import os\n",
    "from dotenv import load_dotenv\n",
    "\n",
    "load_dotenv()\n",
    "api_key = os.getenv(\"API_KEY\")\n",
    "os.environ[\"OPENAI_API_KEY\"] = api_key"
   ]
  },
  {
   "cell_type": "markdown",
   "metadata": {},
   "source": [
    "# Execution Team"
   ]
  },
  {
   "cell_type": "markdown",
   "metadata": {},
   "source": [
    "## Define Agents"
   ]
  },
  {
   "cell_type": "code",
   "execution_count": null,
   "metadata": {},
   "outputs": [],
   "source": [
    "from agent import ExecutionAgent\n",
    "\n",
    "execution_agent = ExecutionAgent()\n",
    "\n",
    "planner = execution_agent.planner\n",
    "# executor = execution_agents.executor\n",
    "executor = execution_agent.pipeline_executor # 測試 Pipeline Executor\n",
    "replanner = execution_agent.replanner\n",
    "solver = execution_agent.solver"
   ]
  },
  {
   "cell_type": "code",
   "execution_count": null,
   "metadata": {},
   "outputs": [],
   "source": [
    "# response = planner.invoke({\"user_input\": [(\"user\", \"Please help me apply leave application.\")]})\n",
    "# for step in response.steps:\n",
    "#     print(step)"
   ]
  },
  {
   "cell_type": "code",
   "execution_count": null,
   "metadata": {},
   "outputs": [],
   "source": [
    "import time\n",
    "\n",
    "execution_agent.web_execution_tool.create_browser()\n",
    "\n",
    "start_time = time.time()\n",
    "\n",
    "response = executor.invoke({\"messages\": [(\"user\", \"Step 1. function_name: 'navigate_with_url', parameters: '{\\\"url\\\":\\\"https://cis.ncu.edu.tw/iNCU/stdAffair/leaveRequest\\\"}'\")]})\n",
    "print(response[\"messages\"][-1].content)\n",
    "end_time = time.time()\n",
    "\n",
    "print(f\"Execution time: {end_time - start_time} seconds\")\n",
    "\n",
    "execution_agent.web_execution_tool.selenium_controller.clean_containers() # *selenium controller解構子有問題，必須runtime內清除"
   ]
  },
  {
   "cell_type": "code",
   "execution_count": null,
   "metadata": {},
   "outputs": [],
   "source": [
    "print(response)"
   ]
  },
  {
   "cell_type": "markdown",
   "metadata": {},
   "source": [
    "## Define Graph State"
   ]
  },
  {
   "cell_type": "code",
   "execution_count": null,
   "metadata": {},
   "outputs": [],
   "source": [
    "import operator\n",
    "from typing import Annotated, List, Tuple, Any\n",
    "from typing_extensions import TypedDict\n",
    "\n",
    "\n",
    "class PlanExecute(TypedDict):\n",
    "    input: str\n",
    "    plan: List[str]\n",
    "    past_steps: Annotated[List[Tuple], operator.add]\n",
    "    response: str\n",
    "    history: List[Tuple[str, Any]]"
   ]
  },
  {
   "cell_type": "markdown",
   "metadata": {},
   "source": [
    "## Define Agent Node"
   ]
  },
  {
   "cell_type": "code",
   "execution_count": null,
   "metadata": {},
   "outputs": [],
   "source": [
    "async def plan_step(state: PlanExecute):\n",
    "    plan = await planner.ainvoke({\"user_input\": [(\"user\", state[\"input\"])]}) # 對應到planner system prompt中的{user_input}\n",
    "    state[\"history\"].append((\"Planner\", plan.steps)) # 將plan的步驟加入history中\n",
    "\n",
    "    return {\n",
    "        \"plan\": plan.steps,\n",
    "        \"history\": state[\"history\"],\n",
    "    }\n",
    "\n",
    "async def execute_step(state: PlanExecute):\n",
    "    plan = state[\"plan\"]\n",
    "    plan_str = \"\\n\".join(f\"{i+1}. {step}\" for i, step in enumerate(plan))\n",
    "    task = plan[0]\n",
    "    task_formatted = f\"\"\"For the following plan:\n",
    "{plan_str}\\n\\nYou are tasked with executing step {1}, {task}.\"\"\"\n",
    "    agent_response = await executor.ainvoke({\"messages\": [(\"user\", task_formatted)]}) # react agent 用 messages 方式接收訊息\n",
    "    state[\"history\"].append((\"Executor\", (task, agent_response[\"messages\"][-1].content)))\n",
    "\n",
    "    return {\n",
    "        \"past_steps\": [(task, agent_response[\"messages\"][-1].content)], # react agent 接收訊息方式\n",
    "        \"history\": state[\"history\"],\n",
    "    }\n",
    "\n",
    "async def replan_step(state: PlanExecute):\n",
    "    # 過濾掉state中不需要的欄位\n",
    "    temp_state = state.copy()\n",
    "    temp_state.pop(\"history\")\n",
    "\n",
    "    output = await replanner.ainvoke(temp_state)\n",
    "    if isinstance(output.action, execution_agent.Response):\n",
    "        state[\"history\"].append((\"Replanner\", output.action.response))\n",
    "        return {\n",
    "            \"response\": output.action.response,\n",
    "            \"history\": state[\"history\"],\n",
    "        }\n",
    "    else:\n",
    "        state[\"history\"].append((\"Replanner\", output.action.steps))\n",
    "        return {\n",
    "            \"plan\": output.action.steps,\n",
    "            \"history\": state[\"history\"],\n",
    "        }\n",
    "\n",
    "async def solve_step(state: PlanExecute):\n",
    "    print(\"history:\")\n",
    "    print(state[\"history\"])\n",
    "    response = await solver.ainvoke({\"user_input\": state[\"input\"], \"planning_history\": state[\"history\"]})\n",
    "    return {\"response\": response.content, \"history\": state[\"history\"]}\n",
    "\n",
    "def should_end(state: PlanExecute):\n",
    "    if \"response\" in state and state[\"response\"]:\n",
    "        return \"solver\"\n",
    "    else:\n",
    "        return \"executor\""
   ]
  },
  {
   "cell_type": "markdown",
   "metadata": {},
   "source": [
    "## Create Graph"
   ]
  },
  {
   "cell_type": "code",
   "execution_count": null,
   "metadata": {},
   "outputs": [],
   "source": [
    "from langgraph.graph import StateGraph, START, END\n",
    "\n",
    "execution_workflow = StateGraph(PlanExecute)\n",
    "\n",
    "execution_workflow.add_node(\"planner\", plan_step)\n",
    "execution_workflow.add_node(\"executor\", execute_step)\n",
    "execution_workflow.add_node(\"replanner\", replan_step)\n",
    "execution_workflow.add_node(\"solver\", solve_step)\n",
    "\n",
    "execution_workflow.add_edge(START, \"planner\")\n",
    "execution_workflow.add_edge(\"planner\", \"executor\")\n",
    "execution_workflow.add_edge(\"executor\", \"replanner\")\n",
    "execution_workflow.add_conditional_edges(\n",
    "    \"replanner\",\n",
    "    # Next, we pass in the function that will determine which node is called next.\n",
    "    should_end,\n",
    "    [\"executor\", \"solver\"],\n",
    ")\n",
    "execution_workflow.add_edge(\"solver\", END)\n",
    "\n",
    "execution_app = execution_workflow.compile() # This compiles it into a LangChain Runnable, meaning you can use it as you would any other runnable"
   ]
  },
  {
   "cell_type": "code",
   "execution_count": null,
   "metadata": {},
   "outputs": [],
   "source": [
    "from IPython.display import Image, display\n",
    "from PIL import Image as PILImage\n",
    "from io import BytesIO\n",
    "\n",
    "graph_bytes = execution_app.get_graph(xray=True).draw_mermaid_png()\n",
    "\n",
    "# output_file_path = \"test.jpg\"\n",
    "# with BytesIO(graph_bytes) as byte_stream:\n",
    "#     image = PILImage.open(byte_stream)\n",
    "#     image.save(output_file_path, format=\"PNG\")\n",
    "\n",
    "display(Image(graph_bytes))"
   ]
  },
  {
   "cell_type": "code",
   "execution_count": null,
   "metadata": {},
   "outputs": [],
   "source": [
    "# import time\n",
    "# import nest_asyncio\n",
    "# nest_asyncio.apply()\n",
    "\n",
    "# start_time = time.time()\n",
    "# result = tool_dict[\"website_links_crawler\"].invoke({\"link\": \"https://pdc.adm.ncu.edu.tw/#&panel1-1\"})\n",
    "# # website_links_crawler(\"https://www.ncu.edu.tw/tw/\")\n",
    "\n",
    "\n",
    "\n",
    "# end_time = time.time()\n",
    "# execution_time = end_time - start_time\n",
    "\n",
    "# print(f\"Execution time: {execution_time} seconds\")"
   ]
  },
  {
   "cell_type": "markdown",
   "metadata": {},
   "source": [
    "## Run App"
   ]
  },
  {
   "cell_type": "code",
   "execution_count": null,
   "metadata": {},
   "outputs": [],
   "source": [
    "import nest_asyncio\n",
    "import time\n",
    "\n",
    "with open(\"Outputs/execution_chat_log.txt\", \"w\") as f:\n",
    "    f.write(\"\")\n",
    "\n",
    "def write_to_chat_log(content):\n",
    "    with open(\"Outputs/execution_chat_log.txt\", \"a\") as f:\n",
    "        f.write(content)\n",
    "\n",
    "# Who is the headmaster of National Central University in Taiwan?\n",
    "# Summarize the content of the 111 Academic Affairs Regulations.\n",
    "# Please help me gather information related to scholarship applications.\n",
    "# Please help me fill out the leave application on the school website.\n",
    "config = {\"recursion_limit\": 30}\n",
    "inputs = {\n",
    "    \"input\": \"Please help me gather information related to scholarship applications.\",\n",
    "    \"history\": [], # 初始化儲存History的list\n",
    "}\n",
    "write_to_chat_log(f\"User Query:\\n{inputs['input']}\\n\\n\")\n",
    "\n",
    "# tool_dict[\"create_browser\"].invoke(input=None)\n",
    "\n",
    "nest_asyncio.apply()\n",
    "start_time = time.time()\n",
    "async for event in execution_app.astream(inputs, config=config):\n",
    "    for agent, state in event.items():\n",
    "        if agent != \"__end__\":\n",
    "            write_to_chat_log(f\"{agent}:\\n\")\n",
    "\n",
    "            for key, value in state.items():\n",
    "                if (key != \"history\"):\n",
    "                    write_to_chat_log(f\"{key}: {value}\\n\")\n",
    "            \n",
    "            write_to_chat_log(\"\\n\")\n",
    "end_time = time.time()\n",
    "\n",
    "execution_time = end_time - start_time\n",
    "print(f\"Execution time: {execution_time} seconds\")\n",
    "# del tools.selenium_controller"
   ]
  },
  {
   "cell_type": "markdown",
   "metadata": {},
   "source": [
    "# Evaluation Team"
   ]
  },
  {
   "cell_type": "markdown",
   "metadata": {},
   "source": [
    "## Define Agents"
   ]
  },
  {
   "cell_type": "markdown",
   "metadata": {},
   "source": [
    "### Critic"
   ]
  },
  {
   "cell_type": "code",
   "execution_count": null,
   "metadata": {},
   "outputs": [],
   "source": [
    "from utils.factory import AgentFactory\n",
    "\n",
    "# * 根據使用者輸入和計畫制定生成評估標準\n",
    "critic = AgentFactory.create_react_agent_with_yaml(\"Critic\")"
   ]
  },
  {
   "cell_type": "code",
   "execution_count": null,
   "metadata": {},
   "outputs": [],
   "source": [
    "# response = critic.invoke({\"messages\": [(\"user\", \"Please evaluate the performance of execution team.\")]})\n",
    "\n",
    "# # 暫存評估標準，之後儲存到state內交給evaluator\n",
    "# with open(\"Docs/evaluation_rubric.txt\", \"w\") as f:\n",
    "#     f.write(f\"{response['messages'][-1].content}\\n\\n\")"
   ]
  },
  {
   "cell_type": "code",
   "execution_count": null,
   "metadata": {},
   "outputs": [],
   "source": [
    "# print(response[\"messages\"][-1].content)"
   ]
  },
  {
   "cell_type": "code",
   "execution_count": null,
   "metadata": {},
   "outputs": [],
   "source": [
    "# 查看調用工具情形\n",
    "# for message in response[\"messages\"]:\n",
    "#     print(message)\n",
    "#     if not message.content:\n",
    "#         for item in message:\n",
    "#             print(item)"
   ]
  },
  {
   "cell_type": "markdown",
   "metadata": {},
   "source": [
    "### Evaluator"
   ]
  },
  {
   "cell_type": "code",
   "execution_count": 36,
   "metadata": {},
   "outputs": [
    {
     "name": "stdout",
     "output_type": "stream",
     "text": [
      "Evaluator_llm_config:\n",
      "model: gpt-4.1-mini\n",
      "temperature: 0\n",
      "\n",
      "Evaluator_prompt: \n",
      "You are an Evaluator Agent in a multi-agent system tasked with assessing the performance of the Execution Team based on a predefined evaluation rubric.\n",
      "\n",
      "You will be given a structured evaluation rubric created by the Critic Agent, with detailed expectations for each step of the original plan, including fallback evaluation rules for steps introduced later through replanning.\n",
      "\n",
      "You should use read_execution_chat_log to get the chat log that captures the actual actions and responses produced by the Execution Team while executing a multi-step plan.\n",
      "\n",
      "Your goal is to evaluate how well each executed step aligns with the rubric. This includes:\n",
      "  - Identifying each step from the execution log and linking it to a rubric entry (original or fallback)\n",
      "  - For each original plan step, refer to its corresponding **Evaluation Criteria** defined in the rubric to guide your scoring and analysis\n",
      "  - Consider any **additional steps** derived from the original plan (e.g., those introduced by the Replanner) as part of the evaluation, and use fallback rules or goal alignment to assess them\n",
      "  - Scoring each step based on whether it satisfies the rubric’s evaluation criteria\n",
      "  - Explaining the reasoning behind each score using specific evidence from the chat log\n",
      "  - Providing improvement suggestions for every step, regardless of the score\n",
      "\n",
      "If a step from the execution log **was not in the original plan**, use the **Fallback Evaluation Rules** (if available) from the rubric to judge the step’s effectiveness. If no fallback exists, evaluate the step based on alignment with the overall task goals, quality of output, and relevance.\n",
      "\n",
      "For each step in your evaluation output, use the following format:\n",
      "  - Step ID or Summary: [Short identifier or action]\n",
      "  - Rubric Reference: [Step number or fallback rule applied]\n",
      "  - Execution Summary: [What was actually done and what was the result]\n",
      "  - Score: 1(Fully Met) / 0.5(Partially Met) / 0(Not Met)\n",
      "  - Justification: [Short explanation referencing the rubric and chat log]\n",
      "  - Improvement Suggestions: [Suggestions for how this step could be improved.]\n",
      "\n",
      "Your evaluation should be precise, traceable, and suitable for downstream agents to take further action such as prompting, retraining, or replanning.\n",
      "\n",
      "\n",
      "Evaluator_tool_list: \n",
      "read_execution_chat_log\n",
      "\n"
     ]
    }
   ],
   "source": [
    "from tool import EvaluationTool\n",
    "from utils.factory import AgentFactory\n",
    "from typing_extensions import List, TypedDict\n",
    "from pydantic import BaseModel, Field\n",
    "\n",
    "class EvaluatorResponse(BaseModel):\n",
    "    \"\"\"Return a list of score for each step in order.\"\"\"\n",
    "\n",
    "    scores: List[float] = Field(\n",
    "        description=\"A list of scores for each step in order.\",\n",
    "    )\n",
    "\n",
    "evaluation_tool = EvaluationTool()\n",
    "    \n",
    "# * 根據評估者提供的評估框架和評估執行團隊的任務執行成效\n",
    "evaluator = AgentFactory.create_react_agent_with_yaml(\"Evaluator\", evaluation_tool.tool_dict, EvaluatorResponse)"
   ]
  },
  {
   "cell_type": "code",
   "execution_count": 37,
   "metadata": {},
   "outputs": [],
   "source": [
    "evaluation_rubric = \"\"\"\n",
    "Evaluation Rubric for Plan Steps Addressing Scholarship Application Information Gathering\n",
    "\n",
    "Step 1: Identify the most relevant National Central University website or webpage related to scholarships.\n",
    "- Step Objective: Locate the primary official webpage that contains scholarship information for National Central University.\n",
    "- Linked Requirements: E1 - URL of scholarship information page.\n",
    "- Expected Input/Output: Input - User query; Output - Accurate URL of the scholarship information page.\n",
    "- Failure Indicators: Incorrect or unrelated URL; failure to identify an official or relevant page.\n",
    "- Fallback Evaluation Rules: If a similar step identifies a different but still official and relevant scholarship page, evaluate based on URL relevance and authority.\n",
    "- Evaluation Criteria:\n",
    "  - Information Quality: URL must be official and directly related to scholarships.\n",
    "  - Alignment with Requirements: Must correspond to E1 requirement.\n",
    "  - Step Efficiency: Should be a single, clear URL without unnecessary multiple links.\n",
    "  - Clarity of Expression: URL and page description should be clearly stated.\n",
    "\n",
    "Step 2: Access and read the content of the identified scholarship information page.\n",
    "- Step Objective: Retrieve and understand the content of the identified scholarship webpage.\n",
    "- Linked Requirements: E2 - Content of the scholarship page.\n",
    "- Expected Input/Output: Input - URL from Step 1; Output - Textual content of the page.\n",
    "- Failure Indicators: Content is incomplete, inaccessible, or irrelevant.\n",
    "- Fallback Evaluation Rules: If content is partially retrieved or from a slightly different page, evaluate completeness and relevance.\n",
    "- Evaluation Criteria:\n",
    "  - Information Quality: Content must be accurate and comprehensive.\n",
    "  - Alignment with Requirements: Must fulfill E2 content retrieval.\n",
    "  - Step Efficiency: Content retrieval should be direct without unnecessary detours.\n",
    "  - Clarity of Expression: Content should be clearly presented or summarized.\n",
    "\n",
    "Step 3: Evaluate whether the content provides comprehensive details about scholarship applications, including eligibility, deadlines, and application procedures.\n",
    "- Step Objective: Assess sufficiency of the retrieved content regarding key scholarship application details.\n",
    "- Linked Requirements: E3 - Sufficiency judgment.\n",
    "- Expected Input/Output: Input - Content from Step 2; Output - Judgment on content sufficiency.\n",
    "- Failure Indicators: Incorrect or vague sufficiency assessment.\n",
    "- Fallback Evaluation Rules: Similar evaluations should consider completeness of key details.\n",
    "- Evaluation Criteria:\n",
    "  - Information Quality: Judgment must be based on thorough content analysis.\n",
    "  - Alignment with Requirements: Must address eligibility, deadlines, and procedures.\n",
    "  - Step Efficiency: Evaluation should be concise and focused.\n",
    "  - Clarity of Expression: Judgment should be clearly stated with rationale.\n",
    "\n",
    "Step 4: If the content is insufficient, find and list hyperlinks on the page that may lead to more detailed scholarship application information.\n",
    "- Step Objective: Identify additional resources or links for more detailed scholarship information.\n",
    "- Linked Requirements: E4 - List of relevant links.\n",
    "- Expected Input/Output: Input - Insufficient content judgment; Output - List of relevant hyperlinks.\n",
    "- Failure Indicators: Irrelevant or no links provided despite insufficiency.\n",
    "- Fallback Evaluation Rules: Alternative link lists should be relevant and lead to detailed info.\n",
    "- Evaluation Criteria:\n",
    "  - Information Quality: Links must be relevant and credible.\n",
    "  - Alignment with Requirements: Must correspond to E4.\n",
    "  - Step Efficiency: List should be concise and focused.\n",
    "  - Clarity of Expression: Links should be clearly described.\n",
    "\n",
    "Step 5: Follow the most relevant link from Step 4 and read the new page content for additional scholarship application details.\n",
    "- Step Objective: Retrieve additional scholarship information from the selected link.\n",
    "- Linked Requirements: E5 - New page content.\n",
    "- Expected Input/Output: Input - Selected link; Output - Content of the new page.\n",
    "- Failure Indicators: Content is irrelevant, incomplete, or inaccessible.\n",
    "- Fallback Evaluation Rules: If alternative links are followed, evaluate content relevance and completeness.\n",
    "- Evaluation Criteria:\n",
    "  - Information Quality: Content must add meaningful details.\n",
    "  - Alignment with Requirements: Must fulfill E5.\n",
    "  - Step Efficiency: Retrieval should be direct and purposeful.\n",
    "  - Clarity of Expression: Content should be clearly presented.\n",
    "\n",
    "Step 6: Extract and compile the final information about scholarship applications, including eligibility criteria, required documents, deadlines, and application process.\n",
    "- Step Objective: Produce a comprehensive summary of scholarship application information.\n",
    "- Linked Requirements: E6 - Final compiled information.\n",
    "- Expected Input/Output: Input - Content from Steps 2 and/or 5; Output - Clear, complete summary.\n",
    "- Failure Indicators: Missing key details, unclear or disorganized summary.\n",
    "- Fallback Evaluation Rules: Alternative compilations should cover all key aspects comprehensively.\n",
    "- Evaluation Criteria:\n",
    "  - Information Quality: Summary must be accurate, complete, and detailed.\n",
    "  - Alignment with Requirements: Must address all required scholarship application elements.\n",
    "  - Step Efficiency: Summary should be concise yet comprehensive.\n",
    "  - Clarity of Expression: Information should be well-structured and easy to understand.\n",
    "\n",
    "This rubric supports detailed evaluation of each plan step's execution quality and alignment with the user's task of gathering scholarship application information.\n",
    "\"\"\""
   ]
  },
  {
   "cell_type": "code",
   "execution_count": 38,
   "metadata": {},
   "outputs": [],
   "source": [
    "# with open('Docs/evaluation_rubric.txt', 'r') as file:\n",
    "#     evaluation_rubric = file.read()\n",
    "\n",
    "response = evaluator.invoke({\"messages\": [(\"user\", evaluation_rubric)]})\n",
    "\n",
    "# 暫存評估結果，之後儲存到state內交給analyzer\n",
    "# with open(\"evaluation_result.txt\", \"w\") as f:\n",
    "#     f.write(f\"{response['messages'][-1].content}\\n\\n\")"
   ]
  },
  {
   "cell_type": "code",
   "execution_count": 39,
   "metadata": {},
   "outputs": [
    {
     "name": "stdout",
     "output_type": "stream",
     "text": [
      "- Step ID or Summary: Identify the most relevant National Central University scholarship webpage\n",
      "- Rubric Reference: Step 1\n",
      "- Execution Summary: The execution team identified two URLs initially, one at admission.ncu.edu.tw which was relevant but later found inaccessible. Eventually, they found a detailed and official scholarship page at http://military.ncu.edu.tw/scholarship.php, which contained comprehensive scholarship information.\n",
      "- Score: 1 (Fully Met)\n",
      "- Justification: The final URL identified is an official National Central University page dedicated to scholarships, fulfilling the requirement for an official and relevant URL. The process was iterative but resulted in a clear, single URL with relevant content.\n",
      "- Improvement Suggestions: The team could improve efficiency by verifying link accessibility earlier to avoid following inaccessible URLs.\n",
      "\n",
      "- Step ID or Summary: Access and read the content of the identified scholarship information page\n",
      "- Rubric Reference: Step 2\n",
      "- Execution Summary: The team accessed the page at http://military.ncu.edu.tw/scholarship.php and extracted detailed content including scholarship names, amounts, recipients, eligibility criteria, and contact information.\n",
      "- Score: 1 (Fully Met)\n",
      "- Justification: The content retrieved was comprehensive, accurate, and directly related to scholarship information, fulfilling the content retrieval requirement.\n",
      "- Improvement Suggestions: None significant; the content was well summarized and relevant.\n",
      "\n",
      "- Step ID or Summary: Evaluate content sufficiency regarding scholarship application details\n",
      "- Rubric Reference: Step 3\n",
      "- Execution Summary: The team evaluated the initial scholarship page content and found it insufficient, as some linked PDFs were inaccessible. They then searched for alternative sources and eventually found a more detailed scholarship page.\n",
      "- Score: 1 (Fully Met)\n",
      "- Justification: The team correctly assessed the initial content as insufficient and took appropriate steps to find more comprehensive information, demonstrating thorough content analysis.\n",
      "- Improvement Suggestions: The evaluation could have been more explicitly stated in the log, with a clear rationale summary.\n",
      "\n",
      "- Step ID or Summary: Find and list hyperlinks for more detailed scholarship information\n",
      "- Rubric Reference: Step 4\n",
      "- Execution Summary: After finding the initial page insufficient, the team scanned the university homepage and navigation menus but found no accessible relevant links. They then searched for downloadable brochures and alternative pages.\n",
      "- Score: 0.5 (Partially Met)\n",
      "- Justification: While the team attempted to find additional links, the list of hyperlinks was not clearly provided or described. The fallback approach was used effectively, but the step's output was not a clear list of relevant links.\n",
      "- Improvement Suggestions: Provide a concise, clearly described list of relevant hyperlinks when the initial content is insufficient.\n",
      "\n",
      "- Step ID or Summary: Follow the most relevant link and read new page content\n",
      "- Rubric Reference: Step 5\n",
      "- Execution Summary: The team accessed the student affairs scholarship page at http://military.ncu.edu.tw/scholarship.php, which contained detailed scholarship information including eligibility, amounts, and application notes.\n",
      "- Score: 1 (Fully Met)\n",
      "- Justification: The content retrieved added meaningful and comprehensive details, fulfilling the requirement for additional scholarship information.\n",
      "- Improvement Suggestions: None significant; the retrieval was direct and purposeful.\n",
      "\n",
      "- Step ID or Summary: Extract and compile final scholarship application information\n",
      "- Rubric Reference: Step 6\n",
      "- Execution Summary: The team compiled a detailed summary of scholarships including names, amounts, recipients, eligibility criteria, application requirements (where stated), and contact information.\n",
      "- Score: 1 (Fully Met)\n",
      "- Justification: The summary was comprehensive, accurate, and well-structured, covering all key scholarship application elements as required.\n",
      "- Improvement Suggestions: Explicitly state application procedures if available to enhance completeness.\n"
     ]
    }
   ],
   "source": [
    "print(response[\"messages\"][-1].content)"
   ]
  },
  {
   "cell_type": "code",
   "execution_count": 42,
   "metadata": {},
   "outputs": [
    {
     "name": "stdout",
     "output_type": "stream",
     "text": [
      "{'messages': [HumanMessage(content=\"\\nEvaluation Rubric for Plan Steps Addressing Scholarship Application Information Gathering\\n\\nStep 1: Identify the most relevant National Central University website or webpage related to scholarships.\\n- Step Objective: Locate the primary official webpage that contains scholarship information for National Central University.\\n- Linked Requirements: E1 - URL of scholarship information page.\\n- Expected Input/Output: Input - User query; Output - Accurate URL of the scholarship information page.\\n- Failure Indicators: Incorrect or unrelated URL; failure to identify an official or relevant page.\\n- Fallback Evaluation Rules: If a similar step identifies a different but still official and relevant scholarship page, evaluate based on URL relevance and authority.\\n- Evaluation Criteria:\\n  - Information Quality: URL must be official and directly related to scholarships.\\n  - Alignment with Requirements: Must correspond to E1 requirement.\\n  - Step Efficiency: Should be a single, clear URL without unnecessary multiple links.\\n  - Clarity of Expression: URL and page description should be clearly stated.\\n\\nStep 2: Access and read the content of the identified scholarship information page.\\n- Step Objective: Retrieve and understand the content of the identified scholarship webpage.\\n- Linked Requirements: E2 - Content of the scholarship page.\\n- Expected Input/Output: Input - URL from Step 1; Output - Textual content of the page.\\n- Failure Indicators: Content is incomplete, inaccessible, or irrelevant.\\n- Fallback Evaluation Rules: If content is partially retrieved or from a slightly different page, evaluate completeness and relevance.\\n- Evaluation Criteria:\\n  - Information Quality: Content must be accurate and comprehensive.\\n  - Alignment with Requirements: Must fulfill E2 content retrieval.\\n  - Step Efficiency: Content retrieval should be direct without unnecessary detours.\\n  - Clarity of Expression: Content should be clearly presented or summarized.\\n\\nStep 3: Evaluate whether the content provides comprehensive details about scholarship applications, including eligibility, deadlines, and application procedures.\\n- Step Objective: Assess sufficiency of the retrieved content regarding key scholarship application details.\\n- Linked Requirements: E3 - Sufficiency judgment.\\n- Expected Input/Output: Input - Content from Step 2; Output - Judgment on content sufficiency.\\n- Failure Indicators: Incorrect or vague sufficiency assessment.\\n- Fallback Evaluation Rules: Similar evaluations should consider completeness of key details.\\n- Evaluation Criteria:\\n  - Information Quality: Judgment must be based on thorough content analysis.\\n  - Alignment with Requirements: Must address eligibility, deadlines, and procedures.\\n  - Step Efficiency: Evaluation should be concise and focused.\\n  - Clarity of Expression: Judgment should be clearly stated with rationale.\\n\\nStep 4: If the content is insufficient, find and list hyperlinks on the page that may lead to more detailed scholarship application information.\\n- Step Objective: Identify additional resources or links for more detailed scholarship information.\\n- Linked Requirements: E4 - List of relevant links.\\n- Expected Input/Output: Input - Insufficient content judgment; Output - List of relevant hyperlinks.\\n- Failure Indicators: Irrelevant or no links provided despite insufficiency.\\n- Fallback Evaluation Rules: Alternative link lists should be relevant and lead to detailed info.\\n- Evaluation Criteria:\\n  - Information Quality: Links must be relevant and credible.\\n  - Alignment with Requirements: Must correspond to E4.\\n  - Step Efficiency: List should be concise and focused.\\n  - Clarity of Expression: Links should be clearly described.\\n\\nStep 5: Follow the most relevant link from Step 4 and read the new page content for additional scholarship application details.\\n- Step Objective: Retrieve additional scholarship information from the selected link.\\n- Linked Requirements: E5 - New page content.\\n- Expected Input/Output: Input - Selected link; Output - Content of the new page.\\n- Failure Indicators: Content is irrelevant, incomplete, or inaccessible.\\n- Fallback Evaluation Rules: If alternative links are followed, evaluate content relevance and completeness.\\n- Evaluation Criteria:\\n  - Information Quality: Content must add meaningful details.\\n  - Alignment with Requirements: Must fulfill E5.\\n  - Step Efficiency: Retrieval should be direct and purposeful.\\n  - Clarity of Expression: Content should be clearly presented.\\n\\nStep 6: Extract and compile the final information about scholarship applications, including eligibility criteria, required documents, deadlines, and application process.\\n- Step Objective: Produce a comprehensive summary of scholarship application information.\\n- Linked Requirements: E6 - Final compiled information.\\n- Expected Input/Output: Input - Content from Steps 2 and/or 5; Output - Clear, complete summary.\\n- Failure Indicators: Missing key details, unclear or disorganized summary.\\n- Fallback Evaluation Rules: Alternative compilations should cover all key aspects comprehensively.\\n- Evaluation Criteria:\\n  - Information Quality: Summary must be accurate, complete, and detailed.\\n  - Alignment with Requirements: Must address all required scholarship application elements.\\n  - Step Efficiency: Summary should be concise yet comprehensive.\\n  - Clarity of Expression: Information should be well-structured and easy to understand.\\n\\nThis rubric supports detailed evaluation of each plan step's execution quality and alignment with the user's task of gathering scholarship application information.\\n\", additional_kwargs={}, response_metadata={}, id='ca3f528d-d79a-4000-a22c-fcecc655138a'), AIMessage(content='', additional_kwargs={'tool_calls': [{'id': 'call_1s05sGoyhFItQ8GI8C6h1Qld', 'function': {'arguments': '{}', 'name': 'read_execution_chat_log'}, 'type': 'function'}], 'refusal': None}, response_metadata={'token_usage': {'completion_tokens': 13, 'prompt_tokens': 1516, 'total_tokens': 1529, 'completion_tokens_details': {'accepted_prediction_tokens': 0, 'audio_tokens': 0, 'reasoning_tokens': 0, 'rejected_prediction_tokens': 0}, 'prompt_tokens_details': {'audio_tokens': 0, 'cached_tokens': 0}}, 'model_name': 'gpt-4.1-mini-2025-04-14', 'system_fingerprint': 'fp_38647f5e19', 'id': 'chatcmpl-BPCHF9dIW4dV4zHWve8RmVKWa4MNG', 'finish_reason': 'tool_calls', 'logprobs': None}, id='run-9059b803-94c9-428d-8e94-efc4dd136fd5-0', tool_calls=[{'name': 'read_execution_chat_log', 'args': {}, 'id': 'call_1s05sGoyhFItQ8GI8C6h1Qld', 'type': 'tool_call'}], usage_metadata={'input_tokens': 1516, 'output_tokens': 13, 'total_tokens': 1529, 'input_token_details': {'audio': 0, 'cache_read': 0}, 'output_token_details': {'audio': 0, 'reasoning': 0}}), ToolMessage(content='executor:\\npast_steps: [(\\'Identify the most relevant National Central University website or webpage related to scholarships. #E1 = [URL of scholarship information page]\\', \\'#E1 = \"https://admission.ncu.edu.tw/zh-TW/article/co_20210819_015805\"\\\\n#E1 = \"https://admission.ncu.edu.tw/zh-TW/article/co_20210819_015805\"\\')]\\n\\nreplanner:\\nplan: [\\'Access and read the content of the identified scholarship information page at https://admission.ncu.edu.tw/zh-TW/article/co_20210819_015805.\\', \\'Evaluate whether the content provides comprehensive details about scholarship applications, including eligibility, deadlines, and application procedures.\\', \\'If the content is insufficient, find and list hyperlinks on the page that may lead to more detailed scholarship application information.\\', \\'Follow the most relevant link from the list and read the new page content for additional scholarship application details.\\', \\'Extract and compile the final information about scholarship applications, including eligibility criteria, required documents, deadlines, and application process.\\']\\n\\nexecutor:\\npast_steps: [(\\'Access and read the content of the identified scholarship information page at https://admission.ncu.edu.tw/zh-TW/article/co_20210819_015805.\\', \\'#E1 = {\\\\n  \"page_url\": \"https://admission.ncu.edu.tw/zh-TW/article/co_20210819_015805\",\\\\n  \"content_summary\": \"The page is titled \\\\\\'學士班入學獎學金\\\\\\' (Undergraduate Admission Scholarships) on the National Central University Admission Information website. It mentions scholarships for outstanding students with a 500,000 NTD scholarship, and specific scholarships for graduates from the affiliated high school (中大壢中學生) who are exempt from tuition and fees for the first academic year upon approval. There are links to PDF documents detailing the scholarship methods for both categories. The page also includes various navigation links related to admissions, scholarships, and other university resources. Contact information for the admissions office is provided at the bottom.\"\\\\n}\\\\n#E1 = {\\\\n  \"page_url\": \"https://admission.ncu.edu.tw/zh-TW/article/co_20210819_015805\",\\\\n  \"content\": \"The page provides information about undergraduate admission scholarships at National Central University. It highlights a 500,000 NTD scholarship for outstanding students and tuition exemption for graduates of the affiliated high school upon approval. There are links to PDF documents detailing the scholarship rules. The page includes navigation links to other scholarship categories and related admission information. Contact details for the admissions office are also listed.\"\\\\n}\\')]\\n\\nreplanner:\\nplan: [\\'Evaluate the PDF documents linked on the scholarship information page to extract detailed scholarship application information including eligibility criteria, required documents, deadlines, and application procedures.\\', \\'If the PDF documents do not provide sufficient information, scan the university homepage and admission navigation menus for other scholarship-related pages or announcements.\\', \\'Access and read any additional relevant pages found to gather comprehensive scholarship application details.\\', \\'Compile and present the final comprehensive information about scholarship applications including eligibility, required documents, deadlines, and application process.\\']\\n\\nexecutor:\\npast_steps: [(\\'Evaluate the PDF documents linked on the scholarship information page to extract detailed scholarship application information including eligibility criteria, required documents, deadlines, and application procedures.\\', \\'Error: The scholarship information page at https://www.university.edu/scholarships is inaccessible with HTTP status code 404. Therefore, I cannot evaluate the PDF documents linked on that page. Further steps should consider alternative sources or pages for scholarship information.\\')]\\n\\nreplanner:\\nplan: [\\'Scan the National Central University homepage and admission navigation menus for other scholarship-related pages or announcements, focusing on accessible links and keywords related to scholarships.\\', \\'Access and read any additional relevant scholarship pages found to gather comprehensive scholarship application details including eligibility, required documents, deadlines, and application procedures.\\', \\'Compile and present the final comprehensive information about scholarship applications including eligibility, required documents, deadlines, and application process.\\']\\n\\nexecutor:\\npast_steps: [(\\'Scan the National Central University homepage and admission navigation menus for other scholarship-related pages or announcements, focusing on accessible links and keywords related to scholarships.\\', \\'#E1 = The homepage of National Central University (https://www.ncu.edu.tw) was scanned for links. However, the links extracted from the homepage are not provided in the response. Please advise if you want me to attempt to extract links again or if you want me to proceed with a different approach.\\')]\\n\\nreplanner:\\nplan: [\"Scan the National Central University homepage (https://www.ncu.edu.tw) and its admission navigation menus carefully to identify any accessible and relevant scholarship-related pages or announcements, focusing on keywords such as \\'scholarship\\', \\'financial aid\\', and \\'application\\'.\", \\'Access and read the content of any newly found scholarship-related pages to gather comprehensive details about scholarship applications including eligibility criteria, required documents, deadlines, and application procedures.\\', \\'Compile and present the final comprehensive information about scholarship applications at National Central University, including eligibility, required documents, deadlines, and application process based on the newly gathered data.\\']\\n\\nexecutor:\\npast_steps: [(\"Scan the National Central University homepage (https://www.ncu.edu.tw) and its admission navigation menus carefully to identify any accessible and relevant scholarship-related pages or announcements, focusing on keywords such as \\'scholarship\\', \\'financial aid\\', and \\'application\\'.\", \\'I have scanned the National Central University homepage (https://www.ncu.edu.tw) and extracted the links. However, the extracted links list is empty, indicating that no links were found or accessible on the homepage at this time. This means I cannot identify any accessible and relevant scholarship-related pages or announcements from the homepage links directly.\\\\n\\\\nWould you like me to try reading the homepage content to search for scholarship-related keywords or try another approach?\\')]\\n\\nreplanner:\\nplan: [\\'Read the content of the National Central University homepage (https://www.ncu.edu.tw) to search for scholarship-related keywords and information that may not be linked explicitly in the navigation menus.\\', \\'If scholarship information is found on the homepage content, extract and compile details about scholarship applications including eligibility, required documents, deadlines, and application procedures.\\', \"If no sufficient scholarship information is found on the homepage, identify and access other authoritative sources such as the university\\'s financial aid office or contact the admissions office directly to obtain comprehensive scholarship application information.\", \\'Compile and present the final comprehensive information about scholarship applications at National Central University based on the gathered data from the homepage content or other authoritative sources.\\']\\n\\nexecutor:\\npast_steps: [(\\'Read the content of the National Central University homepage (https://www.ncu.edu.tw) to search for scholarship-related keywords and information that may not be linked explicitly in the navigation menus.\\', \\'#E1 = The content of the National Central University homepage (https://www.ncu.edu.tw) is very minimal and only contains the text \"國立中央大學\" (National Central University) without any detailed information or scholarship-related keywords. There is no visible scholarship information on the homepage content itself.\\')]\\n\\nreplanner:\\nplan: [\\'Contact the National Central University admissions or financial aid office directly via email or phone to request comprehensive information about scholarship applications, including eligibility, required documents, deadlines, and application procedures.\\', \\'Compile and present the final comprehensive information about scholarship applications at National Central University based on the data obtained from direct communication with the university offices.\\']\\n\\nexecutor:\\npast_steps: [(\\'Contact the National Central University admissions or financial aid office directly via email or phone to request comprehensive information about scholarship applications, including eligibility, required documents, deadlines, and application procedures.\\', \\'I am an executor agent designed to retrieve and analyze information from school websites and documents. I do not have the capability to contact university offices directly via email or phone. \\\\n\\\\nHowever, I can assist by searching the National Central University website for detailed information about scholarship applications, including eligibility, required documents, deadlines, and application procedures. Would you like me to proceed with that?\\')]\\n\\nreplanner:\\nplan: [\\'Search the National Central University website for any downloadable scholarship brochures, application forms, or official announcements that might contain detailed scholarship application information.\\', \\'If no sufficient information is found on the university website, search for external authoritative sources such as the Ministry of Education or scholarship databases in Taiwan that list scholarships available at National Central University.\\', \\'Compile and present the final comprehensive information about scholarship applications at National Central University based on the data obtained from the university website and/or external authoritative sources.\\']\\n\\nexecutor:\\npast_steps: [(\\'Search the National Central University website for any downloadable scholarship brochures, application forms, or official announcements that might contain detailed scholarship application information.\\', \\'#E1 = {\\\\n  \"scholarship_info_page\": \"http://military.ncu.edu.tw/scholarship.php\",\\\\n  \"summary\": \"The National Central University scholarship page lists various scholarships available to students, including amounts, number of recipients, and eligibility criteria. Examples include the Luo Jialun Memorial Scholarship for outstanding students, Zhu Shunyi Scholarship for academic and sports excellence, scholarships for low-income and disadvantaged students, leadership awards, and international service learning scholarships. The page also provides contact information for the student affairs office and mentions that some scholarships require submission of study plans and participation in counseling activities.\"\\\\n}\\\\nStep 1 completed. Found detailed scholarship information on the National Central University student affairs scholarship page: http://military.ncu.edu.tw/scholarship.php. It includes downloadable forms and descriptions of various scholarships, eligibility, amounts, and application notes. #E1 contains the link and summary.\\')]\\n\\nreplanner:\\nplan: [\\'Access and read the content of the National Central University student affairs scholarship page at http://military.ncu.edu.tw/scholarship.php to extract detailed scholarship application information including eligibility criteria, required documents, deadlines, and application procedures.\\', \\'Compile and present the final comprehensive information about scholarship applications at National Central University based on the data obtained from the student affairs scholarship page.\\']\\n\\nexecutor:\\npast_steps: [(\\'Access and read the content of the National Central University student affairs scholarship page at http://military.ncu.edu.tw/scholarship.php to extract detailed scholarship application information including eligibility criteria, required documents, deadlines, and application procedures.\\', \\'#E1 = {\\\\n  \"page_url\": \"http://military.ncu.edu.tw/scholarship.php\",\\\\n  \"content_summary\": \"The page lists various scholarships available at National Central University with details including scholarship names, amounts, number of recipients, and eligibility criteria. Examples include scholarships for outstanding students, low-income students, leadership awards, and specific departmental scholarships. Some scholarships require submission of a self-study plan, participation in counseling activities, and interviews with advisors. The page also mentions contact information for the student affairs office and suggests using Chrome or Firefox for best browsing experience.\",\\\\n  \"scholarship_details\": [\\\\n    {\\\\n      \"name\": \"National Central University Luo Jialun Memorial Scholarship\",\\\\n      \"amount\": 100000,\\\\n      \"recipients\": \"3 (undergraduate) + 3 (graduate)\",\\\\n      \"eligibility\": \"Sophomore or above undergraduate or second-year graduate students with financial need and excellence\"\\\\n    },\\\\n    {\\\\n      \"name\": \"National Central University Zhu Shunyi Cooperation Scholarship\",\\\\n      \"amount\": \"100000 (academic excellence) / 20000 (sports excellence)\",\\\\n      \"recipients\": \"10 (academic) / 5 (sports)\",\\\\n      \"eligibility\": \"Reward students with good conduct and outstanding academic or sports performance in junior year\"\\\\n    },\\\\n    {\\\\n      \"name\": \"National Central University Cai Lixing Scholarship\",\\\\n      \"amount\": \"100000 (outstanding leadership) up to 300000 (overseas study)\",\\\\n      \"recipients\": \"2 (leadership) / 8 (overseas study)\",\\\\n      \"eligibility\": \"Outstanding students with good conduct and academic performance, including leadership and overseas study scholarships\"\\\\n    },\\\\n    {\\\\n      \"name\": \"Fang Songren Alumni Scholarship\",\\\\n      \"amount\": 80000,\\\\n      \"recipients\": 3,\\\\n      \"eligibility\": \"Undergraduate students (indigenous, new residents) with excellence\"\\\\n    },\\\\n    {\\\\n      \"name\": \"National Central University Subsidy for Low-income Students Overseas Study Scholarship\",\\\\n      \"amount\": \"up to 500000 per year\",\\\\n      \"recipients\": 2,\\\\n      \"eligibility\": \"Undergraduate low-income, middle-low income, or special circumstances students for overseas exchange study\"\\\\n    },\\\\n    {\\\\n      \"name\": \"Li Guoding Memorial Scholarship\",\\\\n      \"amount\": 30000,\\\\n      \"recipients\": 10,\\\\n      \"eligibility\": \"Undergraduate sophomore or above with financial need and excellence\"\\\\n    },\\\\n    {\\\\n      \"name\": \"Shangquan Optical Fiber Education Scholarship\",\\\\n      \"amount\": 30000,\\\\n      \"recipients\": 10,\\\\n      \"eligibility\": \"Undergraduate students from Changhua area\"\\\\n    },\\\\n    {\\\\n      \"name\": \"National Central University Outstanding Student Scholarship\",\\\\n      \"amount\": 20000,\\\\n      \"recipients\": 60,\\\\n      \"eligibility\": \"Outstanding students, awarded once per semester\"\\\\n    },\\\\n    {\\\\n      \"name\": \"Encouragement Scholarship\",\\\\n      \"amount\": \"up to 10000\",\\\\n      \"recipients\": \"undetermined\",\\\\n      \"eligibility\": \"Financially needy outstanding students\"\\\\n    },\\\\n    {\\\\n      \"name\": \"National Central University Secure Study Support Plan Scholarship\",\\\\n      \"amount\": \"3000 per month during study period\",\\\\n      \"recipients\": 150,\\\\n      \"eligibility\": \"Low-income, middle-low income or special circumstances undergraduate students; requires submission of self-study plan, participation in 3 counseling activities, and 2 meetings with advisor; committee review required\"\\\\n    },\\\\n    {\\\\n      \"name\": \"Yin Xingsan Memorial Scholarship\",\\\\n      \"amount\": 25000,\\\\n      \"recipients\": 5,\\\\n      \"eligibility\": \"Financially needy outstanding undergraduate students\"\\\\n    },\\\\n    {\\\\n      \"name\": \"Mathematics Department First Alumni Scholarship\",\\\\n      \"amount\": 25000,\\\\n      \"recipients\": 3,\\\\n      \"eligibility\": \"Sophomore or above financially needy students; 2 for math department, 1 for other departments\"\\\\n    },\\\\n    {\\\\n      \"name\": \"National Central University Lin Deng Bifeng Memorial Scholarship\",\\\\n      \"amount\": 50000,\\\\n      \"recipients\": 2,\\\\n      \"eligibility\": \"Outstanding financially needy undergraduate students in Atmospheric Sciences Department, sophomore or above\"\\\\n    },\\\\n    {\\\\n      \"name\": \"National Central University Outstanding Student Leadership Award\",\\\\n      \"amount\": 20000,\\\\n      \"recipients\": 10,\\\\n      \"eligibility\": \"Encourages students with academic and group education excellence, active participation in team activities, and leadership cultivation\"\\\\n    },\\\\n    {\\\\n      \"name\": \"National Central University Jiande Outstanding Leadership Scholarship\",\\\\n      \"amount\": 100000,\\\\n      \"recipients\": 1,\\\\n      \"eligibility\": \"Selection and cultivation of outstanding leadership talents\"\\\\n    },\\\\n    {\\\\n      \"name\": \"National Central University Student Service Learning Excellence Scholarship\",\\\\n      \"amount\": \"10000 (individual) / 20000 (group)\",\\\\n      \"recipients\": \"undetermined\",\\\\n      \"eligibility\": \"Selection of outstanding individuals and teams in service learning\"\\\\n    },\\\\n    {\\\\n      \"name\": \"National Central University International Service Learning Scholarship\",\\\\n      \"amount\": \"25000 (Asia) / 35000 (other regions)\",\\\\n      \"recipients\": \"undetermined\",\\\\n      \"eligibility\": \"Selection of international volunteer service teams\"\\\\n    },\\\\n    {\\\\n      \"name\": \"National Central University Academic Excellence Book Award\",\\\\n      \"amount\": 5000,\\\\n      \"recipients\": \"undetermined\",\\\\n      \"eligibility\": \"Undergraduate students ranking in the top 5% of their class in the previous semester\"\\\\n    },\\\\n    {\\\\n      \"name\": \"Zhongda Academic Foundation Scholarships\",\\\\n      \"amount\": \"based on scholarship income\",\\\\n      \"recipients\": \"undetermined\",\\\\n      \"eligibility\": \"Awarded once per academic year\"\\\\n    },\\\\n    {\\\\n      \"name\": \"Dai Yun Gui Academic Foundation Scholarship\",\\\\n      \"amount\": 10000,\\\\n      \"recipients\": 2,\\\\n      \"eligibility\": \"Outstanding undergraduate students in Earth Sciences College\"\\\\n    },\\\\n    {\\\\n      \"name\": \"Academic Foundation Low-income Household Scholarship\",\\\\n      \"amount\": 5000,\\\\n      \"recipients\": \"undetermined\",\\\\n      \"eligibility\": \"Undergraduate low-income household students\"\\\\n    },\\\\n    {\\\\n      \"name\": \"Off-campus Rental Student Scholarship\",\\\\n      \"amount\": 3000,\\\\n      \"recipients\": 30,\\\\n      \"eligibility\": \"Must be a member of the \\\\\\'Landlord Association\\\\\\' rental housing; previous semester GPA above 75 with at least 3 courses, conduct score above 80, and passing all subjects\"\\\\n    }\\\\n  ],\\\\n  \"contact_info\": {\\\\n    \"office\": \"National Central University Student Affairs Office\",\\\\n    \"phone\": \"(03)4227151 #57212 (Security Center) #57220-57224\",\\\\n    \"security_hotline\": \"03-2805666, 0911-949-630\"\\\\n  }\\\\n}\\\\n#E1 = {\\\\n  \"page_url\": \"http://military.ncu.edu.tw/scholarship.php\",\\\\n  \"content_summary\": \"The page lists various scholarships available at National Central University with details including scholarship names, amounts, number of recipients, and eligibility criteria. Some scholarships require submission of a self-study plan, participation in counseling activities, and meetings with advisors. Contact information for the student affairs office is provided.\",\\\\n  \"scholarship_details\": [\\\\n    {\\\\n      \"name\": \"National Central University Luo Jialun Memorial Scholarship\",\\\\n      \"amount\": 100000,\\\\n      \"recipients\": \"3 (undergraduate) + 3 (graduate)\",\\\\n      \"eligibility\": \"Sophomore or above undergraduate or second-year graduate students with financial need and excellence\"\\\\n    },\\\\n    {\\\\n      \"name\": \"National Central University Zhu Shunyi Cooperation Scholarship\",\\\\n      \"amount\": \"100000 (academic excellence) / 20000 (sports excellence)\",\\\\n      \"recipients\": \"10 (academic) / 5 (sports)\",\\\\n      \"eligibility\": \"Reward students with good conduct and outstanding academic or sports performance in junior year\"\\\\n    },\\\\n    {\\\\n      \"name\": \"National Central University Cai Lixing Scholarship\",\\\\n      \"amount\": \"100000 (outstanding leadership) up to 300000 (overseas study)\",\\\\n      \"recipients\": \"2 (leadership) / 8 (overseas study)\",\\\\n      \"eligibility\": \"Outstanding students with good conduct and academic performance, including leadership and overseas study scholarships\"\\\\n    },\\\\n    {\\\\n      \"name\": \"Fang Songren Alumni Scholarship\",\\\\n      \"amount\": 80000,\\\\n      \"recipients\": 3,\\\\n      \"eligibility\": \"Undergraduate students (indigenous, new residents) with excellence\"\\\\n    },\\\\n    {\\\\n      \"name\": \"National Central University Subsidy for Low-income Students Overseas Study Scholarship\",\\\\n      \"amount\": \"up to 500000 per year\",\\\\n      \"recipients\": 2,\\\\n      \"eligibility\": \"Undergraduate low-income, middle-low income, or special circumstances students for overseas exchange study\"\\\\n    },\\\\n    {\\\\n      \"name\": \"Li Guoding Memorial Scholarship\",\\\\n      \"amount\": 30000,\\\\n      \"recipients\": 10,\\\\n      \"eligibility\": \"Undergraduate sophomore or above with financial need and excellence\"\\\\n    },\\\\n    {\\\\n      \"name\": \"Shangquan Optical Fiber Education Scholarship\",\\\\n      \"amount\": 30000,\\\\n      \"recipients\": 10,\\\\n      \"eligibility\": \"Undergraduate students from Changhua area\"\\\\n    },\\\\n    {\\\\n      \"name\": \"National Central University Outstanding Student Scholarship\",\\\\n      \"amount\": 20000,\\\\n      \"recipients\": 60,\\\\n      \"eligibility\": \"Outstanding students, awarded once per semester\"\\\\n    },\\\\n    {\\\\n      \"name\": \"Encouragement Scholarship\",\\\\n      \"amount\": \"up to 10000\",\\\\n      \"recipients\": \"undetermined\",\\\\n      \"eligibility\": \"Financially needy outstanding students\"\\\\n    },\\\\n    {\\\\n      \"name\": \"National Central University Secure Study Support Plan Scholarship\",\\\\n      \"amount\": \"3000 per month during study period\",\\\\n      \"recipients\": 150,\\\\n      \"eligibility\": \"Low-income, middle-low income or special circumstances undergraduate students; requires submission of self-study plan, participation in 3 counseling activities, and 2 meetings with advisor; committee review required\"\\\\n    },\\\\n    {\\\\n      \"name\": \"Yin Xingsan Memorial Scholarship\",\\\\n      \"amount\": 25000,\\\\n      \"recipients\": 5,\\\\n      \"eligibility\": \"Financially needy outstanding undergraduate students\"\\\\n    },\\\\n    {\\\\n      \"name\": \"Mathematics Department First Alumni Scholarship\",\\\\n      \"amount\": 25000,\\\\n      \"recipients\": 3,\\\\n      \"eligibility\": \"Sophomore or above financially needy students; 2 for math department, 1 for other departments\"\\\\n    },\\\\n    {\\\\n      \"name\": \"National Central University Lin Deng Bifeng Memorial Scholarship\",\\\\n      \"amount\": 50000,\\\\n      \"recipients\": 2,\\\\n      \"eligibility\": \"Outstanding financially needy undergraduate students in Atmospheric Sciences Department, sophomore or above\"\\\\n    },\\\\n    {\\\\n      \"name\": \"National Central University Outstanding Student Leadership Award\",\\\\n      \"amount\": 20000,\\\\n      \"recipients\": 10,\\\\n      \"eligibility\": \"Encourages students with academic and group education excellence, active participation in team activities, and leadership cultivation\"\\\\n    },\\\\n    {\\\\n      \"name\": \"National Central University Jiande Outstanding Leadership Scholarship\",\\\\n      \"amount\": 100000,\\\\n      \"recipients\": 1,\\\\n      \"eligibility\": \"Selection and cultivation of outstanding leadership talents\"\\\\n    },\\\\n    {\\\\n      \"name\": \"National Central University Student Service Learning Excellence Scholarship\",\\\\n      \"amount\": \"10000 (individual) / 20000 (group)\",\\\\n      \"recipients\": \"undetermined\",\\\\n      \"eligibility\": \"Selection of outstanding individuals and teams in service learning\"\\\\n    },\\\\n    {\\\\n      \"name\": \"National Central University International Service Learning Scholarship\",\\\\n      \"amount\": \"25000 (Asia) / 35000 (other regions)\",\\\\n      \"recipients\": \"undetermined\",\\\\n      \"eligibility\": \"Selection of international volunteer service teams\"\\\\n    },\\\\n    {\\\\n      \"name\": \"National Central University Academic Excellence Book Award\",\\\\n      \"amount\": 5000,\\\\n      \"recipients\": \"undetermined\",\\\\n      \"eligibility\": \"Undergraduate students ranking in the top 5% of their class in the previous semester\"\\\\n    },\\\\n    {\\\\n      \"name\": \"Zhongda Academic Foundation Scholarships\",\\\\n      \"amount\": \"based on scholarship income\",\\\\n      \"recipients\": \"undetermined\",\\\\n      \"eligibility\": \"Awarded once per academic year\"\\\\n    },\\\\n    {\\\\n      \"name\": \"Dai Yun Gui Academic Foundation Scholarship\",\\\\n      \"amount\": 10000,\\\\n      \"recipients\": 2,\\\\n      \"eligibility\": \"Outstanding undergraduate students in Earth Sciences College\"\\\\n    },\\\\n    {\\\\n      \"name\": \"Academic Foundation Low-income Household Scholarship\",\\\\n      \"amount\": 5000,\\\\n      \"recipients\": \"undetermined\",\\\\n      \"eligibility\": \"Undergraduate low-income household students\"\\\\n    },\\\\n    {\\\\n      \"name\": \"Off-campus Rental Student Scholarship\",\\\\n      \"amount\": 3000,\\\\n      \"recipients\": 30,\\\\n      \"eligibility\": \"Must be a member of the \\\\\\'Landlord Association\\\\\\' rental housing; previous semester GPA above 75 with at least 3 courses, conduct score above 80, and passing all subjects\"\\\\n    }\\\\n  ],\\\\n  \"contact_info\": {\\\\n    \"office\": \"National Central University Student Affairs Office\",\\\\n    \"phone\": \"(03)4227151 #57212 (Security Center) #57220-57224\",\\\\n    \"security_hotline\": \"03-2805666, 0911-949-630\"\\\\n  }\\\\n}\\')]\\n\\nreplanner:\\nplan: [\\'Compile and present the comprehensive information about scholarship applications at National Central University based on the detailed data obtained from the student affairs scholarship page at http://military.ncu.edu.tw/scholarship.php, including scholarship names, amounts, number of recipients, eligibility criteria, application requirements, and contact information.\\']\\n\\nexecutor:\\npast_steps: [(\\'Compile and present the comprehensive information about scholarship applications at National Central University based on the detailed data obtained from the student affairs scholarship page at http://military.ncu.edu.tw/scholarship.php, including scholarship names, amounts, number of recipients, eligibility criteria, application requirements, and contact information.\\', \\'#E1 = {\\\\n  \"scholarships\": [\\\\n    {\\\\n      \"name\": \"國立中央大學羅家倫校長紀念獎學金\",\\\\n      \"amount\": \"100000元/人\",\\\\n      \"number_of_recipients\": \"3 (大學部) + 3 (研究所)\",\\\\n      \"eligibility\": \"大二以上或碩二清寒優秀學生\",\\\\n      \"application_requirements\": \"Not explicitly stated\",\\\\n      \"contact_info\": \"國立中央大學生輔組 電話：(03)4227151 #57212 (校安中心) #57220-57224  校安專線03-2805666、0911-949-630\"\\\\n    },\\\\n    {\\\\n      \"name\": \"國立中央大學朱順一合勤獎學金\",\\\\n      \"amount\": \"100000元(學業優良) / 20000元(運動績優)\",\\\\n      \"number_of_recipients\": \"10 (學業優良) + 5 (運動績優)\",\\\\n      \"eligibility\": \"獎勵品行良好且學業或運動競賽表現優異之大三學生\",\\\\n      \"application_requirements\": \"Not explicitly stated\",\\\\n      \"contact_info\": \"Same as above\"\\\\n    },\\\\n    {\\\\n      \"name\": \"國立中央大學蔡力行先生獎學金\",\\\\n      \"amount\": \"100000元(傑出領導)至多300000元(出國研修)\",\\\\n      \"number_of_recipients\": \"2 (傑出領導) + 8 (出國研修)\",\\\\n      \"eligibility\": \"獎助品學兼優之大學部學生，包含傑出領導獎學金及優秀學生出國研修獎學金\",\\\\n      \"application_requirements\": \"Not explicitly stated\",\\\\n      \"contact_info\": \"Same as above\"\\\\n    },\\\\n    {\\\\n      \"name\": \"方頌仁校友獎學金\",\\\\n      \"amount\": \"80000元\",\\\\n      \"number_of_recipients\": \"3\",\\\\n      \"eligibility\": \"限大學部學生(原住民、新住民)優秀學生\",\\\\n      \"application_requirements\": \"Not explicitly stated\",\\\\n      \"contact_info\": \"Same as above\"\\\\n    },\\\\n    {\\\\n      \"name\": \"國立中央大學補助清寒學生出國研修獎學金\",\\\\n      \"amount\": \"1年至多50萬\",\\\\n      \"number_of_recipients\": \"2\",\\\\n      \"eligibility\": \"獎助大學部低收入戶、中低收入戶、特殊境遇家庭子女學生出國交換研修獎學金\",\\\\n      \"application_requirements\": \"Not explicitly stated\",\\\\n      \"contact_info\": \"Same as above\"\\\\n    },\\\\n    {\\\\n      \"name\": \"李國鼎先生紀念獎學金\",\\\\n      \"amount\": \"30000元\",\\\\n      \"number_of_recipients\": \"10\",\\\\n      \"eligibility\": \"限大學部大二以上清寒優秀學生\",\\\\n      \"application_requirements\": \"Not explicitly stated\",\\\\n      \"contact_info\": \"Same as above\"\\\\n    },\\\\n    {\\\\n      \"name\": \"上詮光纖興學獎學金\",\\\\n      \"amount\": \"30000元\",\\\\n      \"number_of_recipients\": \"10\",\\\\n      \"eligibility\": \"限彰化地區大學部學生\",\\\\n      \"application_requirements\": \"Not explicitly stated\",\\\\n      \"contact_info\": \"Same as above\"\\\\n    },\\\\n    {\\\\n      \"name\": \"國立中央大學優秀學生獎學金\",\\\\n      \"amount\": \"20000元\",\\\\n      \"number_of_recipients\": \"60\",\\\\n      \"eligibility\": \"本校優秀學生，每學期辦理一次\",\\\\n      \"application_requirements\": \"Not explicitly stated\",\\\\n      \"contact_info\": \"Same as above\"\\\\n    },\\\\n    {\\\\n      \"name\": \"勵學獎學金\",\\\\n      \"amount\": \"至多10000元\",\\\\n      \"number_of_recipients\": \"不定\",\\\\n      \"eligibility\": \"獎助本校清寒優秀學生\",\\\\n      \"application_requirements\": \"Not explicitly stated\",\\\\n      \"contact_info\": \"Same as above\"\\\\n    },\\\\n    {\\\\n      \"name\": \"國立中央大學安心就學支持計畫安心學習助學金\",\\\\n      \"amount\": \"學期間以每月3,000元為原則\",\\\\n      \"number_of_recipients\": \"150\",\\\\n      \"eligibility\": \"大學部之低收、中低收或特殊境遇家庭者優先，並需經委員會審查\",\\\\n      \"application_requirements\": \"1. 每學期辦理一次，須繳交自主學習計畫書、參與輔導活動3次、與導師晤談2次。\",\\\\n      \"contact_info\": \"Same as above\"\\\\n    },\\\\n    {\\\\n      \"name\": \"殷省三先生紀念獎助學金\",\\\\n      \"amount\": \"25000元\",\\\\n      \"number_of_recipients\": \"5\",\\\\n      \"eligibility\": \"獎助大學部清寒優秀學生\",\\\\n      \"application_requirements\": \"Not explicitly stated\",\\\\n      \"contact_info\": \"Same as above\"\\\\n    },\\\\n    {\\\\n      \"name\": \"數學系第一屆校友獎學金\",\\\\n      \"amount\": \"25000元\",\\\\n      \"number_of_recipients\": \"3\",\\\\n      \"eligibility\": \"獎助大二以上清寒學生，數學系2名，其餘科系1名\",\\\\n      \"application_requirements\": \"Not explicitly stated\",\\\\n      \"contact_info\": \"Same as above\"\\\\n    },\\\\n    {\\\\n      \"name\": \"國立中央大學林鄧碧鳳女士紀念獎學金\",\\\\n      \"amount\": \"50000元\",\\\\n      \"number_of_recipients\": \"2\",\\\\n      \"eligibility\": \"大氣系大學部二年級以上優秀清寒學生兩名\",\\\\n      \"application_requirements\": \"Not explicitly stated\",\\\\n      \"contact_info\": \"Same as above\"\\\\n    },\\\\n    {\\\\n      \"name\": \"國立中央大學學生傑出領導獎\",\\\\n      \"amount\": \"20000元\",\\\\n      \"number_of_recipients\": \"10\",\\\\n      \"eligibility\": \"鼓勵本校學生學業與群育並重，促進學生熱心參與團隊活動，培育傑出領導人才\",\\\\n      \"application_requirements\": \"Not explicitly stated\",\\\\n      \"contact_info\": \"Same as above\"\\\\n    },\\\\n    {\\\\n      \"name\": \"國立中央大學建德傑出領導獎學金\",\\\\n      \"amount\": \"100000元\",\\\\n      \"number_of_recipients\": \"1\",\\\\n      \"eligibility\": \"選拔培育本校優秀領導人才\",\\\\n      \"application_requirements\": \"Not explicitly stated\",\\\\n      \"contact_info\": \"Same as above\"\\\\n    },\\\\n    {\\\\n      \"name\": \"國立中央大學學生服務學習績優獎學金\",\\\\n      \"amount\": \"10,000元(個人) / 20,000元(團體)\",\\\\n      \"number_of_recipients\": \"不定\",\\\\n      \"eligibility\": \"遴選服務學習績優個人及團隊\",\\\\n      \"application_requirements\": \"Not explicitly stated\",\\\\n      \"contact_info\": \"Same as above\"\\\\n    },\\\\n    {\\\\n      \"name\": \"國立中央大學國際服務學習獎學金辦法\",\\\\n      \"amount\": \"25,000元(亞洲地區) / 35,000元(其他地區)\",\\\\n      \"number_of_recipients\": \"不定\",\\\\n      \"eligibility\": \"遴選國際志工服務團隊\",\\\\n      \"application_requirements\": \"Not explicitly stated\",\\\\n      \"contact_info\": \"Same as above\"\\\\n    },\\\\n    {\\\\n      \"name\": \"國立中央大學學業成績優良書卷獎\",\\\\n      \"amount\": \"5000元\",\\\\n      \"number_of_recipients\": \"不定\",\\\\n      \"eligibility\": \"大學部各班前一學期學業成績名列該班前百分之五之在學學生\",\\\\n      \"application_requirements\": \"Not explicitly stated\",\\\\n      \"contact_info\": \"Same as above\"\\\\n    },\\\\n    {\\\\n      \"name\": \"中大學術基金會各類獎學金\",\\\\n      \"amount\": \"依獎學金孳息\",\\\\n      \"number_of_recipients\": \"不定\",\\\\n      \"eligibility\": \"Not explicitly stated\",\\\\n      \"application_requirements\": \"每學年辦理一次\",\\\\n      \"contact_info\": \"Same as above\"\\\\n    },\\\\n    {\\\\n      \"name\": \"戴運軌學術基金會獎學金\",\\\\n      \"amount\": \"10000元\",\\\\n      \"number_of_recipients\": \"2\",\\\\n      \"eligibility\": \"地球科學學院大學部優秀學生\",\\\\n      \"application_requirements\": \"Not explicitly stated\",\\\\n      \"contact_info\": \"Same as above\"\\\\n    },\\\\n    {\\\\n      \"name\": \"學產基金會低收入戶助學金\",\\\\n      \"amount\": \"5000元\",\\\\n      \"number_of_recipients\": \"不定\",\\\\n      \"eligibility\": \"限大學部低收入戶學生申請\",\\\\n      \"application_requirements\": \"Not explicitly stated\",\\\\n      \"contact_info\": \"Same as above\"\\\\n    },\\\\n    {\\\\n      \"name\": \"校外賃居學生獎助學金\",\\\\n      \"amount\": \"3000元\",\\\\n      \"number_of_recipients\": \"30\",\\\\n      \"eligibility\": \"1.需為租賃「房東聯誼會」會員房舍之賃居生(由房東聯誼會查核)。2.前一學期學業成績平均75分以上(至少需修習3門以上課程)、操行成績80分以上，且各科成績均需及格。\",\\\\n      \"application_requirements\": \"Not explicitly stated\",\\\\n      \"contact_info\": \"Same as above\"\\\\n    }\\\\n  ],\\\\n  \"contact_info_general\": \"國立中央大學生輔組 電話：(03)4227151 #57212 (校安中心) #57220-57224  校安專線03-2805666、0911-949-630\"\\\\n}\\\\n{\\\\n  \"step\": 1,\\\\n  \"result\": {\\\\n    \"scholarships\": [\\\\n      {\\\\n        \"name\": \"國立中央大學羅家倫校長紀念獎學金\",\\\\n        \"amount\": \"100000元/人\",\\\\n        \"number_of_recipients\": \"3 (大學部) + 3 (研究所)\",\\\\n        \"eligibility\": \"大二以上或碩二清寒優秀學生\",\\\\n        \"application_requirements\": \"Not explicitly stated\"\\\\n      },\\\\n      {\\\\n        \"name\": \"國立中央大學朱順一合勤獎學金\",\\\\n        \"amount\": \"100000元(學業優良) / 20000元(運動績優)\",\\\\n        \"number_of_recipients\": \"10 (學業優良) + 5 (運動績優)\",\\\\n        \"eligibility\": \"獎勵品行良好且學業或運動競賽表現優異之大三學生\",\\\\n        \"application_requirements\": \"Not explicitly stated\"\\\\n      },\\\\n      {\\\\n        \"name\": \"國立中央大學蔡力行先生獎學金\",\\\\n        \"amount\": \"100000元(傑出領導)至多300000元(出國研修)\",\\\\n        \"number_of_recipients\": \"2 (傑出領導) + 8 (出國研修)\",\\\\n        \"eligibility\": \"獎助品學兼優之大學部學生，包含傑出領導獎學金及優秀學生出國研修獎學金\",\\\\n        \"application_requirements\": \"Not explicitly stated\"\\\\n      },\\\\n      {\\\\n        \"name\": \"方頌仁校友獎學金\",\\\\n        \"amount\": \"80000元\",\\\\n        \"number_of_recipients\": \"3\",\\\\n        \"eligibility\": \"限大學部學生(原住民、新住民)優秀學生\",\\\\n        \"application_requirements\": \"Not explicitly stated\"\\\\n      },\\\\n      {\\\\n        \"name\": \"國立中央大學補助清寒學生出國研修獎學金\",\\\\n        \"amount\": \"1年至多50萬\",\\\\n        \"number_of_recipients\": \"2\",\\\\n        \"eligibility\": \"獎助大學部低收入戶、中低收入戶、特殊境遇家庭子女學生出國交換研修獎學金\",\\\\n        \"application_requirements\": \"Not explicitly stated\"\\\\n      },\\\\n      {\\\\n        \"name\": \"李國鼎先生紀念獎學金\",\\\\n        \"amount\": \"30000元\",\\\\n        \"number_of_recipients\": \"10\",\\\\n        \"eligibility\": \"限大學部大二以上清寒優秀學生\",\\\\n        \"application_requirements\": \"Not explicitly stated\"\\\\n      },\\\\n      {\\\\n        \"name\": \"上詮光纖興學獎學金\",\\\\n        \"amount\": \"30000元\",\\\\n        \"number_of_recipients\": \"10\",\\\\n        \"eligibility\": \"限彰化地區大學部學生\",\\\\n        \"application_requirements\": \"Not explicitly stated\"\\\\n      },\\\\n      {\\\\n        \"name\": \"國立中央大學優秀學生獎學金\",\\\\n        \"amount\": \"20000元\",\\\\n        \"number_of_recipients\": \"60\",\\\\n        \"eligibility\": \"本校優秀學生，每學期辦理一次\",\\\\n        \"application_requirements\": \"Not explicitly stated\"\\\\n      },\\\\n      {\\\\n        \"name\": \"勵學獎學金\",\\\\n        \"amount\": \"至多10000元\",\\\\n        \"number_of_recipients\": \"不定\",\\\\n        \"eligibility\": \"獎助本校清寒優秀學生\",\\\\n        \"application_requirements\": \"Not explicitly stated\"\\\\n      },\\\\n      {\\\\n        \"name\": \"國立中央大學安心就學支持計畫安心學習助學金\",\\\\n        \"amount\": \"學期間以每月3,000元為原則\",\\\\n        \"number_of_recipients\": \"150\",\\\\n        \"eligibility\": \"大學部之低收、中低收或特殊境遇家庭者優先，並需經委員會審查\",\\\\n        \"application_requirements\": \"每學期辦理一次，須繳交自主學習計畫書、參與輔導活動3次、與導師晤談2次\"\\\\n      },\\\\n      {\\\\n        \"name\": \"殷省三先生紀念獎助學金\",\\\\n        \"amount\": \"25000元\",\\\\n        \"number_of_recipients\": \"5\",\\\\n        \"eligibility\": \"獎助大學部清寒優秀學生\",\\\\n        \"application_requirements\": \"Not explicitly stated\"\\\\n      },\\\\n      {\\\\n        \"name\": \"數學系第一屆校友獎學金\",\\\\n        \"amount\": \"25000元\",\\\\n        \"number_of_recipients\": \"3\",\\\\n        \"eligibility\": \"獎助大二以上清寒學生，數學系2名，其餘科系1名\",\\\\n        \"application_requirements\": \"Not explicitly stated\"\\\\n      },\\\\n      {\\\\n        \"name\": \"國立中央大學林鄧碧鳳女士紀念獎學金\",\\\\n        \"amount\": \"50000元\",\\\\n        \"number_of_recipients\": \"2\",\\\\n        \"eligibility\": \"大氣系大學部二年級以上優秀清寒學生兩名\",\\\\n        \"application_requirements\": \"Not explicitly stated\"\\\\n      },\\\\n      {\\\\n        \"name\": \"國立中央大學學生傑出領導獎\",\\\\n        \"amount\": \"20000元\",\\\\n        \"number_of_recipients\": \"10\",\\\\n        \"eligibility\": \"鼓勵本校學生學業與群育並重，促進學生熱心參與團隊活動，培育傑出領導人才\",\\\\n        \"application_requirements\": \"Not explicitly stated\"\\\\n      },\\\\n      {\\\\n        \"name\": \"國立中央大學建德傑出領導獎學金\",\\\\n        \"amount\": \"100000元\",\\\\n        \"number_of_recipients\": \"1\",\\\\n        \"eligibility\": \"選拔培育本校優秀領導人才\",\\\\n        \"application_requirements\": \"Not explicitly stated\"\\\\n      },\\\\n      {\\\\n        \"name\": \"國立中央大學學生服務學習績優獎學金\",\\\\n        \"amount\": \"10,000元(個人) / 20,000元(團體)\",\\\\n        \"number_of_recipients\": \"不定\",\\\\n        \"eligibility\": \"遴選服務學習績優個人及團隊\",\\\\n        \"application_requirements\": \"Not explicitly stated\"\\\\n      },\\\\n      {\\\\n        \"name\": \"國立中央大學國際服務學習獎學金辦法\",\\\\n        \"amount\": \"25,000元(亞洲地區) / 35,000元(其他地區)\",\\\\n        \"number_of_recipients\": \"不定\",\\\\n        \"eligibility\": \"遴選國際志工服務團隊\",\\\\n        \"application_requirements\": \"Not explicitly stated\"\\\\n      },\\\\n      {\\\\n        \"name\": \"國立中央大學學業成績優良書卷獎\",\\\\n        \"amount\": \"5000元\",\\\\n        \"number_of_recipients\": \"不定\",\\\\n        \"eligibility\": \"大學部各班前一學期學業成績名列該班前百分之五之在學學生\",\\\\n        \"application_requirements\": \"Not explicitly stated\"\\\\n      },\\\\n      {\\\\n        \"name\": \"中大學術基金會各類獎學金\",\\\\n        \"amount\": \"依獎學金孳息\",\\\\n        \"number_of_recipients\": \"不定\",\\\\n        \"eligibility\": \"Not explicitly stated\",\\\\n        \"application_requirements\": \"每學年辦理一次\"\\\\n      },\\\\n      {\\\\n        \"name\": \"戴運軌學術基金會獎學金\",\\\\n        \"amount\": \"10000元\",\\\\n        \"number_of_recipients\": \"2\",\\\\n        \"eligibility\": \"地球科學學院大學部優秀學生\",\\\\n        \"application_requirements\": \"Not explicitly stated\"\\\\n      },\\\\n      {\\\\n        \"name\": \"學產基金會低收入戶助學金\",\\\\n        \"amount\": \"5000元\",\\\\n        \"number_of_recipients\": \"不定\",\\\\n        \"eligibility\": \"限大學部低收入戶學生申請\",\\\\n        \"application_requirements\": \"Not explicitly stated\"\\\\n      },\\\\n      {\\\\n        \"name\": \"校外賃居學生獎助學金\",\\\\n        \"amount\": \"3000元\",\\\\n        \"number_of_recipients\": \"30\",\\\\n        \"eligibility\": \"需為租賃「房東聯誼會」會員房舍之賃居生(由房東聯誼會查核)，前一學期學業成績平均75分以上(至少需修習3門以上課程)、操行成績80分以上，且各科成績均需及格\",\\\\n        \"application_requirements\": \"Not explicitly stated\"\\\\n      }\\\\n    ],\\\\n    \"contact_info\": \"國立中央大學生輔組 電話：(03)4227151 #57212 (校安中心) #57220-57224  校安專線03-2805666、0911-949-630\"\\\\n  }\\\\n}\\')]\\n\\nreplanner:\\nresponse: I have compiled comprehensive information about scholarship applications at National Central University from the student affairs scholarship page at http://military.ncu.edu.tw/scholarship.php. This includes scholarship names, amounts, number of recipients, eligibility criteria, application requirements (where stated), and contact information for the student affairs office. If you would like, I can now present this detailed information to you.\\n\\n', name='read_execution_chat_log', id='00d1a8f9-6acc-42fa-8fc8-f28314925740', tool_call_id='call_1s05sGoyhFItQ8GI8C6h1Qld'), AIMessage(content=\"- Step ID or Summary: Identify the most relevant National Central University scholarship webpage\\n- Rubric Reference: Step 1\\n- Execution Summary: The execution team identified two URLs initially, one at admission.ncu.edu.tw which was relevant but later found inaccessible. Eventually, they found a detailed and official scholarship page at http://military.ncu.edu.tw/scholarship.php, which contained comprehensive scholarship information.\\n- Score: 1 (Fully Met)\\n- Justification: The final URL identified is an official National Central University page dedicated to scholarships, fulfilling the requirement for an official and relevant URL. The process was iterative but resulted in a clear, single URL with relevant content.\\n- Improvement Suggestions: The team could improve efficiency by verifying link accessibility earlier to avoid following inaccessible URLs.\\n\\n- Step ID or Summary: Access and read the content of the identified scholarship information page\\n- Rubric Reference: Step 2\\n- Execution Summary: The team accessed the page at http://military.ncu.edu.tw/scholarship.php and extracted detailed content including scholarship names, amounts, recipients, eligibility criteria, and contact information.\\n- Score: 1 (Fully Met)\\n- Justification: The content retrieved was comprehensive, accurate, and directly related to scholarship information, fulfilling the content retrieval requirement.\\n- Improvement Suggestions: None significant; the content was well summarized and relevant.\\n\\n- Step ID or Summary: Evaluate content sufficiency regarding scholarship application details\\n- Rubric Reference: Step 3\\n- Execution Summary: The team evaluated the initial scholarship page content and found it insufficient, as some linked PDFs were inaccessible. They then searched for alternative sources and eventually found a more detailed scholarship page.\\n- Score: 1 (Fully Met)\\n- Justification: The team correctly assessed the initial content as insufficient and took appropriate steps to find more comprehensive information, demonstrating thorough content analysis.\\n- Improvement Suggestions: The evaluation could have been more explicitly stated in the log, with a clear rationale summary.\\n\\n- Step ID or Summary: Find and list hyperlinks for more detailed scholarship information\\n- Rubric Reference: Step 4\\n- Execution Summary: After finding the initial page insufficient, the team scanned the university homepage and navigation menus but found no accessible relevant links. They then searched for downloadable brochures and alternative pages.\\n- Score: 0.5 (Partially Met)\\n- Justification: While the team attempted to find additional links, the list of hyperlinks was not clearly provided or described. The fallback approach was used effectively, but the step's output was not a clear list of relevant links.\\n- Improvement Suggestions: Provide a concise, clearly described list of relevant hyperlinks when the initial content is insufficient.\\n\\n- Step ID or Summary: Follow the most relevant link and read new page content\\n- Rubric Reference: Step 5\\n- Execution Summary: The team accessed the student affairs scholarship page at http://military.ncu.edu.tw/scholarship.php, which contained detailed scholarship information including eligibility, amounts, and application notes.\\n- Score: 1 (Fully Met)\\n- Justification: The content retrieved added meaningful and comprehensive details, fulfilling the requirement for additional scholarship information.\\n- Improvement Suggestions: None significant; the retrieval was direct and purposeful.\\n\\n- Step ID or Summary: Extract and compile final scholarship application information\\n- Rubric Reference: Step 6\\n- Execution Summary: The team compiled a detailed summary of scholarships including names, amounts, recipients, eligibility criteria, application requirements (where stated), and contact information.\\n- Score: 1 (Fully Met)\\n- Justification: The summary was comprehensive, accurate, and well-structured, covering all key scholarship application elements as required.\\n- Improvement Suggestions: Explicitly state application procedures if available to enhance completeness.\", additional_kwargs={'refusal': None}, response_metadata={'token_usage': {'completion_tokens': 754, 'prompt_tokens': 12046, 'total_tokens': 12800, 'completion_tokens_details': {'accepted_prediction_tokens': 0, 'audio_tokens': 0, 'reasoning_tokens': 0, 'rejected_prediction_tokens': 0}, 'prompt_tokens_details': {'audio_tokens': 0, 'cached_tokens': 0}}, 'model_name': 'gpt-4.1-mini-2025-04-14', 'system_fingerprint': 'fp_38647f5e19', 'id': 'chatcmpl-BPCHG5d0MWUQ4iKoI4A8rEs5usvm2', 'finish_reason': 'stop', 'logprobs': None}, id='run-d504159e-ae0e-45a8-bb67-6a037a9dab0d-0', usage_metadata={'input_tokens': 12046, 'output_tokens': 754, 'total_tokens': 12800, 'input_token_details': {'audio': 0, 'cache_read': 0}, 'output_token_details': {'audio': 0, 'reasoning': 0}})], 'structured_response': EvaluatorResponse(scores=[1.0, 1.0, 1.0, 0.5, 1.0, 1.0])}\n",
      "[1.0, 1.0, 1.0, 0.5, 1.0, 1.0]\n",
      "<class 'list'>\n",
      "<class 'float'>\n"
     ]
    }
   ],
   "source": [
    "print(response)\n",
    "print(response[\"structured_response\"].scores)\n",
    "print(type(response[\"structured_response\"].scores))\n",
    "print(type(response[\"structured_response\"].scores[0]))"
   ]
  },
  {
   "cell_type": "code",
   "execution_count": 35,
   "metadata": {},
   "outputs": [
    {
     "name": "stdout",
     "output_type": "stream",
     "text": [
      "0.4166666666666667\n"
     ]
    }
   ],
   "source": [
    "def compute_progress_rate(x: List[float]) -> float:\n",
    "    if not x:\n",
    "        return 0.0\n",
    "\n",
    "    K = len(x)\n",
    "    max_progress = 0.0\n",
    "\n",
    "    x_list = []\n",
    "    for i in range(len(x)):\n",
    "        temp_list = []\n",
    "        for j in range(len(x)):\n",
    "            if j <= i:\n",
    "                temp_list.append(x[j])\n",
    "            else:\n",
    "                temp_list.append(0)\n",
    "        x_list.append(temp_list)\n",
    "\n",
    "    for i in range(len(x_list)):\n",
    "        progress_i = sum(x_list[i]) / K\n",
    "        max_progress = max(max_progress, progress_i)\n",
    "\n",
    "    return max_progress\n",
    "\n",
    "x = [1, 1, 0.5, 0, 0, 0]\n",
    "\n",
    "subgoal_progress_reate = compute_progress_rate(x)\n",
    "print(subgoal_progress_reate)\n",
    "\n",
    "# x_list = []\n",
    "# for i in range(len(x)):\n",
    "#     temp_list = []\n",
    "#     for j in range(len(x)):\n",
    "#         if j <= i:\n",
    "#             temp_list.append(x[j])\n",
    "#         else:\n",
    "#             temp_list.append(0)\n",
    "#     x_list.append(temp_list)\n",
    "# print(x_list)"
   ]
  },
  {
   "cell_type": "code",
   "execution_count": null,
   "metadata": {},
   "outputs": [],
   "source": [
    "# # 查看調用工具情形\n",
    "# for message in response[\"messages\"]:\n",
    "#     print(message)\n",
    "#     if not message.content:\n",
    "#         for item in message:\n",
    "#             print(item)"
   ]
  },
  {
   "cell_type": "markdown",
   "metadata": {},
   "source": [
    "## Define Graph State"
   ]
  },
  {
   "cell_type": "code",
   "execution_count": null,
   "metadata": {},
   "outputs": [],
   "source": [
    "from typing_extensions import TypedDict\n",
    "\n",
    "class Evaluation(TypedDict):\n",
    "    input: str\n",
    "    rubric: str\n",
    "    result: str\n",
    "    judgment: str"
   ]
  },
  {
   "cell_type": "markdown",
   "metadata": {},
   "source": [
    "## Define Agent Node"
   ]
  },
  {
   "cell_type": "code",
   "execution_count": null,
   "metadata": {},
   "outputs": [],
   "source": [
    "async def critic_step(state: Evaluation):\n",
    "    response = await critic.ainvoke({\"messages\": [(\"user\", state[\"input\"])]})\n",
    "    state[\"rubric\"] = response[\"messages\"][-1].content # 儲存評估標準到state內\n",
    "    return {\n",
    "        \"rubric\": state[\"rubric\"],\n",
    "    }\n",
    "\n",
    "async def evaluator_step(state: Evaluation):\n",
    "    response = await evaluator.ainvoke({\"messages\": [(\"user\", state[\"rubric\"])]})\n",
    "    state[\"result\"] = response[\"messages\"][-1].content # 儲存評估結果到state內\n",
    "    return {\n",
    "        \"result\": state[\"result\"],\n",
    "    }"
   ]
  },
  {
   "cell_type": "markdown",
   "metadata": {},
   "source": [
    "## Create Graph"
   ]
  },
  {
   "cell_type": "code",
   "execution_count": null,
   "metadata": {},
   "outputs": [],
   "source": [
    "from langgraph.graph import StateGraph, START, END\n",
    "from IPython.display import Image, display\n",
    "\n",
    "evaluation_workflow = StateGraph(Evaluation)\n",
    "\n",
    "evaluation_workflow.add_node(\"critic\", critic_step)\n",
    "evaluation_workflow.add_node(\"evaluator\", evaluator_step)\n",
    "\n",
    "evaluation_workflow.add_edge(START, \"critic\")\n",
    "evaluation_workflow.add_edge(\"critic\", \"evaluator\")\n",
    "evaluation_workflow.add_edge(\"evaluator\", END)\n",
    "\n",
    "evaluation_app = evaluation_workflow.compile() # This compiles it into a LangChain Runnable, meaning you can use it as you would any other runnable"
   ]
  },
  {
   "cell_type": "code",
   "execution_count": null,
   "metadata": {},
   "outputs": [],
   "source": [
    "display(Image(evaluation_app.get_graph(xray=True).draw_mermaid_png()))"
   ]
  },
  {
   "cell_type": "markdown",
   "metadata": {},
   "source": [
    "## Run App"
   ]
  },
  {
   "cell_type": "code",
   "execution_count": null,
   "metadata": {},
   "outputs": [],
   "source": [
    "import time\n",
    "\n",
    "with open(\"Outputs/evaluation_chat_log.txt\", \"w\") as f:\n",
    "    f.write(\"\")\n",
    "\n",
    "def write_to_chat_log(content):\n",
    "    with open(\"Outputs/evaluation_chat_log.txt\", \"a\") as f:\n",
    "        f.write(content)\n",
    "\n",
    "# Please evaluate the performance of execution team.\n",
    "config = {\"recursion_limit\": 50}\n",
    "inputs = {\n",
    "    \"input\": \"Please evaluate the performance of execution team.\",\n",
    "}\n",
    "write_to_chat_log(f\"Evaluation Query:\\n{inputs['input']}\\n\\n\")\n",
    "\n",
    "start_time = time.time()\n",
    "async for event in evaluation_app.astream(inputs, config=config):\n",
    "    for agent, state in event.items():\n",
    "        if agent != \"__end__\":\n",
    "            write_to_chat_log(f\"{agent}:\\n\")\n",
    "\n",
    "            for key, value in state.items():\n",
    "                if (key != \"history\"):\n",
    "                    write_to_chat_log(f\"{key}: {value}\\n\")\n",
    "            \n",
    "            write_to_chat_log(\"\\n\")\n",
    "end_time = time.time()\n",
    "\n",
    "evaluation_time = end_time - start_time\n",
    "print(f\"Evaluation time: {evaluation_time:.2f} seconds\")"
   ]
  },
  {
   "cell_type": "markdown",
   "metadata": {},
   "source": [
    "# Evolution Team"
   ]
  },
  {
   "cell_type": "markdown",
   "metadata": {},
   "source": [
    "## Define Agents"
   ]
  },
  {
   "cell_type": "markdown",
   "metadata": {},
   "source": [
    "### Analyzer"
   ]
  },
  {
   "cell_type": "code",
   "execution_count": null,
   "metadata": {},
   "outputs": [],
   "source": [
    "# from langchain_openai import ChatOpenAI\n",
    "# from langchain_core.prompts import ChatPromptTemplate\n",
    "\n",
    "# analyzer_llm_config = agents_parameter[\"Analyzer\"][\"llm_config\"]\n",
    "# analyzer_system_prompt = agents_parameter[\"Analyzer\"][\"prompt\"]\n",
    "\n",
    "# analyzer_llm = ChatOpenAI(model=analyzer_llm_config[\"model\"], temperature=analyzer_llm_config[\"temperature\"])\n",
    "# analyzer_prompt = ChatPromptTemplate.from_template(analyzer_system_prompt)\n",
    "\n",
    "# analyzer = analyzer_prompt | analyzer_llm\n",
    "\n",
    "# print(\"analyzer_llm_config:\")\n",
    "# for key, value in analyzer_llm_config.items():\n",
    "#     print(f\"{key}: {value}\")\n",
    "# print(\"analyzer_system_prompt: \\n\" + analyzer_system_prompt)"
   ]
  },
  {
   "cell_type": "code",
   "execution_count": null,
   "metadata": {},
   "outputs": [],
   "source": [
    "from utils.factory import AgentFactory\n",
    "\n",
    "analyzer = AgentFactory.create_react_agent_with_yaml(\"Analyzer\")"
   ]
  },
  {
   "cell_type": "code",
   "execution_count": null,
   "metadata": {},
   "outputs": [],
   "source": [
    "# response = analyzer.invoke({\"messages\": [(\"user\", \"Please analyze the evaluation result of the execution team.\")]})"
   ]
  },
  {
   "cell_type": "code",
   "execution_count": null,
   "metadata": {},
   "outputs": [],
   "source": [
    "# print(response[\"messages\"][-1].content)"
   ]
  },
  {
   "cell_type": "markdown",
   "metadata": {},
   "source": [
    "### Prompt Optimizer"
   ]
  },
  {
   "cell_type": "code",
   "execution_count": null,
   "metadata": {},
   "outputs": [],
   "source": [
    "from utils.factory import AgentFactory\n",
    "from pydantic import BaseModel, Field\n",
    "\n",
    "class Optimization_Response(BaseModel):\n",
    "    \"\"\"Optimization response to user.\"\"\"\n",
    "    \n",
    "    updated_agent_system_prompt: str = Field(\n",
    "        description=\"The complete updated system prompt for the agent that is most responsible for the identified issue.\"\n",
    "    )\n",
    "\n",
    "prompt_optimizer = AgentFactory.create_react_agent_with_yaml(\"Prompt Optimizer\")"
   ]
  },
  {
   "cell_type": "code",
   "execution_count": null,
   "metadata": {},
   "outputs": [],
   "source": [
    "analysis = \"\"\"\n",
    "analysis: All steps in the evaluation report were scored as Fully Met. There are some improvement suggestions mentioned, but none indicate clear underperformance or partial fulfillment of the task. Therefore, I will analyze the improvement suggestions to see if any step shows clear room for improvement that warrants responsibility attribution.\n",
    "\n",
    "Step 1: URL identification was appropriate; suggestion is to justify URL choice more clearly. This is a Planner-related improvement.\n",
    "\n",
    "Step 2: Content extraction was relevant; suggestion is to summarize content relevance explicitly. This relates to Executor's communication of results.\n",
    "\n",
    "Step 3: Sufficiency assessment was accurate; suggestion is to state criteria explicitly. This is a Planner responsibility to define assessment criteria.\n",
    "\n",
    "Step 4: Relevant links identified; suggestion to avoid non-functional links. This is an Executor detail in link selection.\n",
    "\n",
    "Step 5: Redirecting search was efficient; suggestion to document rationale earlier. This relates to Replanner's decision-making transparency.\n",
    "\n",
    "Step 6: Final extraction accurate; suggestion to include direct citation. This is Executor's presentation of results.\n",
    "\n",
    "Additional replanning steps: Effective replanning; suggestion to document decision-making more explicitly. This is Replanner responsibility.\n",
    "\n",
    "Summary of improvement suggestions:\n",
    "- Planner: Justify URL choice, state sufficiency criteria explicitly\n",
    "- Executor: Summarize content relevance, avoid non-functional links, include citations\n",
    "- Replanner: Document replanning decisions more explicitly\n",
    "\n",
    "None of these suggestions indicate failure or partial fulfillment, only room for clearer communication and documentation.\n",
    "\n",
    "Hence, no step shows clear underperformance. The overall task outcome was successful with all steps fully met.\n",
    "\n",
    "Final judgment:\n",
    "- No agent caused underperformance.\n",
    "- Minor improvements are distributed among Planner, Executor, and Replanner.\n",
    "- Since the plan was solid and execution was correct, and replanning was effective, the overall responsibility is balanced.\n",
    "- If forced to select the primary responsible agent for minor improvements, the Planner could be highlighted for improving clarity in plan justification and assessment criteria.\n",
    "\n",
    "---\n",
    "\n",
    "**Primary Responsible Agent**: Planner  \n",
    "**Justification for Final Attribution**: The Planner could improve by explicitly justifying URL choices and clearly stating sufficiency criteria, which would enhance clarity and reduce ambiguity in the execution process. These foundational improvements would benefit the entire workflow.  \n",
    "**Summary of Issues**: Minor suggestions for clearer documentation and communication in plan justification, content relevance assessment, and replanning rationale; no failures or partial completions.\"\"\"\n",
    "# response = prompt_optimizer.invoke({\"messages\": [(\"user\", f\"Analysis: \\n{analysis}\")]})"
   ]
  },
  {
   "cell_type": "code",
   "execution_count": null,
   "metadata": {},
   "outputs": [],
   "source": [
    "# print(response[\"messages\"][-1].content)"
   ]
  },
  {
   "cell_type": "code",
   "execution_count": null,
   "metadata": {},
   "outputs": [],
   "source": [
    "# print(response)"
   ]
  },
  {
   "cell_type": "markdown",
   "metadata": {},
   "source": [
    "## Define Graph State"
   ]
  },
  {
   "cell_type": "code",
   "execution_count": null,
   "metadata": {},
   "outputs": [],
   "source": [
    "from typing_extensions import TypedDict\n",
    "\n",
    "class Evolution(TypedDict):\n",
    "    input: str\n",
    "    analysis: str\n",
    "    result: str\n",
    "    # updated_agent_system_prompt: str"
   ]
  },
  {
   "cell_type": "markdown",
   "metadata": {},
   "source": [
    "## Define Agent Node"
   ]
  },
  {
   "cell_type": "code",
   "execution_count": null,
   "metadata": {},
   "outputs": [],
   "source": [
    "async def analyze_step(state: Evolution):\n",
    "    response = await analyzer.ainvoke({\"messages\": [(\"user\", state[\"input\"])]})\n",
    "    return {\n",
    "        \"analysis\": response[\"messages\"][-1].content # 儲存分析結果到state內\n",
    "    }\n",
    "\n",
    "async def prompt_optimize_step(state: Evolution):\n",
    "    response = await prompt_optimizer.ainvoke({\"messages\": [(\"user\", state[\"analysis\"])]})\n",
    "    \n",
    "    return {\n",
    "        \"result\": response[\"messages\"][-1].content, # 儲存最終回覆到state內,\n",
    "        # \"updated_agent_system_prompt\": response[\"structured_response\"].updated_agent_system_prompt # 儲存更新過後的prompt到state內\n",
    "    }"
   ]
  },
  {
   "cell_type": "markdown",
   "metadata": {},
   "source": [
    "## Create Graph"
   ]
  },
  {
   "cell_type": "code",
   "execution_count": null,
   "metadata": {},
   "outputs": [],
   "source": [
    "from langgraph.graph import StateGraph, START, END\n",
    "from IPython.display import Image, display\n",
    "\n",
    "evolution_workflow = StateGraph(Evolution)\n",
    "\n",
    "evolution_workflow.add_node(\"analyzer\", analyze_step)\n",
    "evolution_workflow.add_node(\"prompt_optimizer\", prompt_optimize_step)\n",
    "\n",
    "evolution_workflow.add_edge(START, \"analyzer\")\n",
    "evolution_workflow.add_edge(\"analyzer\", \"prompt_optimizer\")\n",
    "evolution_workflow.add_edge(\"prompt_optimizer\", END)\n",
    "\n",
    "evolution_app = evolution_workflow.compile() # This compiles it into a LangChain Runnable, meaning you can use it as you would any other runnable"
   ]
  },
  {
   "cell_type": "code",
   "execution_count": null,
   "metadata": {},
   "outputs": [],
   "source": [
    "display(Image(evolution_app.get_graph(xray=True).draw_mermaid_png()))"
   ]
  },
  {
   "cell_type": "markdown",
   "metadata": {},
   "source": [
    "## Run App"
   ]
  },
  {
   "cell_type": "code",
   "execution_count": null,
   "metadata": {},
   "outputs": [],
   "source": [
    "import time\n",
    "\n",
    "with open(\"Outputs/evolution_chat_log.txt\", \"w\") as f:\n",
    "    f.write(\"\")\n",
    "\n",
    "def write_to_chat_log(content):\n",
    "    with open(\"Outputs/evolution_chat_log.txt\", \"a\") as f:\n",
    "        f.write(content)\n",
    "\n",
    "# Please analyze the evaluation result of the execution team.\n",
    "config = {\"recursion_limit\": 50}\n",
    "inputs = {\n",
    "    \"input\": \"Please analyze the evaluation result of the execution team.\",\n",
    "}\n",
    "write_to_chat_log(f\"Evolution Query:\\n{inputs['input']}\\n\\n\")\n",
    "\n",
    "start_time = time.time()\n",
    "async for event in evolution_app.astream(inputs, config=config):\n",
    "    for agent, state in event.items():\n",
    "        if agent != \"__end__\":\n",
    "            write_to_chat_log(f\"{agent}:\\n\")\n",
    "\n",
    "            for key, value in state.items():\n",
    "                if (key != \"history\"):\n",
    "                    write_to_chat_log(f\"{key}: {value}\\n\")\n",
    "            \n",
    "            write_to_chat_log(\"\\n\")\n",
    "end_time = time.time()\n",
    "\n",
    "evolution_time = end_time - start_time\n",
    "print(f\"Evolution time: {evolution_time:.2f} seconds\")"
   ]
  }
 ],
 "metadata": {
  "kernelspec": {
   "display_name": "langgraph_03_28_25",
   "language": "python",
   "name": "python3"
  },
  "language_info": {
   "codemirror_mode": {
    "name": "ipython",
    "version": 3
   },
   "file_extension": ".py",
   "mimetype": "text/x-python",
   "name": "python",
   "nbconvert_exporter": "python",
   "pygments_lexer": "ipython3",
   "version": "3.12.8"
  }
 },
 "nbformat": 4,
 "nbformat_minor": 2
}
