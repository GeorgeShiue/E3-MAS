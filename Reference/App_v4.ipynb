{
 "cells": [
  {
   "cell_type": "markdown",
   "metadata": {},
   "source": [
    "# 簡介"
   ]
  },
  {
   "cell_type": "markdown",
   "metadata": {},
   "source": [
    "* 目標\n",
    "    * Search Team重組\n",
    "    * 比較多個Agent和單一Agent的回覆準確度\n",
    "    * 讓Retriever可以對預處理資料做RAG\n",
    "    * Supevisor不再需要幫忙審視每個團隊各自的工作成果，只需負責工作調度\n",
    "* Search Team 重組\n",
    "    * 將Crawler的工作簡化為一個tool\n",
    "    * Summarizer先讀取網頁再判斷接著要總結內文還是丟連結\n",
    "    * Summarizer全部做完後再將總結內文回報給Supervisor"
   ]
  },
  {
   "cell_type": "markdown",
   "metadata": {},
   "source": [
    "# API Keys & LLM Models"
   ]
  },
  {
   "cell_type": "code",
   "execution_count": 3,
   "metadata": {},
   "outputs": [],
   "source": [
    "import os\n",
    "from dotenv import load_dotenv\n",
    "\n",
    "load_dotenv()\n",
    "api_key = os.getenv(\"API_KEY\")\n",
    "os.environ[\"OPENAI_API_KEY\"] = api_key"
   ]
  },
  {
   "cell_type": "code",
   "execution_count": 4,
   "metadata": {},
   "outputs": [],
   "source": [
    "from langchain_openai import ChatOpenAI\n",
    "\n",
    "model = ChatOpenAI(model=\"gpt-4o-mini\")\n",
    "llm = ChatOpenAI(model=\"gpt-4o-mini\")"
   ]
  },
  {
   "cell_type": "markdown",
   "metadata": {},
   "source": [
    "# Create Tools"
   ]
  },
  {
   "cell_type": "markdown",
   "metadata": {},
   "source": [
    "## Search"
   ]
  },
  {
   "cell_type": "code",
   "execution_count": 5,
   "metadata": {},
   "outputs": [],
   "source": [
    "import re\n",
    "import pdfplumber\n",
    "from io import BytesIO\n",
    "import requests\n",
    "from bs4 import BeautifulSoup\n",
    "from langchain_core.tools import tool\n",
    "from langchain_chroma import Chroma\n",
    "from langchain_openai import OpenAIEmbeddings\n",
    "\n",
    "@tool\n",
    "def none() -> None:\n",
    "    \"\"\"Return None.\"\"\"\n",
    "    return None\n",
    "\n",
    "@tool\n",
    "def website_info_retriever(query: str) -> str:\n",
    "    \"\"\"Perform RAG retrieval on the website dataset.\"\"\"\n",
    "    vectorstore = Chroma(\n",
    "        embedding_function=OpenAIEmbeddings(),\n",
    "        collection_name=\"ncu_office_websites\",\n",
    "        persist_directory=\"./Parse Websites v2/ncu_office_websites\"\n",
    "    )\n",
    "    website_retriever = vectorstore.as_retriever(search_type=\"similarity\", search_kwargs={\"k\": 5})\n",
    "    docs = website_retriever.invoke(query)\n",
    "    result = \"\"\n",
    "    for i in range(len(docs)):\n",
    "        link = docs[i].metadata.get(\"link\")\n",
    "        page_content = docs[i].page_content\n",
    "\n",
    "        print(\"link: \", link)\n",
    "        print(\"page_content: \", page_content)\n",
    "        result += \"link: \" + link + \"\\n\" + page_content + \"\\n\"\n",
    "    return result\n",
    "\n",
    "\n",
    "@tool\n",
    "def website_crawler(link: str, cur_title: str) -> list[dict]:\n",
    "    \"\"\"Takes url of a website and reads the HTML content of the website and then extracts all the links on that website.\"\"\"\n",
    "    extract_link = re.search(r'(https?://[^\\]]+)', link) # 使用正則表達式擷取連結\n",
    "    url = extract_link.group(1) if extract_link else None\n",
    "    \n",
    "    try: # 發送HTTP請求，獲取網頁內容\n",
    "        response = requests.get(url, timeout=1)\n",
    "        encoding = response.apparent_encoding\n",
    "        response.encoding = encoding\n",
    "    except requests.exceptions.RequestException as e:\n",
    "        print(f\"無法獲取 [{cur_title}]: [{url}] 。錯誤: {e}\")\n",
    "        return f\"無法獲取 [{cur_title}]: [{url}] 。錯誤: {e}\"\n",
    "\n",
    "    websites = []\n",
    "    result = \"\"\n",
    "    if response.status_code == 200: # 確保請求成功\n",
    "        page_content = response.text # 獲取頁面的HTML內容\n",
    "        soup = BeautifulSoup(page_content, 'html.parser')\n",
    "        links = soup.find_all('a') # 找到所有的<a>標籤，iframe有問題\n",
    "\n",
    "        # 提取每個<a>標籤的title和href屬性，並組織成列表\n",
    "        for link in links:\n",
    "            title = link.get_text(strip=True)  # 提取連結的文本作為標題\n",
    "            if title == '':  # 若標題為空，則跳過\n",
    "                continue\n",
    "\n",
    "            href = link.get('href') # 提取連結的href屬性\n",
    "            if href: # 確保href存在\n",
    "                final_url = \"\"\n",
    "                if 'http' in href:  # 如果href是完整的連結，直接使用\n",
    "                    final_url = href\n",
    "                else:\n",
    "                    postclitics = ['html', 'htm', 'asp', 'php', 'pdf', 'PDF']  # 定義可能的後綴類型\n",
    "                    url_postclitic = next((p for p in postclitics if p in url), \"\")  # 從url中找到匹配的後綴\n",
    "                    psotclitic = any(p in href for p in postclitics)  # 檢查href中是否有後綴\n",
    "\n",
    "                    # 如果href和url都有後綴，從url中去除最後的部分，否則使用原始url\n",
    "                    temp_url = re.sub(rf'/[^/]+\\.{url_postclitic}$', '', url) if psotclitic and url_postclitic else url\n",
    "                    href = '/' + href.lstrip('/')  # 確保href以單個斜杠開頭\n",
    "                    if temp_url.split('/')[-1] == href.split('/')[1]: # 處理相對連結\n",
    "                        temp_url = '/'.join(temp_url.split('/')[:-1])\n",
    "                    \n",
    "                    final_url = temp_url + href\n",
    "\n",
    "                try: # 檢查組合後的連結是否有效\n",
    "                    test_response = requests.get(final_url, timeout=1)\n",
    "                    encoding = test_response.apparent_encoding\n",
    "                    test_response.encoding = encoding\n",
    "                    if test_response.status_code == 200:\n",
    "                        # print(f\"成功獲取[{title}]: [{final_url}] ，加入資料中。\")\n",
    "                        websites.append({'title': title, 'link': final_url})  # 將完整連結加入資料中\n",
    "                    # else:\n",
    "                        # print(f\"無法獲取[{title}]: [{final_url}] ，不加入資料中。HTTP 狀態碼: {test_response.status_code}\")\n",
    "                except requests.exceptions.RequestException as e:\n",
    "                    print(f\"無法獲取[{title}]: [{final_url}] ，不加入資料中。錯誤: {e}\")\n",
    "\n",
    "        print(f\"成功獲取 [{cur_title}]: [{url}] 中共{len(websites)}個連結。\")\n",
    "        result = \"\\n\".join([f\"[{item['title']}]: [{item['link']}]\" for item in websites])\n",
    "    else:\n",
    "        # print(f\"無法獲取[{cur_title}]: [{url}] 。HTTP 狀態碼: {response.status_code}\")\n",
    "        return f\"無法獲取 [{cur_title}]: [{url}] 。HTTP 狀態碼: {response.status_code}\"\n",
    "    \n",
    "    return result\n",
    "\n",
    "@tool\n",
    "def website_reader(url: str) -> str:\n",
    "    \"\"\"Read the content of a website.\"\"\"\n",
    "    try: \n",
    "        response = requests.get(url)\n",
    "        encoding = response.apparent_encoding\n",
    "        response.encoding = encoding\n",
    "    except requests.exceptions.RequestException as e:\n",
    "        print(f\"無法獲取 [{url}] 。錯誤: {e}\")\n",
    "        return f\"無法獲取 [{url}] 。錯誤: {e}\"\n",
    "    \n",
    "    soup = BeautifulSoup(response.text, 'html.parser')\n",
    "    content = soup.get_text()\n",
    "    print(f\"成功讀取 [{url}] 並總結。\")\n",
    "\n",
    "    cleaned_content = \"\\n\".join([line for line in content.split(\"\\n\") if line.strip()])\n",
    "    return cleaned_content\n",
    "\n",
    "@tool\n",
    "def pdf_reader(url: str) -> str:\n",
    "    \"\"\"Read the content of a PDF file.\"\"\"\n",
    "    try: \n",
    "        response = requests.get(url)\n",
    "        encoding = response.apparent_encoding\n",
    "        response.encoding = encoding\n",
    "    except requests.exceptions.RequestException as e:\n",
    "        print(f\"無法獲取 [{url}] 。錯誤: {e}\")\n",
    "        return f\"無法獲取 [{url}] 。錯誤: {e}\"\n",
    "\n",
    "    # 檢查是否成功下載\n",
    "    if response.status_code == 200:\n",
    "        # 使用 BytesIO 將下載的內容轉為二進制流\n",
    "        pdf_file = BytesIO(response.content)\n",
    "        \n",
    "        with pdfplumber.open(pdf_file) as pdf:\n",
    "            pdf_text = \"\"\n",
    "            for page in pdf.pages:\n",
    "                pdf_text += page.extract_text()\n",
    "                \n",
    "        print(f\"成功讀取 [{url}] 並總結。\")\n",
    "        return pdf_text\n",
    "    else:\n",
    "        print(f\"下載失敗，HTTP 狀態碼: {response.status_code}\")\n",
    "        return f\"下載失敗，HTTP 狀態碼: {response.status_code}\""
   ]
  },
  {
   "cell_type": "markdown",
   "metadata": {},
   "source": [
    "## Selenium Controller"
   ]
  },
  {
   "cell_type": "code",
   "execution_count": 6,
   "metadata": {},
   "outputs": [
    {
     "name": "stdout",
     "output_type": "stream",
     "text": [
      "Error initializing Docker client: Error while fetching server API version: (2, 'CreateFile', '系統找不到指定的檔案。')\n"
     ]
    }
   ],
   "source": [
    "from utils.selenium_controller import SeleniumController\n",
    "\n",
    "selenium_controller = SeleniumController()\n",
    "account = \"111502026\"\n",
    "password = \"Georgeshiue1107\"\n",
    "\n",
    "@tool \n",
    "def create_browser(user_id: str) -> str:\n",
    "    \"\"\"Create a new browser session.\"\"\"\n",
    "    result = selenium_controller.create_browser(user_id)\n",
    "    return result\n",
    "\n",
    "@tool\n",
    "def screen_shot(user_id: str, file_path: str) -> str:\n",
    "    \"\"\"Take a screenshot of the current page and save it to the file path.\"\"\"\n",
    "    result = selenium_controller.screen_shot(user_id, file_path)\n",
    "    return result\n",
    "\n",
    "@tool\n",
    "def navigate(user_id: str, url: str) -> str:\n",
    "    \"\"\"Navigate to the specified URL.\"\"\"\n",
    "    result = selenium_controller.navigate(user_id, url)\n",
    "    return result\n",
    "\n",
    "@tool\n",
    "def get_html_content(user_id: str) -> str:\n",
    "    \"\"\"Get the HTML content of the current page.\"\"\"\n",
    "    result = selenium_controller.get_content(user_id)\n",
    "    return result\n",
    "\n",
    "@tool\n",
    "def input_text_with_label(user_id: str, label_text: str, text: str, privacy: str = \"None\") -> str:\n",
    "    \"\"\"\n",
    "    Inputs text into the input element specified by the text of the label for the given user_id.\n",
    "    Replace the text argument with the external information when the privacy parameter is not \"None\".\n",
    "    \"\"\"\n",
    "    if privacy == \"Account\":\n",
    "        text = account\n",
    "    if privacy == \"Password\":\n",
    "        text = password\n",
    "    result = selenium_controller.input_text_with_label(user_id, label_text, text, privacy)\n",
    "    return result\n",
    "\n",
    "@tool\n",
    "def input_text_with_name(user_id: str, name: str, text: str, privacy: str = \"None\") -> str:\n",
    "    \"\"\"\n",
    "    Inputs text into the input element specified by the text of the label for the given user_id.\n",
    "    Replace the text argument with the external information when the privacy parameter is not \"None\".\n",
    "    \"\"\"\n",
    "    if privacy == \"Account\":\n",
    "        text = account\n",
    "    if privacy == \"Password\":\n",
    "        text = password\n",
    "        print(\"password:\", text)\n",
    "    result = selenium_controller.input_text_with_name(user_id, name, text, privacy)\n",
    "    return result\n",
    "\n",
    "@tool\n",
    "def click_button_with_text(user_id: str, text: str) -> str:\n",
    "    \"\"\"Clicks the button specified by the Text for the given user_id.\"\"\"\n",
    "    result = selenium_controller.click_button_with_text(user_id, text)\n",
    "    return result\n",
    "\n",
    "@tool\n",
    "def click_input_with_label(user_id: str, label_text: str) -> str:\n",
    "    \"\"\"\n",
    "    Clicks the input specified by the text of the label for the given user_id.\n",
    "    Use case: clicking the checkbox with label.\n",
    "    \"\"\"\n",
    "    result = selenium_controller.click_input_with_label(user_id, label_text)\n",
    "    return result\n",
    "\n",
    "@tool\n",
    "def click_input_with_id(user_id: str, id: str) -> str:\n",
    "    \"\"\"\n",
    "    Clicks the input specified by the ID for the given user_id.\n",
    "    Use case: clicking the input box without label.\n",
    "    \"\"\"\n",
    "    result = selenium_controller.click_input_with_id(user_id, id)\n",
    "    return result\n",
    "\n",
    "@tool\n",
    "def select_dropdown_option(user_id: str, option_text: str) -> str:\n",
    "    \"\"\"Selects the dropdown option specified by its text for the given user_id.\"\"\"\n",
    "    result = selenium_controller.select_dropdown_option(user_id, option_text)\n",
    "    return result\n",
    "\n",
    "@tool\n",
    "def click_span_with_aria_label(user_id: str, aria_label: str, index: str = \"1\") -> str:\n",
    "    \"\"\"\n",
    "    Clicks the span specified by the Aria Label for the given user_id.\n",
    "    Use case: clicking date inside the calendar.\n",
    "    index: the index of the span element to click, set index value based on user's instruction such as \"第{index}個\".\n",
    "    \"\"\"\n",
    "    result = selenium_controller.click_span_with_aria_label(user_id, aria_label, int(index))\n",
    "    return result\n",
    "\n",
    "@tool\n",
    "def upload_file_with_id(user_id: str, id: str, file_path: str) -> str:\n",
    "    \"\"\"Uploads a file to the element specified by the ID for the given user_id.\"\"\"\n",
    "    selenium_controller.scroll_to_middle(user_id)\n",
    "    result = selenium_controller.upload_file_with_id(user_id, id, file_path)\n",
    "    return result"
   ]
  },
  {
   "cell_type": "markdown",
   "metadata": {},
   "source": [
    "## Define All Tools"
   ]
  },
  {
   "cell_type": "code",
   "execution_count": 7,
   "metadata": {},
   "outputs": [],
   "source": [
    "all_tools = {\n",
    "    'none': none, \n",
    "    'website_info_retriever': website_info_retriever, \n",
    "    'website_crawler': website_crawler, \n",
    "    'website_reader': website_reader, \n",
    "    'pdf_reader': pdf_reader,\n",
    "    'create_browser': create_browser,\n",
    "    'screen_shot': screen_shot,\n",
    "    'navigate': navigate,\n",
    "    'input_text_with_label': input_text_with_label,\n",
    "    'get_html_content': get_html_content,\n",
    "    'input_text_with_name': input_text_with_name,\n",
    "    'click_button_with_text': click_button_with_text,\n",
    "    'click_input_with_label': click_input_with_label,\n",
    "    'select_dropdown_option': select_dropdown_option,\n",
    "    'click_input_with_id': click_input_with_id,\n",
    "    'click_span_with_aria_label': click_span_with_aria_label,\n",
    "    'upload_file_with_id': upload_file_with_id\n",
    "}"
   ]
  },
  {
   "cell_type": "markdown",
   "metadata": {},
   "source": [
    "# Define Agent Basic Settings"
   ]
  },
  {
   "cell_type": "markdown",
   "metadata": {},
   "source": [
    "## Read Agent Parameter (yaml)"
   ]
  },
  {
   "cell_type": "code",
   "execution_count": 8,
   "metadata": {},
   "outputs": [],
   "source": [
    "import yaml\n",
    "\n",
    "# !注意yaml檔案版本\n",
    "with open('Agents_v4.yaml', 'r', encoding=\"utf-8\") as file:\n",
    "    agents_parameter = yaml.safe_load(file)"
   ]
  },
  {
   "cell_type": "markdown",
   "metadata": {},
   "source": [
    "## Define Agent Sate"
   ]
  },
  {
   "cell_type": "code",
   "execution_count": 9,
   "metadata": {},
   "outputs": [],
   "source": [
    "import operator\n",
    "from typing import Annotated, Sequence\n",
    "from typing_extensions import TypedDict\n",
    "from langchain_core.messages import BaseMessage\n",
    "from langchain_core.prompts import ChatPromptTemplate\n",
    "\n",
    "# The agent state is the input to each node in the graph\n",
    "class AgentState(TypedDict):\n",
    "    messages: Annotated[Sequence[BaseMessage], operator.add]\n",
    "    user_id: str\n",
    "    next: str\n",
    "\n",
    "# 定義modify_state_messages才可以讓agent帶有prompt模板\n",
    "basic_system_message = agents_parameter[\"workflow_basic\"][\"basic_system_message\"]\n",
    "def modify_state_messages(state, tools, system_message: str):\n",
    "    prompt = ChatPromptTemplate.from_messages(\n",
    "        [\n",
    "            (\"system\", basic_system_message), # basic_system_message裡有{tool_names}和{system_message}兩個placeholder\n",
    "            (\"placeholder\", \"{messages}\"),\n",
    "        ]\n",
    "    )\n",
    "    prompt = prompt.partial(system_message=system_message)\n",
    "    prompt = prompt.partial(tool_names=\", \".join([tool.name for tool in tools]))\n",
    "    return prompt.invoke({\"messages\": state[\"messages\"]})"
   ]
  },
  {
   "cell_type": "markdown",
   "metadata": {},
   "source": [
    "## Define Agent Node"
   ]
  },
  {
   "cell_type": "code",
   "execution_count": 10,
   "metadata": {},
   "outputs": [],
   "source": [
    "from langchain_core.messages import HumanMessage\n",
    "\n",
    "def pipeline_agent_node(state, agent, name):\n",
    "    state[\"messages\"][-1].content = \"user_id: \" + state[\"user_id\"] + \"\\n\" + state[\"messages\"][-1].content\n",
    "    result = agent.invoke(state)\n",
    "    # print(\"messages: \")\n",
    "    # print(state[\"messages\"])\n",
    "    # print(\"user_id: \" + state[\"user_id\"])\n",
    "    return {\"messages\": [HumanMessage(content=result[\"messages\"][-1].content, name=name)], \"user_id\": state[\"user_id\"]}\n",
    "\n",
    "def agent_node(state, agent, name):\n",
    "    result = agent.invoke(state)\n",
    "    # print(f\"Result type: {type(result)}\")\n",
    "    # print(f\"Result: {result}\")\n",
    "    # messages = result[\"messages\"]\n",
    "    # for message in messages:\n",
    "    #     print(f\"{type(message)}:\")\n",
    "    #     print(f\"{message.content}\")\n",
    "    #     print()\n",
    "    return {\"messages\": [HumanMessage(content=result[\"messages\"][-1].content, name=name)]}"
   ]
  },
  {
   "cell_type": "markdown",
   "metadata": {},
   "source": [
    "# Workflow Graph"
   ]
  },
  {
   "cell_type": "markdown",
   "metadata": {},
   "source": [
    "## Create Workflow Agents"
   ]
  },
  {
   "cell_type": "code",
   "execution_count": 11,
   "metadata": {},
   "outputs": [],
   "source": [
    "import functools\n",
    "from langgraph.prebuilt import create_react_agent\n",
    "\n",
    "# Retriever\n",
    "tools = [all_tools[name] for name in agents_parameter['retriever']['tools']]\n",
    "system_message = agents_parameter['retriever']['system_message']\n",
    "retriever = create_react_agent(llm, tools=tools, state_modifier=functools.partial(modify_state_messages, tools=tools, system_message=system_message))\n",
    "retriever_node = functools.partial(agent_node, agent=retriever, name=\"Retriever\")\n",
    "\n",
    "# Summarizer\n",
    "tools = [all_tools[name] for name in agents_parameter['summarizer']['tools']]\n",
    "system_message = agents_parameter['summarizer']['system_message']\n",
    "summarizer = create_react_agent(llm, tools=tools, state_modifier=functools.partial(modify_state_messages, tools=tools, system_message=system_message))\n",
    "summarizer_node = functools.partial(agent_node, agent=summarizer, name=\"Summarizer\")"
   ]
  },
  {
   "cell_type": "markdown",
   "metadata": {},
   "source": [
    "## Create Supervisor"
   ]
  },
  {
   "cell_type": "code",
   "execution_count": 12,
   "metadata": {},
   "outputs": [],
   "source": [
    "from langchain_core.prompts import ChatPromptTemplate, MessagesPlaceholder\n",
    "from pydantic import BaseModel\n",
    "from typing import Literal\n",
    "\n",
    "members = [\"Retriever\", \"Summarizer\"]\n",
    "options = [\"FINISH\"] + members\n",
    "\n",
    "class routeResponse(BaseModel):\n",
    "    next: Literal[\"Retriever\", \"Summarizer\", \"FINISH\"]\n",
    "\n",
    "system_prompt = agents_parameter['supervisor']['system_prompt']\n",
    "decide_logic = agents_parameter['supervisor']['decide_logic']\n",
    "prompt = ChatPromptTemplate.from_messages(\n",
    "    [\n",
    "        (\"system\", system_prompt),\n",
    "        MessagesPlaceholder(variable_name=\"messages\"),\n",
    "        (\"system\", decide_logic),\n",
    "    ]\n",
    ").partial(options=str(options), members=\", \".join(members))\n",
    "\n",
    "def supervisor_agent(state):\n",
    "    supervisor_chain = prompt | llm.with_structured_output(routeResponse)\n",
    "    return supervisor_chain.invoke(state)"
   ]
  },
  {
   "cell_type": "markdown",
   "metadata": {},
   "source": [
    "## Define Retriever Graph"
   ]
  },
  {
   "cell_type": "code",
   "execution_count": 13,
   "metadata": {},
   "outputs": [],
   "source": [
    "from langgraph.graph import StateGraph\n",
    "from langgraph.graph import END, START\n",
    "from langgraph.checkpoint.memory import MemorySaver\n",
    "\n",
    "retriever_ = StateGraph(AgentState)\n",
    "retriever_.add_node(\"Retriever\", retriever_node)\n",
    "\n",
    "retriever_.add_edge(START, \"Retriever\")\n",
    "retriever_.add_edge(\"Retriever\", END)\n",
    "\n",
    "retriever_memory = MemorySaver()\n",
    "retriever_graph = retriever_.compile(checkpointer=retriever_memory)"
   ]
  },
  {
   "cell_type": "code",
   "execution_count": 14,
   "metadata": {},
   "outputs": [
    {
     "data": {
      "image/jpeg": "[encoded data removed]",
      "text/plain": [
       "<IPython.core.display.Image object>"
      ]
     },
     "metadata": {},
     "output_type": "display_data"
    }
   ],
   "source": [
    "from IPython.display import Image, display\n",
    "\n",
    "display(Image(retriever_graph.get_graph(xray=1).draw_mermaid_png()))"
   ]
  },
  {
   "cell_type": "markdown",
   "metadata": {},
   "source": [
    "### Invoke"
   ]
  },
  {
   "cell_type": "code",
   "execution_count": 15,
   "metadata": {},
   "outputs": [],
   "source": [
    "# Invoke service graph\n",
    "# 請給我教務處的最新消息\n",
    "# 請給我教務長的姓名\n",
    "# 請簡介111教務章則的內容\n",
    "# https://pdc.adm.ncu.edu.tw 請總結最新消息\n",
    "# https://pdc.adm.ncu.edu.tw 請總結111教務章則內容\n",
    "# https://pdc.adm.ncu.edu.tw/register/rule/rule_01.pdf 請總結此文件內容\n",
    "# query = input()\n",
    "# input_messages = {\"messages\": [HumanMessage(content=query)]}\n",
    "# thread_id = \"123\"\n",
    "# config = {\n",
    "#     \"recursion_limit\": 50, # agent彼此間的最大交互次數\n",
    "#     \"configurable\": {\n",
    "#         \"thread_id\": \"retriever\" + thread_id # 用來存取記憶的id\n",
    "#     }\n",
    "# }\n",
    "\n",
    "# for chunk in retriever_graph.stream(input=input_messages, config=config, subgraphs=True, stream_mode=\"values\"):\n",
    "#     chunk[1][\"messages\"][-1].pretty_print()"
   ]
  },
  {
   "cell_type": "markdown",
   "metadata": {},
   "source": [
    "## Define Summarizer Graph"
   ]
  },
  {
   "cell_type": "code",
   "execution_count": 16,
   "metadata": {},
   "outputs": [],
   "source": [
    "from langgraph.graph import StateGraph\n",
    "from langgraph.graph import END, START\n",
    "from langgraph.checkpoint.memory import MemorySaver\n",
    "\n",
    "summarizer_ = StateGraph(AgentState)\n",
    "summarizer_.add_node(\"Summarizer\", summarizer_node)\n",
    "\n",
    "summarizer_.add_edge(START, \"Summarizer\")\n",
    "summarizer_.add_edge(\"Summarizer\", END)\n",
    "\n",
    "summarizer_memory = MemorySaver()\n",
    "summarizer_graph = summarizer_.compile(checkpointer=retriever_memory)"
   ]
  },
  {
   "cell_type": "code",
   "execution_count": 17,
   "metadata": {},
   "outputs": [
    {
     "data": {
      "image/jpeg": "[encoded data removed]",
      "text/plain": [
       "<IPython.core.display.Image object>"
      ]
     },
     "metadata": {},
     "output_type": "display_data"
    }
   ],
   "source": [
    "from IPython.display import Image, display\n",
    "\n",
    "display(Image(summarizer_graph.get_graph(xray=1).draw_mermaid_png()))"
   ]
  },
  {
   "cell_type": "markdown",
   "metadata": {},
   "source": [
    "### Invoke"
   ]
  },
  {
   "cell_type": "code",
   "execution_count": 18,
   "metadata": {},
   "outputs": [],
   "source": [
    "# Invoke service graph\n",
    "# 請給我教務處的最新消息\n",
    "# 請給我教務長的姓名\n",
    "# 請簡介111教務章則的內容\n",
    "# https://pdc.adm.ncu.edu.tw 請總結最新消息\n",
    "# https://pdc.adm.ncu.edu.tw 請總結111教務章則內容\n",
    "# https://pdc.adm.ncu.edu.tw/register/rule/rule_01.pdf 請總結此文件內容\n",
    "# query = input()\n",
    "# input_messages = {\"messages\": [HumanMessage(content=query)]}\n",
    "# thread_id = \"123\"\n",
    "# config = {\n",
    "#     \"recursion_limit\": 50, # agent彼此間的最大交互次數\n",
    "#     \"configurable\": {\n",
    "#         \"thread_id\": \"summarizer\" + thread_id # 用來存取記憶的id\n",
    "#     }\n",
    "# }\n",
    "\n",
    "# for chunk in summarizer_graph.stream(input=input_messages, config=config, subgraphs=True, stream_mode=\"values\"):\n",
    "#     chunk[1][\"messages\"][-1].pretty_print()\n",
    "    # agents = [\"Retriever\", \"Search Team\", \"Supervisor\", \"Service\"]\n",
    "    # current_agent = None\n",
    "    # message = None\n",
    "\n",
    "    # for agent in agents:\n",
    "    #     if agent in s[1]:\n",
    "    #         current_agent = agent\n",
    "    #         if agent == \"Supervisor\":\n",
    "    #             message = s[1][agent].get('next', [])\n",
    "    #         else:\n",
    "    #             messages = s[1][agent].get('messages', [])\n",
    "    #             message = messages[-1].content if messages else None\n",
    "    #         break\n",
    "    \n",
    "    # if message:\n",
    "    #     print(current_agent + \": \" + message)\n",
    "    #     print(\"----\")"
   ]
  },
  {
   "cell_type": "markdown",
   "metadata": {},
   "source": [
    "## Define Workflow Graph"
   ]
  },
  {
   "cell_type": "code",
   "execution_count": 19,
   "metadata": {},
   "outputs": [],
   "source": [
    "from langgraph.graph import StateGraph\n",
    "from langgraph.graph import END, START\n",
    "from langgraph.checkpoint.memory import MemorySaver\n",
    "\n",
    "thread_id = \"123456789\" #!!! Thread id 要各自分開!!!!!\n",
    "\n",
    "def call_retriever_graph(state: AgentState) -> AgentState:\n",
    "    retriever_graph_input = {\"messages\": state[\"messages\"][-1:]} # 只傳入狀態消息中的最後一則訊息\n",
    "    print()\n",
    "    print(\"retreirver_graph_input: \")\n",
    "    print(retriever_graph_input)\n",
    "    config={\n",
    "        \"recursion_limit\": 10, # agent彼此間的最大交互次數\n",
    "        \"configurable\": {\n",
    "            \"thread_id\": \"retriever\" + thread_id # 用來存取記憶的id\n",
    "        }\n",
    "    }\n",
    "    print(\"Thread id: \", \"retriever\" + thread_id)\n",
    "    retriever_graph_output = retriever_graph.invoke(retriever_graph_input, config=config)\n",
    "    print(\"output: \") \n",
    "    print(retriever_graph_output[\"messages\"])\n",
    "    print()\n",
    "    return {\"messages\": retriever_graph_output[\"messages\"][-1:]} # 回傳狀態中的最後一則訊息\n",
    "\n",
    "def call_summarizer_graph(state: AgentState) -> AgentState:\n",
    "    summarizer_graph_input = {\"messages\": state[\"messages\"][-2:]} # 只傳入狀態消息中的最後兩則訊息\n",
    "    print()\n",
    "    print(\"summarizer_graph_input: \")\n",
    "    print(summarizer_graph_input)\n",
    "    config={\n",
    "        \"recursion_limit\": 50, # agent彼此間的最大交互次數\n",
    "        \"configurable\": {\n",
    "            \"thread_id\": \"summarizer\" + thread_id # 用來存取記憶的id\n",
    "        }\n",
    "    }\n",
    "    print(\"Thread id: \", \"summarizer\" + thread_id)\n",
    "    summarizer_graph_output = summarizer_graph.invoke(summarizer_graph_input, config=config)\n",
    "    print(\"output: \")\n",
    "    print(summarizer_graph_output[\"messages\"])\n",
    "    print()\n",
    "    return {\"messages\": summarizer_graph_output[\"messages\"][-1:]} # 回傳狀態中的最後一則訊息\n",
    "\n",
    "\n",
    "workflow = StateGraph(AgentState)\n",
    "workflow.add_node(\"Retriever\", call_retriever_graph)\n",
    "workflow.add_node(\"Summarizer\", call_summarizer_graph)\n",
    "workflow.add_node(\"Supervisor\", supervisor_agent)\n",
    "\n",
    "for member in members:\n",
    "    workflow.add_edge(member, \"Supervisor\")\n",
    "# The supervisor populates the \"next\" field in the graph state which routes to a node or finishes\n",
    "conditional_map = {k: k for k in members}\n",
    "conditional_map[\"FINISH\"] = END\n",
    "workflow.add_conditional_edges(\"Supervisor\", lambda x: x[\"next\"], conditional_map)\n",
    "workflow.add_edge(START, \"Supervisor\")\n",
    "\n",
    "workflow_memory = MemorySaver() # 記錄整個graph的記憶\n",
    "workflow_graph = workflow.compile(checkpointer=workflow_memory)"
   ]
  },
  {
   "cell_type": "code",
   "execution_count": 20,
   "metadata": {},
   "outputs": [
    {
     "data": {
      "image/jpeg": "[encoded data removed]",
      "text/plain": [
       "<IPython.core.display.Image object>"
      ]
     },
     "metadata": {},
     "output_type": "display_data"
    }
   ],
   "source": [
    "from IPython.display import Image, display\n",
    "\n",
    "display(Image(workflow_graph.get_graph(xray=1).draw_mermaid_png()))"
   ]
  },
  {
   "cell_type": "markdown",
   "metadata": {},
   "source": [
    "### Invoke"
   ]
  },
  {
   "cell_type": "code",
   "execution_count": 21,
   "metadata": {},
   "outputs": [],
   "source": [
    "# 請給我教務處的最新消息\n",
    "# 請給我教務長的姓名\n",
    "# 請總結111教務章則的內容\n",
    "# query = input()\n",
    "# input_messages = {\"messages\": [HumanMessage(content=query)]}\n",
    "# thread_id = \"456\"\n",
    "# config = {\n",
    "#     \"recursion_limit\": 100, # agent彼此間的最大交互次數\n",
    "#     \"configurable\": {\n",
    "#         \"thread_id\": \"workflow\" + thread_id # 用來存取記憶的id\n",
    "#     }\n",
    "# }\n",
    "\n",
    "# for chunk in workflow_graph.stream(input=input_messages, config=config, subgraphs=True, stream_mode=\"values\"):\n",
    "#     chunk[1][\"messages\"][-1].pretty_print()"
   ]
  },
  {
   "cell_type": "markdown",
   "metadata": {},
   "source": [
    "# Service Graph"
   ]
  },
  {
   "cell_type": "markdown",
   "metadata": {},
   "source": [
    "## Create Service"
   ]
  },
  {
   "cell_type": "code",
   "execution_count": 22,
   "metadata": {},
   "outputs": [],
   "source": [
    "import functools\n",
    "import operator\n",
    "from typing import Annotated, Sequence\n",
    "from typing_extensions import TypedDict\n",
    "from langchain_core.messages import BaseMessage\n",
    "from langgraph.prebuilt import create_react_agent\n",
    "\n",
    "# !定義modify_state_messages才可以讓agent帶有prompt模板\n",
    "def modify_service_state_messages(state: AgentState, system_message: str):\n",
    "    prompt = ChatPromptTemplate.from_messages(\n",
    "        [\n",
    "            (\"system\", system_message),\n",
    "            (\"placeholder\", \"{messages}\"),\n",
    "        ]\n",
    "    )\n",
    "    return prompt.invoke({\"messages\": state[\"messages\"]})\n",
    "\n",
    "system_message = agents_parameter['service']['system_message']\n",
    "service = create_react_agent(llm, tools = [none], state_modifier = functools.partial(modify_service_state_messages, system_message=system_message))\n",
    "service_node = functools.partial(agent_node, agent=service, name=\"Service\")"
   ]
  },
  {
   "cell_type": "markdown",
   "metadata": {},
   "source": [
    "## Define Service Graph"
   ]
  },
  {
   "cell_type": "code",
   "execution_count": 23,
   "metadata": {},
   "outputs": [],
   "source": [
    "from langgraph.graph import StateGraph\n",
    "from langgraph.graph import END, START\n",
    "from langgraph.checkpoint.memory import MemorySaver\n",
    "from typing import Literal\n",
    "\n",
    "def start_end_router(state) -> Literal[\"Start\", \"End\"]:\n",
    "    messages = state[\"messages\"]\n",
    "    last_message = messages[-1]\n",
    "\n",
    "    if \"START Workflow\" in last_message.content:\n",
    "        return \"Start\"\n",
    "    \n",
    "    return \"End\"\n",
    "\n",
    "def call_workflow_graph(state: AgentState) -> AgentState:\n",
    "    workflow_graph_input = {\"messages\": state[\"messages\"][-2:]}\n",
    "    print()\n",
    "    print(\"workflow_graph_input: \")\n",
    "    print(workflow_graph_input)\n",
    "    config={\n",
    "        \"recursion_limit\": 100, # agent彼此間的最大交互次數\n",
    "        \"configurable\": {\n",
    "            \"thread_id\": \"workflow\" + thread_id # 用來存取記憶的id\n",
    "        }\n",
    "    }\n",
    "    print(\"Thread id: \", \"workflow\" + thread_id)\n",
    "    workflow_graph_output = workflow_graph.invoke(workflow_graph_input, config=config)\n",
    "    print(\"output: \")\n",
    "    print(workflow_graph_output[\"messages\"])\n",
    "    print()\n",
    "    return {\"messages\": workflow_graph_output[\"messages\"][-1:]}\n",
    "\n",
    "service_ = StateGraph(AgentState)\n",
    "service_.add_node(\"Service\", service_node)\n",
    "service_.add_node(\"Workflow\", call_workflow_graph)\n",
    "\n",
    "service_.add_edge(START, \"Service\")\n",
    "service_.add_conditional_edges(\n",
    "    \"Service\", \n",
    "    start_end_router, \n",
    "    {\"Start\": \"Workflow\", \"End\": END}\n",
    ")\n",
    "service_.add_edge(\"Workflow\", \"Service\")\n",
    "\n",
    "service_memory = MemorySaver() # 記錄整個graph的記憶\n",
    "service_graph = service_.compile(checkpointer=service_memory)"
   ]
  },
  {
   "cell_type": "code",
   "execution_count": 24,
   "metadata": {},
   "outputs": [
    {
     "data": {
      "image/jpeg": "[encoded data removed]",
      "text/plain": [
       "<IPython.core.display.Image object>"
      ]
     },
     "metadata": {},
     "output_type": "display_data"
    }
   ],
   "source": [
    "from IPython.display import Image, display\n",
    "\n",
    "display(Image(service_graph.get_graph(xray=3).draw_mermaid_png()))"
   ]
  },
  {
   "cell_type": "markdown",
   "metadata": {},
   "source": [
    "### Invoke"
   ]
  },
  {
   "cell_type": "code",
   "execution_count": 25,
   "metadata": {},
   "outputs": [
    {
     "name": "stdout",
     "output_type": "stream",
     "text": [
      "================================\u001b[1m Human Message \u001b[0m=================================\n",
      "\n",
      "請給我教務處的最新消息\n",
      "================================\u001b[1m Human Message \u001b[0m=================================\n",
      "\n",
      "請給我教務處的最新消息\n",
      "==================================\u001b[1m Ai Message \u001b[0m==================================\n",
      "Tool Calls:\n",
      "  none (call_ujM0iJBuMMLLB8sbFKBlxxQ6)\n",
      " Call ID: call_ujM0iJBuMMLLB8sbFKBlxxQ6\n",
      "  Args:\n",
      "=================================\u001b[1m Tool Message \u001b[0m=================================\n",
      "Name: none\n",
      "\n",
      "null\n",
      "==================================\u001b[1m Ai Message \u001b[0m==================================\n",
      "\n",
      "START Workflow. 請給我教務處的最新消息\n",
      "================================\u001b[1m Human Message \u001b[0m=================================\n",
      "Name: Service\n",
      "\n",
      "START Workflow. 請給我教務處的最新消息\n",
      "\n",
      "workflow_graph_input: \n",
      "{'messages': [HumanMessage(content='請給我教務處的最新消息', additional_kwargs={}, response_metadata={}, id='0ec9c878-0fdb-4175-ad6e-028d13697158'), HumanMessage(content='START Workflow. 請給我教務處的最新消息', additional_kwargs={}, response_metadata={}, name='Service')]}\n",
      "Thread id:  workflow12345\n",
      "\n",
      "retreirver_graph_input: \n",
      "{'messages': [HumanMessage(content='START Workflow. 請給我教務處的最新消息', additional_kwargs={}, response_metadata={}, name='Service')]}\n",
      "Thread id:  retriever12345\n",
      "link:  https://pdc.adm.ncu.edu.tw/#/index.asp\n",
      "page_content:  網站標題: 最新消息\n",
      "簡介: 國立中央大學的教務處網站提供關於教務相關的資訊，包括招生、註冊、課務及教學發展等各個組別的公告和活動。網站上有最新消息的更新，例如研究所甄試入學的注意事項、課程停修的申請時間、各種教學研討會及競賽的通知等。此外，教務處也提供相關服務及資源，例如選課系統和跨領域學習諮詢等。網站建議使用支持JavaScript的瀏覽器以獲得最佳瀏覽體驗。\n",
      "---\n",
      "link:  https://pdc.adm.ncu.edu.tw/#U/index.asp\n",
      "page_content:  網站標題: 最新消息\n",
      "簡介: 國立中央大學的教務處提供各類學術及行政服務，主要包括招生、註冊、課務和教學發展等功能。網站上有最新消息公告，例如研究所甄試的入學注意事項、課程停修申請及各種教學活動的報名信息。此外，教務處還提供跨領域學習諮詢服務及著作權法相關指引。對於使用者，網站建議使用支持JavaScript的瀏覽器以確保功能正常運作，並提供聯絡資訊及隱私政策聲明。\n",
      "---\n",
      "link:  https://pdc.adm.ncu.edu.tw/.//index.asp\n",
      "page_content:  網站標題: 最新消息\n",
      "簡介: 國立中央大學教務處的網頁提供了關於教務處各組別的資訊，包括招生組、註冊組、課務組、教學發展中心及中大出版中心。網頁上有最新消息更新，如研究所甄試錄取生的提前入學申請注意事項、課程停修申請的時間、各種講座和工作坊的報名資訊等。此外，還有關於交換學生申請和學位證書頒發的公告。網站建議使用Chrome、Firefox或Microsoft Edge瀏覽，並提供聯絡地址及電話。\n",
      "---\n",
      "link:  https://pdc.adm.ncu.edu.tw/#C/index.asp\n",
      "page_content:  網站標題: 最新消息\n",
      "簡介: 國立中央大學的教務處網站提供了各項與教務相關的資訊，包括招生、註冊、課務以及教學發展等服務。最近的公告涵蓋了研究所甄試錄取生的提前入學注意事項、課程停修申請、校園演講報名、教師增能工作坊及交換學生申請等重要資訊。此外，網站還提供了跨領域自主學習諮詢服務及AI智慧學習挑戰賽的相關信息。使用者如遇到JavaScript功能問題，需開啟瀏覽器的JavaScript設置以正常使用網站功能。聯絡資訊及隱私權政策亦在網站上註明。\n",
      "---\n",
      "link:  https://pdc.adm.ncu.edu.tw/index.asp\n",
      "page_content:  網站標題: 最新消息\n",
      "簡介: 國立中央大學的教務處網站包含了多個重要的功能和資訊，包括招生資訊、註冊、課務以及教學發展中心的相關活動。最近的公告涉及研究所甄試錄取生的提前入學注意事項、課程停修申請的時間、以及各種教學活動和競賽的報名資訊。網站還提供聯絡資訊和隱私政策，並建議使用某些瀏覽器以獲得最佳顯示效果。\n",
      "---\n",
      "output: \n",
      "[HumanMessage(content='START Workflow. 請給我教務處的最新消息', additional_kwargs={}, response_metadata={}, name='Service', id='1c7f1186-91d5-46d8-943f-a135918ad9ac'), HumanMessage(content='link: https://pdc.adm.ncu.edu.tw/#/index.asp\\n網站標題: 最新消息\\n簡介: 國立中央大學的教務處網站提供關於教務相關的資訊，包括招生、註冊、課務及教學發展等各個組別的公告和活動。網站上有最新消息的更新，例如研究所甄試入學的注意事項、課程停修的申請時間、各種教學研討會及競賽的通知等。此外，教務處也提供相關服務及資源，例如選課系統和跨領域學習諮詢等。網站建議使用支持JavaScript的瀏覽器以獲得最佳瀏覽體驗。', additional_kwargs={}, response_metadata={}, name='Retriever')]\n",
      "\n",
      "\n",
      "summarizer_graph_input: \n",
      "{'messages': [HumanMessage(content='START Workflow. 請給我教務處的最新消息', additional_kwargs={}, response_metadata={}, name='Service', id='1c7f1186-91d5-46d8-943f-a135918ad9ac'), HumanMessage(content='link: https://pdc.adm.ncu.edu.tw/#/index.asp\\n網站標題: 最新消息\\n簡介: 國立中央大學的教務處網站提供關於教務相關的資訊，包括招生、註冊、課務及教學發展等各個組別的公告和活動。網站上有最新消息的更新，例如研究所甄試入學的注意事項、課程停修的申請時間、各種教學研討會及競賽的通知等。此外，教務處也提供相關服務及資源，例如選課系統和跨領域學習諮詢等。網站建議使用支持JavaScript的瀏覽器以獲得最佳瀏覽體驗。', additional_kwargs={}, response_metadata={}, name='Retriever')]}\n",
      "Thread id:  summarizer12345\n",
      "成功讀取 [https://pdc.adm.ncu.edu.tw/#/index.asp] 並總結。\n",
      "output: \n",
      "[HumanMessage(content='START Workflow. 請給我教務處的最新消息', additional_kwargs={}, response_metadata={}, name='Service', id='1c7f1186-91d5-46d8-943f-a135918ad9ac'), HumanMessage(content='link: https://pdc.adm.ncu.edu.tw/#/index.asp\\n網站標題: 最新消息\\n簡介: 國立中央大學的教務處網站提供關於教務相關的資訊，包括招生、註冊、課務及教學發展等各個組別的公告和活動。網站上有最新消息的更新，例如研究所甄試入學的注意事項、課程停修的申請時間、各種教學研討會及競賽的通知等。此外，教務處也提供相關服務及資源，例如選課系統和跨領域學習諮詢等。網站建議使用支持JavaScript的瀏覽器以獲得最佳瀏覽體驗。', additional_kwargs={}, response_metadata={}, name='Retriever', id='331a6af6-2a88-4947-839f-06087ae190df'), HumanMessage(content='國立中央大學｜教務處: 最新消息包括課程停修申請的時間（3月31日至5月9日）、期中教學回饋的填寫時間（即日起至4月13日）、智財工作坊及專題演講的報名、以及長庚大學的交換甄選公告等資訊。', additional_kwargs={}, response_metadata={}, name='Summarizer')]\n",
      "\n",
      "output: \n",
      "[HumanMessage(content='請給我教務處的最新消息', additional_kwargs={}, response_metadata={}, id='0ec9c878-0fdb-4175-ad6e-028d13697158'), HumanMessage(content='START Workflow. 請給我教務處的最新消息', additional_kwargs={}, response_metadata={}, name='Service', id='1c7f1186-91d5-46d8-943f-a135918ad9ac'), HumanMessage(content='link: https://pdc.adm.ncu.edu.tw/#/index.asp\\n網站標題: 最新消息\\n簡介: 國立中央大學的教務處網站提供關於教務相關的資訊，包括招生、註冊、課務及教學發展等各個組別的公告和活動。網站上有最新消息的更新，例如研究所甄試入學的注意事項、課程停修的申請時間、各種教學研討會及競賽的通知等。此外，教務處也提供相關服務及資源，例如選課系統和跨領域學習諮詢等。網站建議使用支持JavaScript的瀏覽器以獲得最佳瀏覽體驗。', additional_kwargs={}, response_metadata={}, name='Retriever', id='331a6af6-2a88-4947-839f-06087ae190df'), HumanMessage(content='國立中央大學｜教務處: 最新消息包括課程停修申請的時間（3月31日至5月9日）、期中教學回饋的填寫時間（即日起至4月13日）、智財工作坊及專題演講的報名、以及長庚大學的交換甄選公告等資訊。', additional_kwargs={}, response_metadata={}, name='Summarizer')]\n",
      "\n",
      "================================\u001b[1m Human Message \u001b[0m=================================\n",
      "Name: Summarizer\n",
      "\n",
      "國立中央大學｜教務處: 最新消息包括課程停修申請的時間（3月31日至5月9日）、期中教學回饋的填寫時間（即日起至4月13日）、智財工作坊及專題演講的報名、以及長庚大學的交換甄選公告等資訊。\n",
      "================================\u001b[1m Human Message \u001b[0m=================================\n",
      "Name: Summarizer\n",
      "\n",
      "國立中央大學｜教務處: 最新消息包括課程停修申請的時間（3月31日至5月9日）、期中教學回饋的填寫時間（即日起至4月13日）、智財工作坊及專題演講的報名、以及長庚大學的交換甄選公告等資訊。\n",
      "==================================\u001b[1m Ai Message \u001b[0m==================================\n",
      "\n",
      "國立中央大學教務處的最新消息包括：\n",
      "\n",
      "1. 課程停修申請的時間為3月31日至5月9日。\n",
      "2. 期中教學回饋的填寫時間為即日起至4月13日。\n",
      "3. 智財工作坊及專題演講的報名資訊。\n",
      "4. 長庚大學的交換甄選公告。\n",
      "\n",
      "如需更多詳情，請查詢教務處的官方網站或聯繫相關部門。\n",
      "================================\u001b[1m Human Message \u001b[0m=================================\n",
      "Name: Service\n",
      "\n",
      "國立中央大學教務處的最新消息包括：\n",
      "\n",
      "1. 課程停修申請的時間為3月31日至5月9日。\n",
      "2. 期中教學回饋的填寫時間為即日起至4月13日。\n",
      "3. 智財工作坊及專題演講的報名資訊。\n",
      "4. 長庚大學的交換甄選公告。\n",
      "\n",
      "如需更多詳情，請查詢教務處的官方網站或聯繫相關部門。\n"
     ]
    }
   ],
   "source": [
    "# 請給我教務處的最新消息\n",
    "# 請給我教務長的姓名\n",
    "# 請總結111教務章則的內容\n",
    "query = \"請給我教務處的最新消息\"\n",
    "user_id = \"12345\"\n",
    "\n",
    "thread_id = user_id\n",
    "input_messages = {\"messages\": [HumanMessage(content=query)]}\n",
    "config = {\n",
    "    \"recursion_limit\": 100, # agent彼此間的最大交互次數\n",
    "    \"configurable\": {\n",
    "        \"thread_id\": \"service\" + thread_id # 用來存取記憶的id\n",
    "    }\n",
    "}\n",
    "\n",
    "for chunk in service_graph.stream(input=input_messages, config=config, subgraphs=True, stream_mode=\"values\"):\n",
    "    chunk[1][\"messages\"][-1].pretty_print()"
   ]
  },
  {
   "cell_type": "code",
   "execution_count": 24,
   "metadata": {},
   "outputs": [],
   "source": [
    "def service_chat(query: str, user_id: str):\n",
    "    response_messages = []\n",
    "    input_messages = [HumanMessage(content=query)]\n",
    "    thread_id = f\"service{user_id}\"\n",
    "\n",
    "    for chunk in service_graph.stream(\n",
    "        input={\"messages\": input_messages, \"user_id\": user_id},\n",
    "        config={\"recursion_limit\": 50, \"configurable\": {\"thread_id\": thread_id}},\n",
    "        subgraphs=True,\n",
    "        stream_mode=\"updates\"\n",
    "    ):\n",
    "        \n",
    "        # chunk[1][\"messages\"][-1].pretty_print()\n",
    "        response_messages.append(chunk[1])\n",
    "\n",
    "    # 幫我從字串有以下內容抓取資料 screenshot: [screenshot file name]\n",
    "    # screenshot_filename = \"\"\n",
    "    # # 先幫我檢查最後一個訊息是否有包含 screenshot: 字串\n",
    "    # if \"screenshot: \" in response_messages[-1]['Pipeline Runner']['messages'][-1].content:\n",
    "    #     screenshot_filename = response_messages[-1]['Pipeline Runner']['messages'][-1].content.split(\"screenshot: \")[1]\n",
    "    #     screenshot_filename = screenshot_filename.split(\".png\")[0] + \".png\"\n",
    "    print(response_messages[-1]['Service']['messages'][-1].content)\n",
    "    # print(screenshot_filename)\n",
    "    # Return the combined response messages\n",
    "    # return screenshot_filename, response_messages[-1]['Pipeline Runner']['messages'][-1].content\n",
    "    return response_messages[-1]['Service']['messages'][-1].content\n",
    "\n",
    "def respond(message, chat_history):\n",
    "    user_id = \"101112\"\n",
    "    chat_history.append({\"role\": \"user\", \"content\": message})\n",
    "    bot_message = service_chat(message, user_id)\n",
    "    chat_history.append({\"role\": \"assistant\", \"content\": bot_message})\n",
    "\n",
    "    return \"\", chat_history"
   ]
  },
  {
   "cell_type": "code",
   "execution_count": 25,
   "metadata": {},
   "outputs": [
    {
     "name": "stderr",
     "output_type": "stream",
     "text": [
      "c:\\Users\\George\\anaconda3\\envs\\langgraph\\Lib\\site-packages\\tqdm\\auto.py:21: TqdmWarning: IProgress not found. Please update jupyter and ipywidgets. See https://ipywidgets.readthedocs.io/en/stable/user_install.html\n",
      "  from .autonotebook import tqdm as notebook_tqdm\n"
     ]
    },
    {
     "name": "stdout",
     "output_type": "stream",
     "text": [
      "* Running on local URL:  http://127.0.0.1:7860\n",
      "\n",
      "To create a public link, set `share=True` in `launch()`.\n"
     ]
    },
    {
     "data": {
      "text/html": [
       "<div><iframe src=\"http://127.0.0.1:7860/\" width=\"100%\" height=\"500\" allow=\"autoplay; camera; microphone; clipboard-read; clipboard-write;\" frameborder=\"0\" allowfullscreen></iframe></div>"
      ],
      "text/plain": [
       "<IPython.core.display.HTML object>"
      ]
     },
     "metadata": {},
     "output_type": "display_data"
    },
    {
     "data": {
      "text/plain": []
     },
     "execution_count": 25,
     "metadata": {},
     "output_type": "execute_result"
    },
    {
     "name": "stdout",
     "output_type": "stream",
     "text": [
      "\n",
      "workflow_graph_input: \n",
      "{'messages': [HumanMessage(content='請簡介111教務章則', additional_kwargs={}, response_metadata={}, id='e467947b-0280-4849-bd73-6aa665c6b1ba'), HumanMessage(content='START Workflow. 請簡介111教務章則', additional_kwargs={}, response_metadata={}, name='Service')]}\n",
      "Thread id:  workflow123456789\n",
      "\n",
      "retreirver_graph_input: \n",
      "{'messages': [HumanMessage(content='START Workflow. 請簡介111教務章則', additional_kwargs={}, response_metadata={}, name='Service')]}\n",
      "Thread id:  retriever123456789\n",
      "link:  https://pdc.adm.ncu.edu.tw/rule/rule111/index.html\n",
      "page_content:  網站標題: 111教務章則彙編\n",
      "簡介: 111學年度國立中央大學教務章則彙編目錄列出了多項與學生學業、選課及學籍管理相關的規定及辦法。主要內容包含：\n",
      "\n",
      "1. 學則及學生選課辦法\n",
      "2. 校際選課及暑期開班授課規定\n",
      "3. 學生轉系、雙主修、輔系等修讀辦法\n",
      "4. 學分學程及必修科目要求\n",
      "5. 碩博士研究生的學位考試及進修相關規定\n",
      "6. 學生成績及考試規則\n",
      "7. 學術倫理及違規處理原則\n",
      "8. 離校退費及自主學習課程的相關規定\n",
      "\n",
      "整體而言，這些章則提供了學生在學習過程中所需遵循的規範，以確保學業順利進行。\n",
      "---\n",
      "link:  https://pdc.adm.ncu.edu.tw/rule/rule111/index.html\n",
      "page_content:  網站標題: 111教務章則彙編\n",
      "簡介: 111學年度國立中央大學教務章則彙編目錄列出了多項與學生學業、選課及學籍管理相關的規定及辦法。主要內容包含：\n",
      "\n",
      "1. 學則及學生選課辦法\n",
      "2. 校際選課及暑期開班授課規定\n",
      "3. 學生轉系、雙主修、輔系等修讀辦法\n",
      "4. 學分學程及必修科目要求\n",
      "5. 碩博士研究生的學位考試及進修相關規定\n",
      "6. 學生成績及考試規則\n",
      "7. 學術倫理及違規處理原則\n",
      "8. 離校退費及自主學習課程的相關規定\n",
      "\n",
      "整體而言，這些章則提供了學生在學習過程中所需遵循的規範，以確保學業順利進行。\n",
      "---\n",
      "link:  https://pdc.adm.ncu.edu.tw/rule/rule111/index.html\n",
      "page_content:  網站標題: 111教務章則彙編\n",
      "簡介: 111學年度國立中央大學教務章則彙編目錄列出了多項與學生學業、選課及學籍管理相關的規定及辦法。主要內容包含：\n",
      "\n",
      "1. 學則及學生選課辦法\n",
      "2. 校際選課及暑期開班授課規定\n",
      "3. 學生轉系、雙主修、輔系等修讀辦法\n",
      "4. 學分學程及必修科目要求\n",
      "5. 碩博士研究生的學位考試及進修相關規定\n",
      "6. 學生成績及考試規則\n",
      "7. 學術倫理及違規處理原則\n",
      "8. 離校退費及自主學習課程的相關規定\n",
      "\n",
      "整體而言，這些章則提供了學生在學習過程中所需遵循的規範，以確保學業順利進行。\n",
      "---\n",
      "link:  https://pdc.adm.ncu.edu.tw/rule/rule111/index.html\n",
      "page_content:  網站標題: 111教務章則彙編\n",
      "簡介: 111學年度國立中央大學教務章則彙編目錄列出了多項與學生學業、選課及學籍管理相關的規定及辦法。主要內容包含：\n",
      "\n",
      "1. 學則及學生選課辦法\n",
      "2. 校際選課及暑期開班授課規定\n",
      "3. 學生轉系、雙主修、輔系等修讀辦法\n",
      "4. 學分學程及必修科目要求\n",
      "5. 碩博士研究生的學位考試及進修相關規定\n",
      "6. 學生成績及考試規則\n",
      "7. 學術倫理及違規處理原則\n",
      "8. 離校退費及自主學習課程的相關規定\n",
      "\n",
      "整體而言，這些章則提供了學生在學習過程中所需遵循的規範，以確保學業順利進行。\n",
      "---\n",
      "link:  https://pdc.adm.ncu.edu.tw/rule/rule107/rul107_index.html\n",
      "page_content:  網站標題: 107教務章則彙編\n",
      "簡介: 107學年度國立中央大學教務章則彙編內容包括多項重要的教務規定和辦法，具體目錄如下：\n",
      "\n",
      "1. 學校的基本學則\n",
      "2. 學生選課及校際選課的相關辦法\n",
      "3. 暑期開班授課的實施細則\n",
      "4. 學生轉系、所、組、學程的辦法及審查標準\n",
      "5. 雙主修、輔系及第二專長的修讀辦法\n",
      "6. 學分學程的相關規定\n",
      "7. 學業必修科目及畢業條件\n",
      "8. 學分抵免及共同必修科目選修的辦法\n",
      "9. 博士及碩士班的學位考試細則\n",
      "10. 學生赴合作學校進修及相關的學籍處理要點\n",
      "11. 學生成績作業、考試規則及證明書申請的辦法\n",
      "12. 在職專班的教務作業及師資生甄選辦法\n",
      "13. 學術研究倫理教育及論文相關規定\n",
      "14. 學生的退費作業及自主學習微課程的實施要點\n",
      "\n",
      "這些規定和辦法旨在為學生的學習和學籍管理提供清晰的指導和支持。\n",
      "---\n",
      "output: \n",
      "[HumanMessage(content='START Workflow. 請簡介111教務章則', additional_kwargs={}, response_metadata={}, name='Service', id='0239760b-a8df-4623-bd2c-e7d13728c6ae'), HumanMessage(content='link: https://pdc.adm.ncu.edu.tw/rule/rule111/index.html\\n網站標題: 111教務章則彙編\\n簡介: 111學年度國立中央大學教務章則彙編目錄列出了多項與學生學業、選課及學籍管理相關的規定及辦法。主要內容包含：\\n\\n1. 學則及學生選課辦法\\n2. 校際選課及暑期開班授課規定\\n3. 學生轉系、雙主修、輔系等修讀辦法\\n4. 學分學程及必修科目要求\\n5. 碩博士研究生的學位考試及進修相關規定\\n6. 學生成績及考試規則\\n7. 學術倫理及違規處理原則\\n8. 離校退費及自主學習課程的相關規定\\n\\n整體而言，這些章則提供了學生在學習過程中所需遵循的規範，以確保學業順利進行。', additional_kwargs={}, response_metadata={}, name='Retriever')]\n",
      "\n",
      "output: \n",
      "[HumanMessage(content='請簡介111教務章則', additional_kwargs={}, response_metadata={}, id='e467947b-0280-4849-bd73-6aa665c6b1ba'), HumanMessage(content='START Workflow. 請簡介111教務章則', additional_kwargs={}, response_metadata={}, name='Service', id='0239760b-a8df-4623-bd2c-e7d13728c6ae'), HumanMessage(content='link: https://pdc.adm.ncu.edu.tw/rule/rule111/index.html\\n網站標題: 111教務章則彙編\\n簡介: 111學年度國立中央大學教務章則彙編目錄列出了多項與學生學業、選課及學籍管理相關的規定及辦法。主要內容包含：\\n\\n1. 學則及學生選課辦法\\n2. 校際選課及暑期開班授課規定\\n3. 學生轉系、雙主修、輔系等修讀辦法\\n4. 學分學程及必修科目要求\\n5. 碩博士研究生的學位考試及進修相關規定\\n6. 學生成績及考試規則\\n7. 學術倫理及違規處理原則\\n8. 離校退費及自主學習課程的相關規定\\n\\n整體而言，這些章則提供了學生在學習過程中所需遵循的規範，以確保學業順利進行。', additional_kwargs={}, response_metadata={}, name='Retriever')]\n",
      "\n",
      "111學年度國立中央大學教務章則彙編包含多項與學生學業、選課及學籍管理相關的規定及辦法，主要內容包括：\n",
      "\n",
      "1. 學則及學生選課辦法\n",
      "2. 校際選課及暑期開班授課規定\n",
      "3. 學生轉系、雙主修、輔系等修讀辦法\n",
      "4. 學分學程及必修科目要求\n",
      "5. 碩博士研究生的學位考試及進修相關規定\n",
      "6. 學生成績及考試規則\n",
      "7. 學術倫理及違規處理原則\n",
      "8. 離校退費及自主學習課程的相關規定\n",
      "\n",
      "這些章則提供了學生在學習過程中所需遵循的規範，以確保學業順利進行。\n",
      "\n",
      "workflow_graph_input: \n",
      "{'messages': [HumanMessage(content='請給我和外語檢定或能力測驗相關的獎助學金資訊', additional_kwargs={}, response_metadata={}, id='3ad3901c-779b-498a-a2ae-dfe9f7167821'), HumanMessage(content='START Workflow. 請給我和外語檢定或能力測驗相關的獎助學金資訊。', additional_kwargs={}, response_metadata={}, name='Service')]}\n",
      "Thread id:  workflow123456789\n",
      "\n",
      "retreirver_graph_input: \n",
      "{'messages': [HumanMessage(content='START Workflow. 請給我和外語檢定或能力測驗相關的獎助學金資訊。', additional_kwargs={}, response_metadata={}, name='Service')]}\n",
      "Thread id:  retriever123456789\n",
      "link:  https://ncu.edu.tw/ALC/%E5%AE%89%E5%BF%83%E5%B0%B1%E5%AD%B8/\n",
      "page_content:  網站標題: 安心就學支持計畫\n",
      "簡介: 中央大學的「安心就學支持計劃」提供多種獎助學金以支持學生的學習與發展。以下是主要獎助學金的概述：\n",
      "\n",
      "1. **安心學習助學金**：每學期核定150名學生，需參加學習活動並提交計畫書，金額為每次新台幣6,000元。\n",
      "\n",
      "2. **向日葵計畫助學金**：根據學生學習表現進行調整。\n",
      "\n",
      "3. **課業學習輔導成績進步助學金**：接受課輔輔導並顯著提高學業成績的學生可獲得最多3,000元。\n",
      "\n",
      "4. **課業輔導學伴獎勵金**：擔任課輔學伴且表現優異的學生可獲得最多6,000元。\n",
      "\n",
      "5. **競賽拔尖獎勵金**：參加競賽並提交成果的學生可獲得最多40,000元。\n",
      "\n",
      "6. **社會創新培力獎勵金**：針對有意舉辦社會責任活動的學生，每位獎勵最多10,000元。\n",
      "\n",
      "7. **社會實踐輔導助學金**：參加學習護照活動的前10名學生可獲得5,000元。\n",
      "\n",
      "8. **外語能力測驗報名費助學金**：每年最多補助2次，每次不超過1,600元。\n",
      "\n",
      "9. **外語檢定認證助學金**：根據檢定等級可獲得1,000至10,000元不等的獎勵。\n",
      "\n",
      "10. **職涯活動助學金**：參加職涯輔導活動後可獲得最多5,000元。\n",
      "\n",
      "11. **實習獎勵金**：根據實習時數和成績可獲得最多40,000元。\n",
      "\n",
      "12. **國外進修補助獎勵**：針對經濟或文化不利學生的海外研修補助。\n",
      "\n",
      "13. **原住民族族語認證考試獎勵金**：根據族語能力測驗的結果提供獎勵，最高可達20,000元。\n",
      "\n",
      "14. **宿舍學習助學金**：參加宿舍輔導活動的學生可獲得最多5,000元。\n",
      "\n",
      "申請方式和詳細資訊可透過中央大學的獎助學金暨工讀管理系統查詢。\n",
      "---\n",
      "link:  https://ncu.edu.tw/ALC/%E5%AE%89%E5%BF%83%E5%B0%B1%E5%AD%B8/\n",
      "page_content:  網站標題: 安心就學支持計畫\n",
      "簡介: 中央大學的「安心就學支持計劃」提供多種獎助學金以支持學生的學習與發展。以下是主要獎助學金的概述：\n",
      "\n",
      "1. **安心學習助學金**：每學期核定150名學生，需參加學習活動並提交計畫書，金額為每次新台幣6,000元。\n",
      "\n",
      "2. **向日葵計畫助學金**：根據學生學習表現進行調整。\n",
      "\n",
      "3. **課業學習輔導成績進步助學金**：接受課輔輔導並顯著提高學業成績的學生可獲得最多3,000元。\n",
      "\n",
      "4. **課業輔導學伴獎勵金**：擔任課輔學伴且表現優異的學生可獲得最多6,000元。\n",
      "\n",
      "5. **競賽拔尖獎勵金**：參加競賽並提交成果的學生可獲得最多40,000元。\n",
      "\n",
      "6. **社會創新培力獎勵金**：針對有意舉辦社會責任活動的學生，每位獎勵最多10,000元。\n",
      "\n",
      "7. **社會實踐輔導助學金**：參加學習護照活動的前10名學生可獲得5,000元。\n",
      "\n",
      "8. **外語能力測驗報名費助學金**：每年最多補助2次，每次不超過1,600元。\n",
      "\n",
      "9. **外語檢定認證助學金**：根據檢定等級可獲得1,000至10,000元不等的獎勵。\n",
      "\n",
      "10. **職涯活動助學金**：參加職涯輔導活動後可獲得最多5,000元。\n",
      "\n",
      "11. **實習獎勵金**：根據實習時數和成績可獲得最多40,000元。\n",
      "\n",
      "12. **國外進修補助獎勵**：針對經濟或文化不利學生的海外研修補助。\n",
      "\n",
      "13. **原住民族族語認證考試獎勵金**：根據族語能力測驗的結果提供獎勵，最高可達20,000元。\n",
      "\n",
      "14. **宿舍學習助學金**：參加宿舍輔導活動的學生可獲得最多5,000元。\n",
      "\n",
      "申請方式和詳細資訊可透過中央大學的獎助學金暨工讀管理系統查詢。\n",
      "---\n",
      "link:  https://ncu.edu.tw/ALC/%E5%AE%89%E5%BF%83%E5%B0%B1%E5%AD%B8/\n",
      "page_content:  網站標題: 安心就學支持計畫\n",
      "簡介: 中央大學的「安心就學支持計劃」提供多種獎助學金以支持學生的學習與發展。以下是主要獎助學金的概述：\n",
      "\n",
      "1. **安心學習助學金**：每學期核定150名學生，需參加學習活動並提交計畫書，金額為每次新台幣6,000元。\n",
      "\n",
      "2. **向日葵計畫助學金**：根據學生學習表現進行調整。\n",
      "\n",
      "3. **課業學習輔導成績進步助學金**：接受課輔輔導並顯著提高學業成績的學生可獲得最多3,000元。\n",
      "\n",
      "4. **課業輔導學伴獎勵金**：擔任課輔學伴且表現優異的學生可獲得最多6,000元。\n",
      "\n",
      "5. **競賽拔尖獎勵金**：參加競賽並提交成果的學生可獲得最多40,000元。\n",
      "\n",
      "6. **社會創新培力獎勵金**：針對有意舉辦社會責任活動的學生，每位獎勵最多10,000元。\n",
      "\n",
      "7. **社會實踐輔導助學金**：參加學習護照活動的前10名學生可獲得5,000元。\n",
      "\n",
      "8. **外語能力測驗報名費助學金**：每年最多補助2次，每次不超過1,600元。\n",
      "\n",
      "9. **外語檢定認證助學金**：根據檢定等級可獲得1,000至10,000元不等的獎勵。\n",
      "\n",
      "10. **職涯活動助學金**：參加職涯輔導活動後可獲得最多5,000元。\n",
      "\n",
      "11. **實習獎勵金**：根據實習時數和成績可獲得最多40,000元。\n",
      "\n",
      "12. **國外進修補助獎勵**：針對經濟或文化不利學生的海外研修補助。\n",
      "\n",
      "13. **原住民族族語認證考試獎勵金**：根據族語能力測驗的結果提供獎勵，最高可達20,000元。\n",
      "\n",
      "14. **宿舍學習助學金**：參加宿舍輔導活動的學生可獲得最多5,000元。\n",
      "\n",
      "申請方式和詳細資訊可透過中央大學的獎助學金暨工讀管理系統查詢。\n",
      "---\n",
      "link:  https://ncu.edu.tw/ALC/%E5%AE%89%E5%BF%83%E5%B0%B1%E5%AD%B8/\n",
      "page_content:  網站標題: 安心就學支持計畫\n",
      "簡介: 中央大學的「安心就學支持計劃」提供多種獎助學金以支持學生的學習與發展。以下是主要獎助學金的概述：\n",
      "\n",
      "1. **安心學習助學金**：每學期核定150名學生，需參加學習活動並提交計畫書，金額為每次新台幣6,000元。\n",
      "\n",
      "2. **向日葵計畫助學金**：根據學生學習表現進行調整。\n",
      "\n",
      "3. **課業學習輔導成績進步助學金**：接受課輔輔導並顯著提高學業成績的學生可獲得最多3,000元。\n",
      "\n",
      "4. **課業輔導學伴獎勵金**：擔任課輔學伴且表現優異的學生可獲得最多6,000元。\n",
      "\n",
      "5. **競賽拔尖獎勵金**：參加競賽並提交成果的學生可獲得最多40,000元。\n",
      "\n",
      "6. **社會創新培力獎勵金**：針對有意舉辦社會責任活動的學生，每位獎勵最多10,000元。\n",
      "\n",
      "7. **社會實踐輔導助學金**：參加學習護照活動的前10名學生可獲得5,000元。\n",
      "\n",
      "8. **外語能力測驗報名費助學金**：每年最多補助2次，每次不超過1,600元。\n",
      "\n",
      "9. **外語檢定認證助學金**：根據檢定等級可獲得1,000至10,000元不等的獎勵。\n",
      "\n",
      "10. **職涯活動助學金**：參加職涯輔導活動後可獲得最多5,000元。\n",
      "\n",
      "11. **實習獎勵金**：根據實習時數和成績可獲得最多40,000元。\n",
      "\n",
      "12. **國外進修補助獎勵**：針對經濟或文化不利學生的海外研修補助。\n",
      "\n",
      "13. **原住民族族語認證考試獎勵金**：根據族語能力測驗的結果提供獎勵，最高可達20,000元。\n",
      "\n",
      "14. **宿舍學習助學金**：參加宿舍輔導活動的學生可獲得最多5,000元。\n",
      "\n",
      "申請方式和詳細資訊可透過中央大學的獎助學金暨工讀管理系統查詢。\n",
      "---\n",
      "link:  https://ncu.edu.tw/ALC/安心就學/\n",
      "page_content:  網站標題: 安心就學支持計畫\n",
      "簡介: 中央大學的安心就學支持計劃提供多種獎助學金，以支援學生的學習和生活需求。以下是主要的獎助學金項目和申請方式：\n",
      "\n",
      "1. **安心學習助學金**：每學期150名低收入及特殊境遇家庭學生可申請，每次核發6,000元。\n",
      "2. **向日葵計畫助學金**：根據學習表現調整助學金，需參加自我增能計畫。\n",
      "3. **課業學習輔導成績進步助學金**：完成15小時課業輔導並有顯著進步可得最多3,000元。\n",
      "4. **課業輔導學伴獎勵金**：擔任課輔學伴15小時以上可申請最多6,000元。\n",
      "5. **競賽拔尖獎勵金**：參加競賽可根據成果獲得最高40,000元。\n",
      "6. **社會創新培力獎勵金**：針對有社會責任活動的申請者，最多10,000元。\n",
      "7. **社會實踐輔導助學金**：參加學習護照活動並累積50小時以上，前10名可各得5,000元。\n",
      "8. **外語能力測驗報名費助學金**：每年最多補助2次每次1,600元。\n",
      "9. **外語檢定認證助學金**：通過外語檢定可獲得獎勵，根據等級最高可得20,000元。\n",
      "10. **職涯活動助學金**：參加職涯輔導活動可獲得最高5,000元。\n",
      "11. **實習獎勵金**：依實習時數和成績可獲得最多40,000元。\n",
      "12. **國外進修補助獎勵**：針對經濟或文化不利學生，根據相關計畫申請。\n",
      "13. **原住民族族語認證考試獎勵金**：依測驗等級可獲得最高20,000元。\n",
      "14. **宿舍學習助學金**：參加宿舍活動可獲得最高5,000元。\n",
      "\n",
      "所有獎助學金均可通過中大Portal的獎助學金系統申請，並需滿足各項目所列的條件。聯絡方式和詳細資訊可參考學校相關部門。\n",
      "---\n",
      "output: \n",
      "[HumanMessage(content='START Workflow. 請簡介111教務章則', additional_kwargs={}, response_metadata={}, name='Service', id='0239760b-a8df-4623-bd2c-e7d13728c6ae'), HumanMessage(content='link: https://pdc.adm.ncu.edu.tw/rule/rule111/index.html\\n網站標題: 111教務章則彙編\\n簡介: 111學年度國立中央大學教務章則彙編目錄列出了多項與學生學業、選課及學籍管理相關的規定及辦法。主要內容包含：\\n\\n1. 學則及學生選課辦法\\n2. 校際選課及暑期開班授課規定\\n3. 學生轉系、雙主修、輔系等修讀辦法\\n4. 學分學程及必修科目要求\\n5. 碩博士研究生的學位考試及進修相關規定\\n6. 學生成績及考試規則\\n7. 學術倫理及違規處理原則\\n8. 離校退費及自主學習課程的相關規定\\n\\n整體而言，這些章則提供了學生在學習過程中所需遵循的規範，以確保學業順利進行。', additional_kwargs={}, response_metadata={}, name='Retriever', id='87edd228-c2d7-4691-85ce-9b2e4ebf9598'), HumanMessage(content='START Workflow. 請給我和外語檢定或能力測驗相關的獎助學金資訊。', additional_kwargs={}, response_metadata={}, name='Service', id='adbd7fd6-8769-49d5-9062-26065e481fbc'), HumanMessage(content='link: https://ncu.edu.tw/ALC/%E5%AE%89%E5%BF%83%E5%B0%B1%E5%AD%B8/\\n網站標題: 安心就學支持計畫\\n簡介: 中央大學的「安心就學支持計劃」提供多種獎助學金以支持學生的學習與發展。以下是主要獎助學金的概述：\\n\\n1. **安心學習助學金**：每學期核定150名學生，需參加學習活動並提交計畫書，金額為每次新台幣6,000元。\\n\\n2. **向日葵計畫助學金**：根據學生學習表現進行調整。\\n\\n3. **課業學習輔導成績進步助學金**：接受課輔輔導並顯著提高學業成績的學生可獲得最多3,000元。\\n\\n4. **課業輔導學伴獎勵金**：擔任課輔學伴且表現優異的學生可獲得最多6,000元。\\n\\n5. **競賽拔尖獎勵金**：參加競賽並提交成果的學生可獲得最多40,000元。\\n\\n6. **社會創新培力獎勵金**：針對有意舉辦社會責任活動的學生，每位獎勵最多10,000元。\\n\\n7. **社會實踐輔導助學金**：參加學習護照活動的前10名學生可獲得5,000元。\\n\\n8. **外語能力測驗報名費助學金**：每年最多補助2次，每次不超過1,600元。\\n\\n9. **外語檢定認證助學金**：根據檢定等級可獲得1,000至10,000元不等的獎勵。\\n\\n10. **職涯活動助學金**：參加職涯輔導活動後可獲得最多5,000元。\\n\\n11. **實習獎勵金**：根據實習時數和成績可獲得最多40,000元。\\n\\n12. **國外進修補助獎勵**：針對經濟或文化不利學生的海外研修補助。\\n\\n13. **原住民族族語認證考試獎勵金**：根據族語能力測驗的結果提供獎勵，最高可達20,000元。\\n\\n14. **宿舍學習助學金**：參加宿舍輔導活動的學生可獲得最多5,000元。\\n\\n申請方式和詳細資訊可透過中央大學的獎助學金暨工讀管理系統查詢。', additional_kwargs={}, response_metadata={}, name='Retriever')]\n",
      "\n",
      "output: \n",
      "[HumanMessage(content='請簡介111教務章則', additional_kwargs={}, response_metadata={}, id='e467947b-0280-4849-bd73-6aa665c6b1ba'), HumanMessage(content='START Workflow. 請簡介111教務章則', additional_kwargs={}, response_metadata={}, name='Service', id='0239760b-a8df-4623-bd2c-e7d13728c6ae'), HumanMessage(content='link: https://pdc.adm.ncu.edu.tw/rule/rule111/index.html\\n網站標題: 111教務章則彙編\\n簡介: 111學年度國立中央大學教務章則彙編目錄列出了多項與學生學業、選課及學籍管理相關的規定及辦法。主要內容包含：\\n\\n1. 學則及學生選課辦法\\n2. 校際選課及暑期開班授課規定\\n3. 學生轉系、雙主修、輔系等修讀辦法\\n4. 學分學程及必修科目要求\\n5. 碩博士研究生的學位考試及進修相關規定\\n6. 學生成績及考試規則\\n7. 學術倫理及違規處理原則\\n8. 離校退費及自主學習課程的相關規定\\n\\n整體而言，這些章則提供了學生在學習過程中所需遵循的規範，以確保學業順利進行。', additional_kwargs={}, response_metadata={}, name='Retriever'), HumanMessage(content='請給我和外語檢定或能力測驗相關的獎助學金資訊', additional_kwargs={}, response_metadata={}, id='3ad3901c-779b-498a-a2ae-dfe9f7167821'), HumanMessage(content='START Workflow. 請給我和外語檢定或能力測驗相關的獎助學金資訊。', additional_kwargs={}, response_metadata={}, name='Service', id='adbd7fd6-8769-49d5-9062-26065e481fbc'), HumanMessage(content='link: https://ncu.edu.tw/ALC/%E5%AE%89%E5%BF%83%E5%B0%B1%E5%AD%B8/\\n網站標題: 安心就學支持計畫\\n簡介: 中央大學的「安心就學支持計劃」提供多種獎助學金以支持學生的學習與發展。以下是主要獎助學金的概述：\\n\\n1. **安心學習助學金**：每學期核定150名學生，需參加學習活動並提交計畫書，金額為每次新台幣6,000元。\\n\\n2. **向日葵計畫助學金**：根據學生學習表現進行調整。\\n\\n3. **課業學習輔導成績進步助學金**：接受課輔輔導並顯著提高學業成績的學生可獲得最多3,000元。\\n\\n4. **課業輔導學伴獎勵金**：擔任課輔學伴且表現優異的學生可獲得最多6,000元。\\n\\n5. **競賽拔尖獎勵金**：參加競賽並提交成果的學生可獲得最多40,000元。\\n\\n6. **社會創新培力獎勵金**：針對有意舉辦社會責任活動的學生，每位獎勵最多10,000元。\\n\\n7. **社會實踐輔導助學金**：參加學習護照活動的前10名學生可獲得5,000元。\\n\\n8. **外語能力測驗報名費助學金**：每年最多補助2次，每次不超過1,600元。\\n\\n9. **外語檢定認證助學金**：根據檢定等級可獲得1,000至10,000元不等的獎勵。\\n\\n10. **職涯活動助學金**：參加職涯輔導活動後可獲得最多5,000元。\\n\\n11. **實習獎勵金**：根據實習時數和成績可獲得最多40,000元。\\n\\n12. **國外進修補助獎勵**：針對經濟或文化不利學生的海外研修補助。\\n\\n13. **原住民族族語認證考試獎勵金**：根據族語能力測驗的結果提供獎勵，最高可達20,000元。\\n\\n14. **宿舍學習助學金**：參加宿舍輔導活動的學生可獲得最多5,000元。\\n\\n申請方式和詳細資訊可透過中央大學的獎助學金暨工讀管理系統查詢。', additional_kwargs={}, response_metadata={}, name='Retriever')]\n",
      "\n",
      "中央大學的「安心就學支持計畫」提供多種與外語檢定或能力測驗相關的獎助學金，包括：\n",
      "\n",
      "1. **外語能力測驗報名費助學金**：每年最多補助2次，每次不超過1,600元。\n",
      "   \n",
      "2. **外語檢定認證助學金**：根據檢定等級可獲得1,000至10,000元不等的獎勵。\n",
      "\n",
      "這些獎助學金旨在支持學生參加外語檢定及能力測驗，詳細申請方式和其他獎助學金資訊可透過中央大學的獎助學金暨工讀管理系統查詢。\n",
      "中央大學的「安心就學支持計畫」提供多種獎助學金，以下是主要獎助學金的相關資訊：\n",
      "\n",
      "1. **安心學習助學金**：每學期核定150名學生，需參加學習活動並提交計畫書，金額為每次新台幣6,000元。\n",
      "\n",
      "2. **向日葵計畫助學金**：根據學生學習表現進行調整。\n",
      "\n",
      "3. **課業學習輔導成績進步助學金**：接受課輔輔導並顯著提高學業成績的學生可獲得最多3,000元。\n",
      "\n",
      "4. **課業輔導學伴獎勵金**：擔任課輔學伴且表現優異的學生可獲得最多6,000元。\n",
      "\n",
      "5. **競賽拔尖獎勵金**：參加競賽並提交成果的學生可獲得最多40,000元。\n",
      "\n",
      "6. **社會創新培力獎勵金**：針對有意舉辦社會責任活動的學生，每位獎勵最多10,000元。\n",
      "\n",
      "7. **社會實踐輔導助學金**：參加學習護照活動的前10名學生可獲得5,000元。\n",
      "\n",
      "8. **外語能力測驗報名費助學金**：每年最多補助2次，每次不超過1,600元。\n",
      "\n",
      "9. **外語檢定認證助學金**：根據檢定等級可獲得1,000至10,000元不等的獎勵。\n",
      "\n",
      "10. **職涯活動助學金**：參加職涯輔導活動後可獲得最多5,000元。\n",
      "\n",
      "11. **實習獎勵金**：根據實習時數和成績可獲得最多40,000元。\n",
      "\n",
      "12. **國外進修補助獎勵**：針對經濟或文化不利學生的海外研修補助。\n",
      "\n",
      "13. **原住民族族語認證考試獎勵金**：根據族語能力測驗的結果提供獎勵，最高可達20,000元。\n",
      "\n",
      "14. **宿舍學習助學金**：參加宿舍輔導活動的學生可獲得最多5,000元。\n",
      "\n",
      "詳細的申請方式和其他獎助學金資訊可透過中央大學的獎助學金暨工讀管理系統查詢。\n"
     ]
    }
   ],
   "source": [
    "import gradio as gr\n",
    "\n",
    "with gr.Blocks() as demo:\n",
    "    chatbot = gr.Chatbot(type=\"messages\")\n",
    "    msg = gr.Textbox()\n",
    "    msg.submit(respond, [msg, chatbot], [msg, chatbot])\n",
    "\n",
    "demo.launch()"
   ]
  },
  {
   "cell_type": "markdown",
   "metadata": {},
   "source": [
    "# Pipeline Creator Graph"
   ]
  },
  {
   "cell_type": "markdown",
   "metadata": {},
   "source": [
    "## Create Pipeline Creator"
   ]
  },
  {
   "cell_type": "code",
   "execution_count": null,
   "metadata": {},
   "outputs": [],
   "source": [
    "import functools\n",
    "from langgraph.prebuilt import create_react_agent\n",
    "\n",
    "# Pipeline Creator\n",
    "tools = [all_tools[name] for name in agents_parameter['pipeline_creator']['tools']]\n",
    "system_message = agents_parameter['pipeline_creator']['system_message']\n",
    "pipeline_creator = create_react_agent(llm, tools=tools, state_modifier=functools.partial(modify_state_messages, tools=tools, system_message=system_message))\n",
    "pipeline_creator_node = functools.partial(pipeline_agent_node, agent=pipeline_creator, name=\"Pipeline_Creator\")"
   ]
  },
  {
   "cell_type": "markdown",
   "metadata": {},
   "source": [
    "## Define Pipeline Creator Graph"
   ]
  },
  {
   "cell_type": "code",
   "execution_count": null,
   "metadata": {},
   "outputs": [],
   "source": [
    "from langgraph.graph import StateGraph\n",
    "from langgraph.graph import END, START\n",
    "from langgraph.checkpoint.memory import MemorySaver\n",
    "\n",
    "pipeline_creator_ = StateGraph(AgentState)\n",
    "pipeline_creator_.add_node(\"Pipeline Creator\", pipeline_creator_node)\n",
    "\n",
    "pipeline_creator_.add_edge(START, \"Pipeline Creator\")\n",
    "pipeline_creator_.add_edge(\"Pipeline Creator\", END)\n",
    "\n",
    "pipeline_creator_memory = MemorySaver()\n",
    "pipeline_creator_graph = pipeline_creator_.compile(checkpointer=pipeline_creator_memory)"
   ]
  },
  {
   "cell_type": "code",
   "execution_count": null,
   "metadata": {},
   "outputs": [],
   "source": [
    "# from IPython.display import Image, display\n",
    "\n",
    "# display(Image(pipeline_creator_graph.get_graph(xray=1).draw_mermaid_png()))"
   ]
  },
  {
   "cell_type": "markdown",
   "metadata": {},
   "source": [
    "### Invoke"
   ]
  },
  {
   "cell_type": "code",
   "execution_count": null,
   "metadata": {},
   "outputs": [],
   "source": [
    "import shutil\n",
    "\n",
    "screenshots_dir = \"screenshots\"\n",
    "if os.path.exists(screenshots_dir):\n",
    "    for filename in os.listdir(screenshots_dir):\n",
    "        file_path = os.path.join(screenshots_dir, filename)\n",
    "        try:\n",
    "            if os.path.isfile(file_path) or os.path.islink(file_path):\n",
    "                os.unlink(file_path)\n",
    "            elif os.path.isdir(file_path):\n",
    "                shutil.rmtree(file_path)\n",
    "        except Exception as e:\n",
    "            print(f'Failed to delete {file_path}. Reason: {e}')\n",
    "print(\"Cleared screenshots directory\")"
   ]
  },
  {
   "cell_type": "code",
   "execution_count": null,
   "metadata": {},
   "outputs": [],
   "source": [
    "def pipeline_creator_chat(query: str, user_id: str):\n",
    "    thread_id = user_id\n",
    "    input_messages = {\"messages\": [HumanMessage(content=query)], \"user_id\": user_id}  \n",
    "    config = {\n",
    "        \"recursion_limit\": 50, # agent彼此間的最大交互次數\n",
    "        \"configurable\": {\n",
    "            \"thread_id\": \"pipeline creator\" + thread_id # 用來存取記憶的id\n",
    "        }\n",
    "    }\n",
    "\n",
    "    for chunk in pipeline_creator_graph.stream(input=input_messages, config=config, subgraphs=True, stream_mode=\"values\"):\n",
    "        chunk[1][\"messages\"][-1].pretty_print()"
   ]
  },
  {
   "cell_type": "code",
   "execution_count": null,
   "metadata": {},
   "outputs": [],
   "source": [
    "user_id = \"101112\""
   ]
  },
  {
   "cell_type": "code",
   "execution_count": null,
   "metadata": {},
   "outputs": [],
   "source": [
    "query = \"請打開瀏覽器後到 https://cis.ncu.edu.tw/iNCU/stdAffair/leaveRequest 頁面\"\n",
    "pipeline_creator_chat(query, user_id)"
   ]
  },
  {
   "cell_type": "code",
   "execution_count": null,
   "metadata": {},
   "outputs": [],
   "source": [
    "query = \"幫我輸入帳號\"\n",
    "pipeline_creator_chat(query, user_id)"
   ]
  },
  {
   "cell_type": "code",
   "execution_count": null,
   "metadata": {},
   "outputs": [],
   "source": [
    "query = \"幫我輸入密碼\"\n",
    "pipeline_creator_chat(query, user_id)"
   ]
  },
  {
   "cell_type": "code",
   "execution_count": null,
   "metadata": {},
   "outputs": [],
   "source": [
    "query = \"請幫我點擊登入按鈕\"\n",
    "pipeline_creator_chat(query, user_id)"
   ]
  },
  {
   "cell_type": "code",
   "execution_count": null,
   "metadata": {},
   "outputs": [],
   "source": [
    "query = \"請幫我點擊 go to 按鈕\"\n",
    "pipeline_creator_chat(query, user_id)"
   ]
  },
  {
   "cell_type": "code",
   "execution_count": null,
   "metadata": {},
   "outputs": [],
   "source": [
    "query = \"請幫我點擊申請按鈕\"\n",
    "pipeline_creator_chat(query, user_id)"
   ]
  },
  {
   "cell_type": "code",
   "execution_count": null,
   "metadata": {},
   "outputs": [],
   "source": [
    "query = \"請幫我勾選'本人已詳讀並充分了解 '\"\n",
    "pipeline_creator_chat(query, user_id)"
   ]
  },
  {
   "cell_type": "code",
   "execution_count": null,
   "metadata": {},
   "outputs": [],
   "source": [
    "query = \"請幫我點擊送出按鈕\"\n",
    "pipeline_creator_chat(query, user_id)"
   ]
  },
  {
   "cell_type": "code",
   "execution_count": null,
   "metadata": {},
   "outputs": [],
   "source": [
    "query = \"請幫我在下拉選單中選取[病假]\"\n",
    "pipeline_creator_chat(query, user_id)"
   ]
  },
  {
   "cell_type": "code",
   "execution_count": null,
   "metadata": {},
   "outputs": [],
   "source": [
    "query = \"請幫我點擊請假開始日的輸入框\"\n",
    "pipeline_creator_chat(query, user_id)"
   ]
  },
  {
   "cell_type": "code",
   "execution_count": null,
   "metadata": {},
   "outputs": [],
   "source": [
    "query = \"請幫我點擊第1個日曆中的[2024年11月26日], 具體日期文字請以網頁html內容為主\"\n",
    "pipeline_creator_chat(query, user_id)"
   ]
  },
  {
   "cell_type": "code",
   "execution_count": null,
   "metadata": {},
   "outputs": [],
   "source": [
    "query = \"請幫我點擊請假結束日的輸入框\"\n",
    "pipeline_creator_chat(query, user_id)"
   ]
  },
  {
   "cell_type": "code",
   "execution_count": null,
   "metadata": {},
   "outputs": [],
   "source": [
    "query = \"index = 2, 請幫我點擊第2個日曆中的[2024年11月27日], 具體日期文字請以網頁html內容為主\"\n",
    "pipeline_creator_chat(query, user_id)"
   ]
  },
  {
   "cell_type": "code",
   "execution_count": null,
   "metadata": {},
   "outputs": [],
   "source": [
    "query = \"請幫我點擊送出\"\n",
    "pipeline_creator_chat(query, user_id)"
   ]
  },
  {
   "cell_type": "code",
   "execution_count": null,
   "metadata": {},
   "outputs": [],
   "source": [
    "query = \"請幫我在請假事由的輸入框內填入[生病]\"\n",
    "pipeline_creator_chat(query, user_id)"
   ]
  },
  {
   "cell_type": "code",
   "execution_count": null,
   "metadata": {},
   "outputs": [],
   "source": [
    "query = \"請幫我上傳以下檔案[C:\\\\Users\\\\George\\\\Pictures\\\\Screenshots\\\\螢幕擷取畫面 2024-11-24 212903.png]到confirm_file\"\n",
    "pipeline_creator_chat(query, user_id)"
   ]
  },
  {
   "cell_type": "code",
   "execution_count": null,
   "metadata": {},
   "outputs": [],
   "source": [
    "query = \"請幫我點擊is_check選取框\"\n",
    "pipeline_creator_chat(query, user_id)"
   ]
  },
  {
   "cell_type": "code",
   "execution_count": null,
   "metadata": {},
   "outputs": [],
   "source": [
    "query = \"請幫我點擊暫存\"\n",
    "pipeline_creator_chat(query, user_id)"
   ]
  },
  {
   "cell_type": "code",
   "execution_count": null,
   "metadata": {},
   "outputs": [],
   "source": [
    "query = \"請總結目前執行過的步驟\"\n",
    "pipeline_creator_chat(query, user_id)"
   ]
  },
  {
   "cell_type": "code",
   "execution_count": null,
   "metadata": {},
   "outputs": [],
   "source": [
    "del selenium_controller"
   ]
  }
 ],
 "metadata": {
  "kernelspec": {
   "display_name": "langgraph_03_28_25",
   "language": "python",
   "name": "python3"
  },
  "language_info": {
   "codemirror_mode": {
    "name": "ipython",
    "version": 3
   },
   "file_extension": ".py",
   "mimetype": "text/x-python",
   "name": "python",
   "nbconvert_exporter": "python",
   "pygments_lexer": "ipython3",
   "version": "3.12.8"
  }
 },
 "nbformat": 4,
 "nbformat_minor": 2
}
