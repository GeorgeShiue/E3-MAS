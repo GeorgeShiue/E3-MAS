{
 "cells": [
  {
   "cell_type": "markdown",
   "metadata": {},
   "source": [
    "# Token & Models"
   ]
  },
  {
   "cell_type": "code",
   "execution_count": 1,
   "metadata": {},
   "outputs": [],
   "source": [
    "import os\n",
    "from dotenv import load_dotenv\n",
    "\n",
    "load_dotenv()\n",
    "api_key = os.getenv(\"API_KEY\")\n",
    "os.environ[\"OPENAI_API_KEY\"] = api_key"
   ]
  },
  {
   "cell_type": "code",
   "execution_count": 2,
   "metadata": {},
   "outputs": [],
   "source": [
    "from langchain_openai import ChatOpenAI\n",
    "\n",
    "model = ChatOpenAI(model=\"gpt-4o-mini\")\n",
    "llm = ChatOpenAI(model=\"gpt-4o-mini\")"
   ]
  },
  {
   "cell_type": "markdown",
   "metadata": {},
   "source": [
    "# Tools Development"
   ]
  },
  {
   "cell_type": "code",
   "execution_count": 3,
   "metadata": {},
   "outputs": [],
   "source": [
    "from langchain_core.tools import tool"
   ]
  },
  {
   "cell_type": "markdown",
   "metadata": {},
   "source": [
    "## Websites Info Retriever"
   ]
  },
  {
   "cell_type": "code",
   "execution_count": 5,
   "metadata": {},
   "outputs": [
    {
     "name": "stdout",
     "output_type": "stream",
     "text": [
      "link:  https://osa.ncu.edu.tw/news_article.php?event_id=3101/news.php\n",
      "page_content:  網站標題: 最新消息\n",
      "簡介: 網頁內容主要介紹了國立中央大學學務處的各個組別及其功能，並發布了最新的活動消息。特別是提到了一場名為「宿舍導師講座_12/13(五)下一站去哪裡？」的活動，將於2024年12月13日舉行，時間為18:30至20:30，地點在女14舍藝文空間。講座由李健榮博士主講，將探討人生選擇及自主學習的影響，參加者可獲得生活知能2小時，並符合申請宿舍學習獎助學金的資格。聯絡人為胡硯芬，提供了電話與電子郵件聯絡方式。\n",
      "---\n",
      "link:  https://pdc.adm.ncu.edu.tw/#/index.asp\n",
      "page_content:  網站標題: 最新消息\n",
      "簡介: 國立中央大學的教務處網站提供關於教務相關的資訊，包括招生、註冊、課務及教學發展等各個組別的公告和活動。網站上有最新消息的更新，例如研究所甄試入學的注意事項、課程停修的申請時間、各種教學研討會及競賽的通知等。此外，教務處也提供相關服務及資源，例如選課系統和跨領域學習諮詢等。網站建議使用支持JavaScript的瀏覽器以獲得最佳瀏覽體驗。\n",
      "---\n",
      "link:  https://pdc.adm.ncu.edu.tw/#U/index.asp\n",
      "page_content:  網站標題: 最新消息\n",
      "簡介: 國立中央大學的教務處提供各類學術及行政服務，主要包括招生、註冊、課務和教學發展等功能。網站上有最新消息公告，例如研究所甄試的入學注意事項、課程停修申請及各種教學活動的報名信息。此外，教務處還提供跨領域學習諮詢服務及著作權法相關指引。對於使用者，網站建議使用支持JavaScript的瀏覽器以確保功能正常運作，並提供聯絡資訊及隱私政策聲明。\n",
      "---\n",
      "link:  https://pdc.adm.ncu.edu.tw/.//index.asp\n",
      "page_content:  網站標題: 最新消息\n",
      "簡介: 國立中央大學教務處的網頁提供了關於教務處各組別的資訊，包括招生組、註冊組、課務組、教學發展中心及中大出版中心。網頁上有最新消息更新，如研究所甄試錄取生的提前入學申請注意事項、課程停修申請的時間、各種講座和工作坊的報名資訊等。此外，還有關於交換學生申請和學位證書頒發的公告。網站建議使用Chrome、Firefox或Microsoft Edge瀏覽，並提供聯絡地址及電話。\n",
      "---\n",
      "link:  https://pdc.adm.ncu.edu.tw/#C/index.asp\n",
      "page_content:  網站標題: 最新消息\n",
      "簡介: 國立中央大學的教務處網站提供了各項與教務相關的資訊，包括招生、註冊、課務以及教學發展等服務。最近的公告涵蓋了研究所甄試錄取生的提前入學注意事項、課程停修申請、校園演講報名、教師增能工作坊及交換學生申請等重要資訊。此外，網站還提供了跨領域自主學習諮詢服務及AI智慧學習挑戰賽的相關信息。使用者如遇到JavaScript功能問題，需開啟瀏覽器的JavaScript設置以正常使用網站功能。聯絡資訊及隱私權政策亦在網站上註明。\n",
      "---\n",
      "link:  https://osa.ncu.edu.tw/news_article.php?event_id=3069/news.php\n",
      "page_content:  網站標題: 最新消息\n",
      "簡介: 該網頁是國立中央大學學務處的公告，主要內容涉及113學年度第一學期的大一週會及院週會安排。大一週會定於每週二上午10:00至12:00舉行，並提供報名網址。會議主題包括AI時代的學習、原住民教育、AI永續論壇及交通安全等，講者包括知名教授及專家。各院的週會則由各院自行安排，會議時間和地點也在公告中列出。網頁還提供了服務學習時數的相關問題解答及FB粉絲專頁的資訊。\n",
      "---\n",
      "link:  https://osa.ncu.edu.tw/news_article.php?event_id=3098/news.php\n",
      "page_content:  網站標題: 最新消息\n",
      "簡介: 該網頁內容屬於國立中央大學學務處，介紹了多個相關單位，包括生活輔導組、諮商輔導中心、課外活動組等，以及提供住宿服務、衛生保健、職涯發展等支援。網頁上最新的行政公告提到，內政部於2023年11月21日修正了「住宅轉租契約書範本」，並提供下載連結，方便學生使用。最後，頁面提供了學務處的聯絡資訊及版權聲明。\n",
      "---\n",
      "link:  https://pdc.adm.ncu.edu.tw/index.asp\n",
      "page_content:  網站標題: 最新消息\n",
      "簡介: 國立中央大學的教務處網站包含了多個重要的功能和資訊，包括招生資訊、註冊、課務以及教學發展中心的相關活動。最近的公告涉及研究所甄試錄取生的提前入學注意事項、課程停修申請的時間、以及各種教學活動和競賽的報名資訊。網站還提供聯絡資訊和隱私政策，並建議使用某些瀏覽器以獲得最佳顯示效果。\n",
      "---\n",
      "link:  https://osa.ncu.edu.tw/news_article.php?event_id=3096/news.php\n",
      "page_content:  網站標題: 最新消息\n",
      "簡介: 網頁內容主要介紹了國立中央大學學務處下的各個單位，包括生活輔導組、諮商輔導中心、課外活動組、服務學習發展中心、住宿服務組、衛生保健組、職涯發展中心及原住民族學生資源中心。最新消息部分提到了一則行政公告，公告日期為2024年11月26日，內容涉及內政部修正的「住宅轉租定型化契約應記載及不得記載事項」的規定，並提供了相關的網址供參考。該網頁還包含了聯絡資訊及版權聲明。\n",
      "---\n",
      "link:  https://pdc.adm.ncu.edu.tw/#B/index.asp\n",
      "page_content:  網站標題: 最新消息\n",
      "簡介: 國立中央大學的教務處網站提供了多項服務與資訊，包括招生、註冊、課務及教學發展等。網站上有最新消息更新，涵蓋各類公告，如研究所甄試錄取生的入學注意事項、停修課程的申請時間及校園講座等活動。此外，網站還提供了不同的系統連結，例如選課系統及跨領域專區，並有關於使用ChatGPT的基本原則說明。聯絡資訊包括地址、電話和傳真，並建議使用特定瀏覽器以獲得最佳瀏覽效果。\n",
      "---\n",
      "link:  http://osa.ncu.edu.tw/\n",
      "page_content:  網站標題: 學務處\n",
      "簡介: 國立中央大學學務處提供多元的服務與資源，包括生活輔導、諮商輔導、課外活動、服務學習、住宿服務、衛生保健、職涯發展及原住民族學生資源等。近期公告涵蓋求職詐騙防範、大一週會安排、宿舍導師講座、住宅轉租契約修正、教育部人權教育推廣及校園安全宣導等主題。此外，學務處還設有各類系統如學生意見反映、職涯諮詢預約、獎助學金申請等，以支持學生的學習與生活需求。\n",
      "---\n",
      "link:  https://osa.ncu.edu.tw/news_article.php?event_id=3085/news.php\n",
      "page_content:  網站標題: 最新消息\n",
      "簡介: 國立中央大學學務處最近發布了一則公告，提醒學生注意網路求職詐騙。公告指出，在Instagram上出現了冒用本校名義的求職信息，招聘「雙語朗讀人員」的訊息經查證為詐騙。學校呼籲學生在求職時要提高警覺，勿輕信社交平台上的求職信息，並避免提供個人資訊給不明人士。學生應透過官方渠道確認求職訊息的真實性，以免受到詐騙。公告中還附上相關的網路圖示資訊供學生參考。\n",
      "---\n",
      "link:  https://osa.ncu.edu.tw/news_article.php?event_id=3092/news.php\n",
      "page_content:  網站標題: 最新消息\n",
      "簡介: 國立中央大學學務處下設多個組織，包括生活輔導組、諮商輔導中心、課外活動組、服務學習發展中心、住宿服務組、衛生保健組、職涯發展中心及原住民族學生資源中心。最新公告提到教育部推動人權及轉型正義教育的影音資源，該計畫由生活輔導組負責實施。相關資訊可在學務處網站查閱，聯絡電話為(03)422-7151#57200。\n",
      "---\n",
      "link:  https://pdc.adm.ncu.edu.tw/#C/subindex4.asp\n",
      "page_content:  網站標題: 課務組\n",
      "簡介: 國立中央大學教務處的網頁提供了學校教務相關的資訊，包括招生、註冊、課務及教學發展等各個組別的最新公告與活動。近期公告涵蓋研究所甄試錄取生的提前入學注意事項、課程停修申請的時間、各類教學活動及競賽的報名資訊。網站也提供了聯絡資訊與隱私政策，並建議使用特定瀏覽器以獲得最佳瀏覽效果。\n",
      "---\n",
      "link:  https://admission.ncu.edu.tw/zh-TW/category-list/news_bachelor/8\n",
      "page_content:  網站標題: 最新消息\n",
      "簡介: 國立中央大學的招生資訊網提供了114學年度學士班特殊選才入學的相關簡章。這個招生管道針對不同類型的學生，包括繁星推薦、申請入學及分發入學等方式。網站上有最新消息、各班級的招生資訊、獎助學金計畫、以及針對高中生的專區。此外，網站還提供了各類相關連結，如大學考試入學分發委員會及教育部的資訊。\n",
      "\n",
      "近期消息包括特殊選才的錄取名單、口試日期的調整、以及報名人數的統計。網站也包含了學系介紹、開放日活動和學習資源，以便幫助學生了解學校及其課程。\n",
      "---\n",
      "link:  http://pdc.adm.ncu.edu.tw/le/le.html\n",
      "page_content:  網站標題: 教務處學生學習資源網\n",
      "簡介: 國立中央大學的教務處網站提供了多項學術及行政資訊，包括招生、註冊、課務及教學發展等。網站上有最新消息公告，如課程初選時間、各種培訓和活動的資訊，以及學生評量的相關通知。此外，網站還提供了聯絡方式及隱私權政策等基本資訊。建議使用最新的瀏覽器以獲得最佳的瀏覽體驗。\n",
      "---\n",
      "link:  https://pdc.adm.ncu.edu.tw/#U/subindex.asp\n",
      "page_content:  網站標題: 教務處\n",
      "簡介: 國立中央大學的教務處網站提供多項服務和最新消息，包括招生資訊、註冊、課務管理及教學發展中心的各項活動。網站上列出了最近的公告，如研究所甄試錄取生的提前入學注意事項、課程停修申請的時間、以及各類教學工作坊和競賽的報名資訊。網站還提供聯絡資訊及隱私權政策，並建議使用特定瀏覽器以獲得最佳顯示效果。\n",
      "---\n",
      "link:  https://pdc.adm.ncu.edu.tw/#U/./\n",
      "page_content:  網站標題: | 教務處\n",
      "簡介: 國立中央大學教務處的網頁提供了多項服務和最新消息，包括招生資訊、註冊、課務和教學發展等。網站上有各類公告，例如研究所甄試錄取生的提前入學注意事項、課程停修申請時間、交換學生申請、學位證書頒發注意事項，以及各種教學工作坊和競賽的資訊。此外，網站也提供了使用ChatGPT的基本原則和教務相關的章則及評鑑資料。教務處的聯絡資訊及隱私政策也在網頁上列出，並建議使用特定的瀏覽器以獲得最佳瀏覽體驗。\n",
      "---\n",
      "link:  https://pdc.adm.ncu.edu.tw/#U/subindex4.asp\n",
      "page_content:  網站標題: 課務組\n",
      "簡介: 國立中央大學教務處的網頁提供了各類教務相關資訊，包括招生、註冊、課務及教學發展等。網頁上有最新消息的公告，例如研究所甄試錄取生的提前入學注意事項、課程停修申請的時間及相關說明、各種教學工作坊及競賽的報名資訊。教務處也提供跨領域學習諮詢及智財宣導等服務。網站建議使用特定瀏覽器以獲得最佳顯示效果，並提供聯絡資訊及隱私政策。\n",
      "---\n",
      "link:  https://osa.ncu.edu.tw/services.php#section9/ #section9\n",
      "page_content:  網站標題: 歷屆新生知訊網\n",
      "簡介: 網頁內容主要介紹了國立中央大學學務處的各項服務資源，包括生活輔導、學生住宿、衛生保健、諮商輔導、課外活動、職涯輔導和服務學習等。具體服務項目涵蓋學生工讀、獎助學金、就學貸款、急難救助、健康檢查、心理諮詢、學生社團及職涯發展等。此外，網站還提供歷屆新生知訊網、聯絡資訊及學生意見反映等功能，旨在為學生提供全面的支持和資源。\n",
      "---\n",
      "link:  https://pdc.adm.ncu.edu.tw/.//subindex.asp\n",
      "page_content:  網站標題: 教務處\n",
      "簡介: 國立中央大學的教務處網站提供有關學校教務事務的資訊，包括教務處的介紹、校曆、教務法規、新生專區、教務會議及統計資料等。網站上有最新消息更新，例如學位證書頒發注意事項、期末教學評量中獎名單、選課資訊及交換學生的申請公告等。此外，網站還設有系所評鑑專區、選課系統、教學發展中心及遠距教學相關資源。聯絡資訊包括地址及電話，並建議使用特定瀏覽器以獲得最佳瀏覽效果。\n",
      "---\n",
      "link:  http://osa.ncu.edu.tw\n",
      "page_content:  網站標題: 中央大學學務處\n",
      "簡介: 國立中央大學學務處提供多項服務和資源，包括生活輔導、諮商輔導、課外活動、服務學習、住宿、衛生保健、職涯發展及原住民族學生資源等。近期公告包括防求職詐騙訊息、學期週會安排及宿舍導師講座等。學務處還提供新生知訊、學生意見反映、職涯諮詢以及各類補助和獎學金系統，旨在支持學生的學習與生活。校園安全宣導和人權教育資源的推廣也是重要內容。網站更新穩定，瀏覽量達646次，提供完整的聯絡資訊和版權聲明。\n",
      "---\n",
      "link:  http://ncupress.ncu.edu.tw//news\n",
      "page_content:  網站標題: 最新消息\n",
      "簡介: 中大出版中心的最新消息包括新書上架、公告和各類活動資訊。該中心提供出版品型錄及徵稿資訊，並介紹其中心簡介及活動集錦。聯絡電話為03-4227151-57103，電子郵件為ncupress@ncu.edu.tw，中心位於國立中央大學教學研究大樓A棟4樓。網站還包含隱私權政策聲明及網站導覽功能。\n",
      "---\n",
      "link:  https://pdc.adm.ncu.edu.tw/#/#U\n",
      "page_content:  網站標題: :::\n",
      "簡介: 國立中央大學的教務處網站提供了多項服務和資訊，包括招生、註冊、課務及教學發展等功能。網站上有最新的公告和活動資訊，例如研究所甄試錄取生的提前入學注意事項、課程停修申請的時間、各類教學增能工作坊及競賽活動等。此外，網站也提供跨領域學習的資源和教務相關的章則及評鑑資訊。\n",
      "\n",
      "教務處的聯絡資訊包括地址、電話及傳真號碼，並建議使用特定的瀏覽器以獲得最佳的網站使用體驗。\n",
      "---\n",
      "link:  https://osa.ncu.edu.tw/services.php#section9/serviceinfo.php?resource_id=61\n",
      "page_content:  網站標題: 學務處聯絡資訊\n",
      "簡介: 網頁內容為國立中央大學學務處的各項服務資源，主要包括以下幾個部分：\n",
      "\n",
      "1. **生活輔導**：提供學生生活上的支持，包含學生工讀、獎助學金、就學貸款等。\n",
      "2. **學生住宿**：介紹學生宿舍的設施與申請流程，並提供校外居住資訊。\n",
      "3. **衛生保健**：提供健康檢查、醫療器材借用及營養諮詢等服務。\n",
      "4. **諮商輔導**：提供心理諮商預約、心理座談及相關輔導資源。\n",
      "5. **課外活動**：協助學生參加社團及場地借用。\n",
      "6. **職涯發展**：包括職涯諮詢、活動報名及職涯中心的各類資源。\n",
      "7. **服務學習**：提供服務學習的認證、最新消息及相關表單下載。\n",
      "\n",
      "此外，網站還提供了歷屆新生知訊網及其他聯絡資訊、學生意見反映與申訴管道。整體目的是為了協助學生在學習與生活中獲得全面的支持與資源。\n",
      "---\n",
      "link:  https://pdc.adm.ncu.edu.tw/subindex.asp\n",
      "page_content:  網站標題: 教務處\n",
      "簡介: 國立中央大學的教務處網站提供了多項功能和最新消息，包括教務處的簡介、校曆、教務法規、新生專區、教務會議、統計資料及雙語教學推動資源中心等。最近的消息涵蓋學位證書發放、期末教學評量中獎名單、課務日程表及選課資訊、研究所甄試錄取生的注意事項等。此外，網站還提供各種系統，如選課系統、教務手冊和遠距教學網等，並提供聯絡資訊和隱私政策。使用者需開啟JavaScript以獲取完整功能。\n",
      "---\n",
      "link:  https://pdc.adm.ncu.edu.tw/newble_note_reg.asp\n",
      "page_content:  網站標題: 新生專區\n",
      "簡介: 國立中央大學的教務處網站提供了多項服務和資訊，主要包括教務處的簡介、最新消息、校曆、教務法規以及新生專區。新生專區特別針對111學年度的研究所及學士班新生提供註冊通知和相關資源。此外，網站還提供選課系統、歷屆考古題、課務管理系統和遠距教學網等功能，並有針對退除役官兵的專區。網站建議使用Chrome、Firefox或Microsoft Edge瀏覽，最佳顯示效果為1920*1080。教務處的聯絡資訊包括地址、電話和傳真。\n",
      "---\n",
      "link:  https://pdc.adm.ncu.edu.tw/#/subindex4.asp\n",
      "page_content:  網站標題: 課務組\n",
      "簡介: 國立中央大學教務處的網站提供了多項功能和資訊，包括招生、註冊、課務及教學發展中心的相關服務。網站內有最新消息公告，例如研究所甄試錄取生的提前入學注意事項、課程停修申請、交換學生申請等。此外，教學發展中心也舉辦各種活動，如EMI教師增能工作坊及AI智慧學習挑戰賽等。網站建議使用Chrome、Firefox或Microsoft Edge瀏覽，以獲得最佳的顯示效果。教務處的聯絡資訊包括地址和電話，並提供隱私權及網站安全政策的聲明。\n",
      "---\n",
      "link:  https://pdc.adm.ncu.edu.tw/#/subindex.asp\n",
      "page_content:  網站標題: 教務處\n",
      "簡介: 國立中央大學的教務處網站提供有關學校教務的多項資訊，包括招生、註冊、課務和教學發展等功能。網站包含最新消息，如研究所甄試錄取生的提前入學注意事項、課程停修申請的相關時間及說明、以及各類教學工作坊和競賽的報名公告。此外，網站還提供聯絡資訊及隱私權政策，並建議使用特定瀏覽器以獲得最佳瀏覽效果。\n",
      "---\n",
      "link:  https://osa.ncu.edu.tw/news_article.php?event_id=3069/news.php?event_category_no=4\n",
      "page_content:  網站標題: 演講\n",
      "簡介: 網頁內容主要介紹國立中央大學學務處的各項服務及公告，包括生活輔導組、諮商輔導中心、課外活動組等多個部門的功能。最新消息部分提到113學年度第1學期的大一週會及院週會安排，列出了多場講座的時間和主題，包括AI時代的學習、交通安全等。此外，還提供了報名網址和相關的服務學習時數Q&A連結，並鼓勵學生關注FB粉絲專頁以獲取更多資訊。院週會則由各院自行辦理，並列出具體日期和地點。\n",
      "---\n"
     ]
    },
    {
     "data": {
      "text/plain": [
       "'link: https://osa.ncu.edu.tw/news_article.php?event_id=3101/news.php\\n網站標題: 最新消息\\n簡介: 網頁內容主要介紹了國立中央大學學務處的各個組別及其功能，並發布了最新的活動消息。特別是提到了一場名為「宿舍導師講座_12/13(五)下一站去哪裡？」的活動，將於2024年12月13日舉行，時間為18:30至20:30，地點在女14舍藝文空間。講座由李健榮博士主講，將探討人生選擇及自主學習的影響，參加者可獲得生活知能2小時，並符合申請宿舍學習獎助學金的資格。聯絡人為胡硯芬，提供了電話與電子郵件聯絡方式。\\n---\\nlink: https://pdc.adm.ncu.edu.tw/#/index.asp\\n網站標題: 最新消息\\n簡介: 國立中央大學的教務處網站提供關於教務相關的資訊，包括招生、註冊、課務及教學發展等各個組別的公告和活動。網站上有最新消息的更新，例如研究所甄試入學的注意事項、課程停修的申請時間、各種教學研討會及競賽的通知等。此外，教務處也提供相關服務及資源，例如選課系統和跨領域學習諮詢等。網站建議使用支持JavaScript的瀏覽器以獲得最佳瀏覽體驗。\\n---\\nlink: https://pdc.adm.ncu.edu.tw/#U/index.asp\\n網站標題: 最新消息\\n簡介: 國立中央大學的教務處提供各類學術及行政服務，主要包括招生、註冊、課務和教學發展等功能。網站上有最新消息公告，例如研究所甄試的入學注意事項、課程停修申請及各種教學活動的報名信息。此外，教務處還提供跨領域學習諮詢服務及著作權法相關指引。對於使用者，網站建議使用支持JavaScript的瀏覽器以確保功能正常運作，並提供聯絡資訊及隱私政策聲明。\\n---\\nlink: https://pdc.adm.ncu.edu.tw/.//index.asp\\n網站標題: 最新消息\\n簡介: 國立中央大學教務處的網頁提供了關於教務處各組別的資訊，包括招生組、註冊組、課務組、教學發展中心及中大出版中心。網頁上有最新消息更新，如研究所甄試錄取生的提前入學申請注意事項、課程停修申請的時間、各種講座和工作坊的報名資訊等。此外，還有關於交換學生申請和學位證書頒發的公告。網站建議使用Chrome、Firefox或Microsoft Edge瀏覽，並提供聯絡地址及電話。\\n---\\nlink: https://pdc.adm.ncu.edu.tw/#C/index.asp\\n網站標題: 最新消息\\n簡介: 國立中央大學的教務處網站提供了各項與教務相關的資訊，包括招生、註冊、課務以及教學發展等服務。最近的公告涵蓋了研究所甄試錄取生的提前入學注意事項、課程停修申請、校園演講報名、教師增能工作坊及交換學生申請等重要資訊。此外，網站還提供了跨領域自主學習諮詢服務及AI智慧學習挑戰賽的相關信息。使用者如遇到JavaScript功能問題，需開啟瀏覽器的JavaScript設置以正常使用網站功能。聯絡資訊及隱私權政策亦在網站上註明。\\n---\\nlink: https://osa.ncu.edu.tw/news_article.php?event_id=3069/news.php\\n網站標題: 最新消息\\n簡介: 該網頁是國立中央大學學務處的公告，主要內容涉及113學年度第一學期的大一週會及院週會安排。大一週會定於每週二上午10:00至12:00舉行，並提供報名網址。會議主題包括AI時代的學習、原住民教育、AI永續論壇及交通安全等，講者包括知名教授及專家。各院的週會則由各院自行安排，會議時間和地點也在公告中列出。網頁還提供了服務學習時數的相關問題解答及FB粉絲專頁的資訊。\\n---\\nlink: https://osa.ncu.edu.tw/news_article.php?event_id=3098/news.php\\n網站標題: 最新消息\\n簡介: 該網頁內容屬於國立中央大學學務處，介紹了多個相關單位，包括生活輔導組、諮商輔導中心、課外活動組等，以及提供住宿服務、衛生保健、職涯發展等支援。網頁上最新的行政公告提到，內政部於2023年11月21日修正了「住宅轉租契約書範本」，並提供下載連結，方便學生使用。最後，頁面提供了學務處的聯絡資訊及版權聲明。\\n---\\nlink: https://pdc.adm.ncu.edu.tw/index.asp\\n網站標題: 最新消息\\n簡介: 國立中央大學的教務處網站包含了多個重要的功能和資訊，包括招生資訊、註冊、課務以及教學發展中心的相關活動。最近的公告涉及研究所甄試錄取生的提前入學注意事項、課程停修申請的時間、以及各種教學活動和競賽的報名資訊。網站還提供聯絡資訊和隱私政策，並建議使用某些瀏覽器以獲得最佳顯示效果。\\n---\\nlink: https://osa.ncu.edu.tw/news_article.php?event_id=3096/news.php\\n網站標題: 最新消息\\n簡介: 網頁內容主要介紹了國立中央大學學務處下的各個單位，包括生活輔導組、諮商輔導中心、課外活動組、服務學習發展中心、住宿服務組、衛生保健組、職涯發展中心及原住民族學生資源中心。最新消息部分提到了一則行政公告，公告日期為2024年11月26日，內容涉及內政部修正的「住宅轉租定型化契約應記載及不得記載事項」的規定，並提供了相關的網址供參考。該網頁還包含了聯絡資訊及版權聲明。\\n---\\nlink: https://pdc.adm.ncu.edu.tw/#B/index.asp\\n網站標題: 最新消息\\n簡介: 國立中央大學的教務處網站提供了多項服務與資訊，包括招生、註冊、課務及教學發展等。網站上有最新消息更新，涵蓋各類公告，如研究所甄試錄取生的入學注意事項、停修課程的申請時間及校園講座等活動。此外，網站還提供了不同的系統連結，例如選課系統及跨領域專區，並有關於使用ChatGPT的基本原則說明。聯絡資訊包括地址、電話和傳真，並建議使用特定瀏覽器以獲得最佳瀏覽效果。\\n---\\nlink: http://osa.ncu.edu.tw/\\n網站標題: 學務處\\n簡介: 國立中央大學學務處提供多元的服務與資源，包括生活輔導、諮商輔導、課外活動、服務學習、住宿服務、衛生保健、職涯發展及原住民族學生資源等。近期公告涵蓋求職詐騙防範、大一週會安排、宿舍導師講座、住宅轉租契約修正、教育部人權教育推廣及校園安全宣導等主題。此外，學務處還設有各類系統如學生意見反映、職涯諮詢預約、獎助學金申請等，以支持學生的學習與生活需求。\\n---\\nlink: https://osa.ncu.edu.tw/news_article.php?event_id=3085/news.php\\n網站標題: 最新消息\\n簡介: 國立中央大學學務處最近發布了一則公告，提醒學生注意網路求職詐騙。公告指出，在Instagram上出現了冒用本校名義的求職信息，招聘「雙語朗讀人員」的訊息經查證為詐騙。學校呼籲學生在求職時要提高警覺，勿輕信社交平台上的求職信息，並避免提供個人資訊給不明人士。學生應透過官方渠道確認求職訊息的真實性，以免受到詐騙。公告中還附上相關的網路圖示資訊供學生參考。\\n---\\nlink: https://osa.ncu.edu.tw/news_article.php?event_id=3092/news.php\\n網站標題: 最新消息\\n簡介: 國立中央大學學務處下設多個組織，包括生活輔導組、諮商輔導中心、課外活動組、服務學習發展中心、住宿服務組、衛生保健組、職涯發展中心及原住民族學生資源中心。最新公告提到教育部推動人權及轉型正義教育的影音資源，該計畫由生活輔導組負責實施。相關資訊可在學務處網站查閱，聯絡電話為(03)422-7151#57200。\\n---\\nlink: https://pdc.adm.ncu.edu.tw/#C/subindex4.asp\\n網站標題: 課務組\\n簡介: 國立中央大學教務處的網頁提供了學校教務相關的資訊，包括招生、註冊、課務及教學發展等各個組別的最新公告與活動。近期公告涵蓋研究所甄試錄取生的提前入學注意事項、課程停修申請的時間、各類教學活動及競賽的報名資訊。網站也提供了聯絡資訊與隱私政策，並建議使用特定瀏覽器以獲得最佳瀏覽效果。\\n---\\nlink: https://admission.ncu.edu.tw/zh-TW/category-list/news_bachelor/8\\n網站標題: 最新消息\\n簡介: 國立中央大學的招生資訊網提供了114學年度學士班特殊選才入學的相關簡章。這個招生管道針對不同類型的學生，包括繁星推薦、申請入學及分發入學等方式。網站上有最新消息、各班級的招生資訊、獎助學金計畫、以及針對高中生的專區。此外，網站還提供了各類相關連結，如大學考試入學分發委員會及教育部的資訊。\\n\\n近期消息包括特殊選才的錄取名單、口試日期的調整、以及報名人數的統計。網站也包含了學系介紹、開放日活動和學習資源，以便幫助學生了解學校及其課程。\\n---\\nlink: http://pdc.adm.ncu.edu.tw/le/le.html\\n網站標題: 教務處學生學習資源網\\n簡介: 國立中央大學的教務處網站提供了多項學術及行政資訊，包括招生、註冊、課務及教學發展等。網站上有最新消息公告，如課程初選時間、各種培訓和活動的資訊，以及學生評量的相關通知。此外，網站還提供了聯絡方式及隱私權政策等基本資訊。建議使用最新的瀏覽器以獲得最佳的瀏覽體驗。\\n---\\nlink: https://pdc.adm.ncu.edu.tw/#U/subindex.asp\\n網站標題: 教務處\\n簡介: 國立中央大學的教務處網站提供多項服務和最新消息，包括招生資訊、註冊、課務管理及教學發展中心的各項活動。網站上列出了最近的公告，如研究所甄試錄取生的提前入學注意事項、課程停修申請的時間、以及各類教學工作坊和競賽的報名資訊。網站還提供聯絡資訊及隱私權政策，並建議使用特定瀏覽器以獲得最佳顯示效果。\\n---\\nlink: https://pdc.adm.ncu.edu.tw/#U/./\\n網站標題: | 教務處\\n簡介: 國立中央大學教務處的網頁提供了多項服務和最新消息，包括招生資訊、註冊、課務和教學發展等。網站上有各類公告，例如研究所甄試錄取生的提前入學注意事項、課程停修申請時間、交換學生申請、學位證書頒發注意事項，以及各種教學工作坊和競賽的資訊。此外，網站也提供了使用ChatGPT的基本原則和教務相關的章則及評鑑資料。教務處的聯絡資訊及隱私政策也在網頁上列出，並建議使用特定的瀏覽器以獲得最佳瀏覽體驗。\\n---\\nlink: https://pdc.adm.ncu.edu.tw/#U/subindex4.asp\\n網站標題: 課務組\\n簡介: 國立中央大學教務處的網頁提供了各類教務相關資訊，包括招生、註冊、課務及教學發展等。網頁上有最新消息的公告，例如研究所甄試錄取生的提前入學注意事項、課程停修申請的時間及相關說明、各種教學工作坊及競賽的報名資訊。教務處也提供跨領域學習諮詢及智財宣導等服務。網站建議使用特定瀏覽器以獲得最佳顯示效果，並提供聯絡資訊及隱私政策。\\n---\\nlink: https://osa.ncu.edu.tw/services.php#section9/ #section9\\n網站標題: 歷屆新生知訊網\\n簡介: 網頁內容主要介紹了國立中央大學學務處的各項服務資源，包括生活輔導、學生住宿、衛生保健、諮商輔導、課外活動、職涯輔導和服務學習等。具體服務項目涵蓋學生工讀、獎助學金、就學貸款、急難救助、健康檢查、心理諮詢、學生社團及職涯發展等。此外，網站還提供歷屆新生知訊網、聯絡資訊及學生意見反映等功能，旨在為學生提供全面的支持和資源。\\n---\\nlink: https://pdc.adm.ncu.edu.tw/.//subindex.asp\\n網站標題: 教務處\\n簡介: 國立中央大學的教務處網站提供有關學校教務事務的資訊，包括教務處的介紹、校曆、教務法規、新生專區、教務會議及統計資料等。網站上有最新消息更新，例如學位證書頒發注意事項、期末教學評量中獎名單、選課資訊及交換學生的申請公告等。此外，網站還設有系所評鑑專區、選課系統、教學發展中心及遠距教學相關資源。聯絡資訊包括地址及電話，並建議使用特定瀏覽器以獲得最佳瀏覽效果。\\n---\\nlink: http://osa.ncu.edu.tw\\n網站標題: 中央大學學務處\\n簡介: 國立中央大學學務處提供多項服務和資源，包括生活輔導、諮商輔導、課外活動、服務學習、住宿、衛生保健、職涯發展及原住民族學生資源等。近期公告包括防求職詐騙訊息、學期週會安排及宿舍導師講座等。學務處還提供新生知訊、學生意見反映、職涯諮詢以及各類補助和獎學金系統，旨在支持學生的學習與生活。校園安全宣導和人權教育資源的推廣也是重要內容。網站更新穩定，瀏覽量達646次，提供完整的聯絡資訊和版權聲明。\\n---\\nlink: http://ncupress.ncu.edu.tw//news\\n網站標題: 最新消息\\n簡介: 中大出版中心的最新消息包括新書上架、公告和各類活動資訊。該中心提供出版品型錄及徵稿資訊，並介紹其中心簡介及活動集錦。聯絡電話為03-4227151-57103，電子郵件為ncupress@ncu.edu.tw，中心位於國立中央大學教學研究大樓A棟4樓。網站還包含隱私權政策聲明及網站導覽功能。\\n---\\nlink: https://pdc.adm.ncu.edu.tw/#/#U\\n網站標題: :::\\n簡介: 國立中央大學的教務處網站提供了多項服務和資訊，包括招生、註冊、課務及教學發展等功能。網站上有最新的公告和活動資訊，例如研究所甄試錄取生的提前入學注意事項、課程停修申請的時間、各類教學增能工作坊及競賽活動等。此外，網站也提供跨領域學習的資源和教務相關的章則及評鑑資訊。\\n\\n教務處的聯絡資訊包括地址、電話及傳真號碼，並建議使用特定的瀏覽器以獲得最佳的網站使用體驗。\\n---\\nlink: https://osa.ncu.edu.tw/services.php#section9/serviceinfo.php?resource_id=61\\n網站標題: 學務處聯絡資訊\\n簡介: 網頁內容為國立中央大學學務處的各項服務資源，主要包括以下幾個部分：\\n\\n1. **生活輔導**：提供學生生活上的支持，包含學生工讀、獎助學金、就學貸款等。\\n2. **學生住宿**：介紹學生宿舍的設施與申請流程，並提供校外居住資訊。\\n3. **衛生保健**：提供健康檢查、醫療器材借用及營養諮詢等服務。\\n4. **諮商輔導**：提供心理諮商預約、心理座談及相關輔導資源。\\n5. **課外活動**：協助學生參加社團及場地借用。\\n6. **職涯發展**：包括職涯諮詢、活動報名及職涯中心的各類資源。\\n7. **服務學習**：提供服務學習的認證、最新消息及相關表單下載。\\n\\n此外，網站還提供了歷屆新生知訊網及其他聯絡資訊、學生意見反映與申訴管道。整體目的是為了協助學生在學習與生活中獲得全面的支持與資源。\\n---\\nlink: https://pdc.adm.ncu.edu.tw/subindex.asp\\n網站標題: 教務處\\n簡介: 國立中央大學的教務處網站提供了多項功能和最新消息，包括教務處的簡介、校曆、教務法規、新生專區、教務會議、統計資料及雙語教學推動資源中心等。最近的消息涵蓋學位證書發放、期末教學評量中獎名單、課務日程表及選課資訊、研究所甄試錄取生的注意事項等。此外，網站還提供各種系統，如選課系統、教務手冊和遠距教學網等，並提供聯絡資訊和隱私政策。使用者需開啟JavaScript以獲取完整功能。\\n---\\nlink: https://pdc.adm.ncu.edu.tw/newble_note_reg.asp\\n網站標題: 新生專區\\n簡介: 國立中央大學的教務處網站提供了多項服務和資訊，主要包括教務處的簡介、最新消息、校曆、教務法規以及新生專區。新生專區特別針對111學年度的研究所及學士班新生提供註冊通知和相關資源。此外，網站還提供選課系統、歷屆考古題、課務管理系統和遠距教學網等功能，並有針對退除役官兵的專區。網站建議使用Chrome、Firefox或Microsoft Edge瀏覽，最佳顯示效果為1920*1080。教務處的聯絡資訊包括地址、電話和傳真。\\n---\\nlink: https://pdc.adm.ncu.edu.tw/#/subindex4.asp\\n網站標題: 課務組\\n簡介: 國立中央大學教務處的網站提供了多項功能和資訊，包括招生、註冊、課務及教學發展中心的相關服務。網站內有最新消息公告，例如研究所甄試錄取生的提前入學注意事項、課程停修申請、交換學生申請等。此外，教學發展中心也舉辦各種活動，如EMI教師增能工作坊及AI智慧學習挑戰賽等。網站建議使用Chrome、Firefox或Microsoft Edge瀏覽，以獲得最佳的顯示效果。教務處的聯絡資訊包括地址和電話，並提供隱私權及網站安全政策的聲明。\\n---\\nlink: https://pdc.adm.ncu.edu.tw/#/subindex.asp\\n網站標題: 教務處\\n簡介: 國立中央大學的教務處網站提供有關學校教務的多項資訊，包括招生、註冊、課務和教學發展等功能。網站包含最新消息，如研究所甄試錄取生的提前入學注意事項、課程停修申請的相關時間及說明、以及各類教學工作坊和競賽的報名公告。此外，網站還提供聯絡資訊及隱私權政策，並建議使用特定瀏覽器以獲得最佳瀏覽效果。\\n---\\nlink: https://osa.ncu.edu.tw/news_article.php?event_id=3069/news.php?event_category_no=4\\n網站標題: 演講\\n簡介: 網頁內容主要介紹國立中央大學學務處的各項服務及公告，包括生活輔導組、諮商輔導中心、課外活動組等多個部門的功能。最新消息部分提到113學年度第1學期的大一週會及院週會安排，列出了多場講座的時間和主題，包括AI時代的學習、交通安全等。此外，還提供了報名網址和相關的服務學習時數Q&A連結，並鼓勵學生關注FB粉絲專頁以獲取更多資訊。院週會則由各院自行辦理，並列出具體日期和地點。\\n---\\n'"
      ]
     },
     "execution_count": 5,
     "metadata": {},
     "output_type": "execute_result"
    }
   ],
   "source": [
    "from langchain_chroma import Chroma\n",
    "from langchain_openai import OpenAIEmbeddings\n",
    "\n",
    "@tool\n",
    "def website_info_retriever(query: str) -> str:\n",
    "    \"\"\"Perform RAG retrieval on the website dataset.\"\"\"\n",
    "    vectorstore = Chroma(\n",
    "        embedding_function=OpenAIEmbeddings(),\n",
    "        collection_name=\"ncu_office_websites\",\n",
    "        persist_directory=\"./Parse Websites v2/ncu_office_websites\"\n",
    "    )\n",
    "    website_retriever = vectorstore.as_retriever(search_type=\"similarity\", search_kwargs={\"k\": 30})\n",
    "    docs = website_retriever.invoke(query)\n",
    "    result = \"\"\n",
    "    for i in range(len(docs)):\n",
    "        link = docs[i].metadata.get(\"link\")\n",
    "        page_content = docs[i].page_content\n",
    "\n",
    "        print(\"link: \", link)\n",
    "        print(\"page_content: \", page_content)\n",
    "        result += \"link: \" + link + \"\\n\" + page_content + \"\\n\"\n",
    "    return result\n",
    "\n",
    "website_info_retriever.invoke(\"請幫我找學務處最新消息\")"
   ]
  },
  {
   "cell_type": "markdown",
   "metadata": {},
   "source": [
    "## Website Crawler"
   ]
  },
  {
   "cell_type": "code",
   "execution_count": 20,
   "metadata": {},
   "outputs": [],
   "source": [
    "import re\n",
    "import requests\n",
    "from bs4 import BeautifulSoup\n",
    "\n",
    "@tool\n",
    "def website_crawler(link: str, cur_title: str) -> list[dict]:\n",
    "    \"\"\"Takes url of a website and reads the HTML content of the website and then extracts all the links on that website.\"\"\"\n",
    "    extract_link = re.search(r'(https?://[^\\]]+)', link) # 使用正則表達式擷取連結\n",
    "    url = extract_link.group(1) if extract_link else None\n",
    "    \n",
    "    try: # 發送HTTP請求，獲取網頁內容\n",
    "        response = requests.get(url, verify=False, timeout=1)\n",
    "        encoding = response.apparent_encoding\n",
    "        response.encoding = encoding\n",
    "    except requests.exceptions.RequestException as e:\n",
    "        print(f\"無法獲取[{cur_title}]: [{url}] 。錯誤: {e}\")\n",
    "        return f\"無法獲取[{cur_title}]: [{url}] 。錯誤: {e}\"\n",
    "\n",
    "    websites = []\n",
    "    result = \"\"\n",
    "    if response.status_code == 200: # 確保請求成功\n",
    "        page_content = response.text # 獲取頁面的HTML內容\n",
    "        soup = BeautifulSoup(page_content, 'html.parser')\n",
    "        links = soup.find_all('a') # 找到所有的<a>標籤，iframe有問題\n",
    "\n",
    "        # 提取每個<a>標籤的title和href屬性，並組織成列表\n",
    "        for link in links:\n",
    "            title = link.get_text(strip=True)  # 提取連結的文本作為標題\n",
    "            if title == '':  # 若標題為空，則跳過\n",
    "                continue\n",
    "\n",
    "            href = link.get('href') # 提取連結的href屬性\n",
    "            if href: # 確保href存在\n",
    "                final_url = \"\"\n",
    "                if 'http' in href:  # 如果href是完整的連結，直接使用\n",
    "                    final_url = href\n",
    "                else:\n",
    "                    postclitics = ['html', 'htm', 'asp', 'php', 'pdf', 'PDF']  # 定義可能的後綴類型\n",
    "                    url_postclitic = next((p for p in postclitics if p in url), \"\")  # 從url中找到匹配的後綴\n",
    "                    psotclitic = any(p in href for p in postclitics)  # 檢查href中是否有後綴\n",
    "\n",
    "                    temp_url = re.sub(rf'/[^/]+\\.{url_postclitic}$', '', url) if psotclitic and url_postclitic else url # 如果href和url都有後綴，從url中去除最後的部分，否則使用原始url\n",
    "                    href = '/' + href.lstrip('/')  # 確保href以單個斜杠開頭\n",
    "                    if temp_url.split('/')[-1] == href.split('/')[1]: # 處理相對連結\n",
    "                        temp_url = '/'.join(temp_url.split('/')[:-1])\n",
    "                    \n",
    "                    final_url = temp_url + href\n",
    "\n",
    "                try: # 檢查組合後的連結是否有效\n",
    "                    test_response = requests.get(final_url, verify=False, timeout=1)\n",
    "                    encoding = test_response.apparent_encoding\n",
    "                    test_response.encoding = encoding\n",
    "                    if test_response.status_code == 200:\n",
    "                        print(f\"成功獲取[{title}]: [{final_url}] ，加入資料中。\")\n",
    "                        websites.append({'title': title, 'link': final_url})  # 將完整連結加入資料中\n",
    "                    else:\n",
    "                        print(f\"無法獲取[{title}]: [{final_url}] ，不加入資料中。HTTP 狀態碼: {test_response.status_code}\")\n",
    "                except requests.exceptions.RequestException as e:\n",
    "                    print(f\"無法獲取[{title}]: [{final_url}] ，不加入資料中。錯誤: {e}\")\n",
    "\n",
    "        result = \"\\n\".join([f\"[{item['title']}]: [{item['link']}]\" for item in websites])\n",
    "        print(result)\n",
    "    else:\n",
    "        print(f\"無法獲取[{cur_title}]: [{url}] 。HTTP 狀態碼: {response.status_code}\")\n",
    "        return f\"無法獲取[{cur_title}]: [{url}] 。HTTP 狀態碼: {response.status_code}\"\n",
    "    \n",
    "    return result"
   ]
  },
  {
   "cell_type": "code",
   "execution_count": null,
   "metadata": {},
   "outputs": [],
   "source": [
    "websites = website_crawler.invoke({\"link\": \"https://osa.ncu.edu.tw/news.php\", \"cur_title\": \"學務處最新消息\"})"
   ]
  },
  {
   "cell_type": "markdown",
   "metadata": {},
   "source": [
    "## Website Reader"
   ]
  },
  {
   "cell_type": "code",
   "execution_count": 13,
   "metadata": {},
   "outputs": [],
   "source": [
    "from bs4 import BeautifulSoup\n",
    "import requests\n",
    "import ssl\n",
    "import certifi\n",
    "\n",
    "\n",
    "@tool\n",
    "def website_reader(url: str) -> str:\n",
    "    \"\"\"Read the content of a website.\"\"\"\n",
    "\n",
    "    try: \n",
    "        response = requests.get(url, verify=False)\n",
    "        encoding = response.apparent_encoding\n",
    "        response.encoding = encoding\n",
    "    except requests.exceptions.RequestException as e:\n",
    "        print(f\"無法獲取網頁。錯誤: {e}\")\n",
    "        return f\"無法獲取網頁。錯誤: {e}\"\n",
    "\n",
    "    soup = BeautifulSoup(response.text, 'html.parser')\n",
    "    content = soup.get_text()\n",
    "\n",
    "    cleaned_content = \"\\n\".join([line for line in content.split(\"\\n\") if line.strip()])\n",
    "    return cleaned_content"
   ]
  },
  {
   "cell_type": "code",
   "execution_count": null,
   "metadata": {},
   "outputs": [],
   "source": [
    "content = website_reader.invoke(\"https://osa.ncu.edu.tw\")\n",
    "print(content)"
   ]
  },
  {
   "cell_type": "markdown",
   "metadata": {},
   "source": [
    "## PDF Reader"
   ]
  },
  {
   "cell_type": "code",
   "execution_count": null,
   "metadata": {},
   "outputs": [],
   "source": [
    "import pdfplumber\n",
    "from io import BytesIO\n",
    "\n",
    "@tool\n",
    "def pdf_reader(url: str) -> str:\n",
    "    \"\"\"Read the content of a PDF file.\"\"\"\n",
    "    \n",
    "    try:\n",
    "        response = requests.get(url)\n",
    "        encoding = response.apparent_encoding\n",
    "        response.encoding = encoding\n",
    "    except requests.exceptions.RequestException as e:\n",
    "        print(f\"無法獲取網頁。錯誤: {e}\")\n",
    "        return f\"無法獲取網頁。錯誤: {e}\"\n",
    "\n",
    "    # 檢查是否成功下載\n",
    "    if response.status_code == 200:\n",
    "        # 使用 BytesIO 將下載的內容轉為二進制流\n",
    "        pdf_file = BytesIO(response.content)\n",
    "        \n",
    "        with pdfplumber.open(pdf_file) as pdf:\n",
    "            pdf_text = \"\"\n",
    "            for page in pdf.pages:\n",
    "                pdf_text += page.extract_text()\n",
    "\n",
    "        return pdf_text\n",
    "    else:\n",
    "        print(f\"下載失敗，HTTP 狀態碼: {response.status_code}\")"
   ]
  },
  {
   "cell_type": "code",
   "execution_count": null,
   "metadata": {},
   "outputs": [],
   "source": [
    "pdf_text = pdf_reader.invoke(\"https://pdc.adm.ncu.edu.tw/postM/post/reg/1131024_1.pdf\")\n",
    "print(pdf_text)"
   ]
  },
  {
   "cell_type": "markdown",
   "metadata": {},
   "source": [
    "## Selenium Controller"
   ]
  },
  {
   "cell_type": "code",
   "execution_count": null,
   "metadata": {},
   "outputs": [],
   "source": [
    "from utils.selenium_controller import SeleniumController\n",
    "import time\n",
    "\n",
    "selenium_controller = SeleniumController()\n",
    "\n",
    "@tool \n",
    "def create_browser(user_id: str):\n",
    "    \"\"\"Create a new browser session.\"\"\"\n",
    "    selenium_controller.create_browser(user_id)\n",
    "\n",
    "@tool\n",
    "def screen_shot(user_id: str, file_path: str):\n",
    "    \"\"\"Take a screenshot of the current page and save it to the file path.\"\"\"\n",
    "    selenium_controller.screen_shot(user_id, file_path)\n",
    "\n",
    "@tool\n",
    "def navigate(user_id: str, url: str):\n",
    "    \"\"\"Navigate to the specified URL.\"\"\"\n",
    "    selenium_controller.navigate(user_id, url)\n",
    "\n",
    "@tool\n",
    "def get_html_content(user_id: str) -> str:\n",
    "    \"\"\"Get the HTML content of the current page.\"\"\"\n",
    "    return selenium_controller.get_content(user_id)\n",
    "\n",
    "@tool\n",
    "def click_button_with_text(user_id: str, text: str):\n",
    "    \"\"\"Click the specified button based on the text.\"\"\"\n",
    "    selenium_controller.click_button_with_text(user_id, text)\n",
    "\n",
    "@tool\n",
    "def click_input_with_id(user_id: str, id: str):\n",
    "    \"\"\"Click the specified input based on the id.\"\"\"\n",
    "    selenium_controller.click_input_with_id(user_id, id)\n",
    "\n",
    "@tool\n",
    "def click_span_with_aria_label(user_id: str, arialabel: str, index: int = 0):\n",
    "    \"\"\"Click the specified span based on the aria-label.\"\"\"\n",
    "    selenium_controller.click_span_with_aria_label(user_id, arialabel)\n",
    "\n",
    "@tool\n",
    "def click_element(user_id: str, xpath: str):\n",
    "    \"\"\"Click the specified element based on the xpath.\"\"\"\n",
    "    selenium_controller.click_element(user_id, xpath)\n",
    "\n",
    "@tool\n",
    "def input_text(user_id: str, xpath: str, text: str):\n",
    "    \"\"\"Input text into the specified input field based on the xpath.\"\"\"\n",
    "    selenium_controller.input_text(user_id, xpath, text)\n",
    "\n",
    "@tool\n",
    "def upload_file(user_id: str, xpath: str, file_path: str):\n",
    "    \"\"\"Upload a file to the specified input field based on the xpath.\"\"\"\n",
    "    selenium_controller.upload_file(user_id, xpath, file_path)\n",
    "\n",
    "@tool\n",
    "def select_dropdown_option(user_id: str, xpath: str, option: str):\n",
    "    \"\"\"Select an option from the dropdown menu based on the xpath.\"\"\"\n",
    "    selenium_controller.select_dropdown_option(user_id, xpath, option)"
   ]
  },
  {
   "cell_type": "code",
   "execution_count": null,
   "metadata": {},
   "outputs": [],
   "source": [
    "import shutil\n",
    "import os\n",
    "\n",
    "screenshots_dir = \"screenshots\"\n",
    "if os.path.exists(screenshots_dir):\n",
    "    for filename in os.listdir(screenshots_dir):\n",
    "        file_path = os.path.join(screenshots_dir, filename)\n",
    "        try:\n",
    "            if os.path.isfile(file_path) or os.path.islink(file_path):\n",
    "                os.unlink(file_path)\n",
    "            elif os.path.isdir(file_path):\n",
    "                shutil.rmtree(file_path)\n",
    "        except Exception as e:\n",
    "            print(f'Failed to delete {file_path}. Reason: {e}')\n",
    "print(\"Cleared screenshots directory\")"
   ]
  },
  {
   "cell_type": "code",
   "execution_count": null,
   "metadata": {},
   "outputs": [],
   "source": [
    "create_browser.invoke(\"user1\")"
   ]
  },
  {
   "cell_type": "code",
   "execution_count": null,
   "metadata": {},
   "outputs": [],
   "source": [
    "navigate.invoke({\"user_id\": \"user1\", \"url\": \"https://portal.ncu.edu.tw/login\"})\n",
    "time.sleep(0.5)\n",
    "screen_shot.invoke({\"user_id\": \"user1\", \"file_path\": \"screenshots/portal.png\"})"
   ]
  },
  {
   "cell_type": "code",
   "execution_count": null,
   "metadata": {},
   "outputs": [],
   "source": [
    "website_content = get_html_content.invoke(\"user1\")\n",
    "print(website_content)"
   ]
  },
  {
   "cell_type": "code",
   "execution_count": null,
   "metadata": {},
   "outputs": [],
   "source": [
    "del selenium_controller"
   ]
  },
  {
   "cell_type": "markdown",
   "metadata": {},
   "source": [
    "## Save Pipeline Instruction"
   ]
  },
  {
   "cell_type": "code",
   "execution_count": null,
   "metadata": {},
   "outputs": [],
   "source": [
    "@tool\n",
    "def save_pipeline_instruction(instruction: str, file_name: str) -> str:\n",
    "    \"\"\"Save the pipeline instruction as txt file.\"\"\"\n",
    "    file_path = \"pipelines/\" + file_name + \".txt\"\n",
    "    with open(file_path, \"w\", encoding='utf-8') as file:\n",
    "        file.write(instruction)\n",
    "    return instruction"
   ]
  },
  {
   "cell_type": "markdown",
   "metadata": {},
   "source": [
    "## Pipeline Instruction Extractor"
   ]
  },
  {
   "cell_type": "code",
   "execution_count": null,
   "metadata": {},
   "outputs": [],
   "source": [
    "@tool\n",
    "def pipeline_instruction_extractor(file_name: str) -> str:\n",
    "    \"\"\"Extract instructions from a pipeline given by its name.\"\"\"\n",
    "    with open(\"pipelines/\" + file_name + \".txt\", \"r\", encoding='utf-8') as file:\n",
    "        instruction = file.read()\n",
    "    return instruction"
   ]
  },
  {
   "cell_type": "code",
   "execution_count": null,
   "metadata": {},
   "outputs": [],
   "source": [
    "pipeline_instruction_extractor.invoke(\"Leave_Request_Process\")"
   ]
  },
  {
   "cell_type": "code",
   "execution_count": null,
   "metadata": {},
   "outputs": [],
   "source": [
    "from selenium import webdriver\n",
    "from selenium.webdriver.common.by import By\n",
    "\n",
    "# 初始化 WebDriver\n",
    "driver = webdriver.Chrome()\n",
    "\n",
    "# 打開目標網頁\n",
    "url = \"https://portal.ncu.edu.tw/login\"  # 替換為目標網站 URL\n",
    "driver.get(url)\n",
    "\n",
    "# 定位所有元素\n",
    "all_elements = driver.find_elements(By.XPATH, \"//*\")\n",
    "\n",
    "# 遍歷所有元素，檢查是否有文字\n",
    "unique_elements = set()\n",
    "for index, element in enumerate(all_elements):\n",
    "    text = element.text.strip()  # 去除前後空格\n",
    "    if text and text not in unique_elements:\n",
    "        unique_elements.add(text)\n",
    "        print(f\"元素 {index + 1}: {text}\")\n",
    "\n",
    "# 關閉瀏覽器\n",
    "driver.quit()"
   ]
  },
  {
   "cell_type": "markdown",
   "metadata": {},
   "source": [
    "# Call Tools Using ToolNode"
   ]
  },
  {
   "cell_type": "markdown",
   "metadata": {},
   "source": [
    "## Define Tools"
   ]
  },
  {
   "cell_type": "code",
   "execution_count": null,
   "metadata": {},
   "outputs": [],
   "source": [
    "from langchain_core.messages import AIMessage\n",
    "from langchain_core.tools import tool\n",
    "from langgraph.prebuilt import ToolNode"
   ]
  },
  {
   "cell_type": "code",
   "execution_count": null,
   "metadata": {},
   "outputs": [],
   "source": [
    "@tool\n",
    "def get_weather(location: str):\n",
    "    \"\"\"Call to get the current weather.\"\"\"\n",
    "    if location.lower() in [\"sf\", \"san francisco\"]:\n",
    "        return \"It's 60 degrees and foggy.\"\n",
    "    else:\n",
    "        return \"It's 90 degrees and sunny.\"\n",
    "\n",
    "\n",
    "@tool\n",
    "def get_coolest_cities():\n",
    "    \"\"\"Get a list of coolest cities\"\"\"\n",
    "    return \"nyc, sf\""
   ]
  },
  {
   "cell_type": "code",
   "execution_count": null,
   "metadata": {},
   "outputs": [],
   "source": [
    "tools = [get_weather, get_coolest_cities]\n",
    "tool_node = ToolNode(tools)"
   ]
  },
  {
   "cell_type": "markdown",
   "metadata": {},
   "source": [
    "## Manually call Tool Node"
   ]
  },
  {
   "cell_type": "code",
   "execution_count": null,
   "metadata": {},
   "outputs": [],
   "source": [
    "message_with_single_tool_call = AIMessage(\n",
    "    content=\"\",\n",
    "    tool_calls=[\n",
    "        {\n",
    "            \"name\": \"get_weather\",\n",
    "            \"args\": {\"location\": \"sf\"},\n",
    "            \"id\": \"tool_call_id\",\n",
    "            \"type\": \"tool_call\",\n",
    "        }\n",
    "    ],\n",
    ")\n",
    "\n",
    "tool_node.invoke({\"messages\": [message_with_single_tool_call]})"
   ]
  },
  {
   "cell_type": "code",
   "execution_count": null,
   "metadata": {},
   "outputs": [],
   "source": [
    "message_with_multiple_tool_calls = AIMessage(\n",
    "    content=\"\",\n",
    "    tool_calls=[\n",
    "        {\n",
    "            \"name\": \"get_coolest_cities\",\n",
    "            \"args\": {},\n",
    "            \"id\": \"tool_call_id_1\",\n",
    "            \"type\": \"tool_call\",\n",
    "        },\n",
    "        {\n",
    "            \"name\": \"get_weather\",\n",
    "            \"args\": {\"location\": \"sf\"},\n",
    "            \"id\": \"tool_call_id_2\",\n",
    "            \"type\": \"tool_call\",\n",
    "        },\n",
    "    ],\n",
    ")\n",
    "\n",
    "tool_node.invoke({\"messages\": [message_with_multiple_tool_calls]})"
   ]
  },
  {
   "cell_type": "markdown",
   "metadata": {},
   "source": [
    "## Using with Chat Models"
   ]
  },
  {
   "cell_type": "code",
   "execution_count": null,
   "metadata": {},
   "outputs": [],
   "source": [
    "from typing import Literal\n",
    "from langgraph.graph import StateGraph, MessagesState\n",
    "from langgraph.prebuilt import ToolNode\n",
    "\n",
    "model_with_tools = llm.bind_tools(tools)"
   ]
  },
  {
   "cell_type": "code",
   "execution_count": null,
   "metadata": {},
   "outputs": [],
   "source": [
    "model_with_tools.invoke(\"what's the weather in sf?\").tool_calls"
   ]
  },
  {
   "cell_type": "code",
   "execution_count": null,
   "metadata": {},
   "outputs": [],
   "source": [
    "tool_node.invoke({\"messages\": [model_with_tools.invoke(\"what's the weather in sf?\")]})"
   ]
  },
  {
   "cell_type": "markdown",
   "metadata": {},
   "source": [
    "## ReAct Agent"
   ]
  },
  {
   "cell_type": "code",
   "execution_count": null,
   "metadata": {},
   "outputs": [],
   "source": [
    "from typing import Literal\n",
    "from langgraph.graph import StateGraph, MessagesState, START, END\n",
    "\n",
    "\n",
    "def should_continue(state: MessagesState):\n",
    "    messages = state[\"messages\"]\n",
    "    last_message = messages[-1]\n",
    "    if last_message.tool_calls:\n",
    "        return \"tools\"\n",
    "    return END\n",
    "\n",
    "\n",
    "def call_model(state: MessagesState):\n",
    "    messages = state[\"messages\"]\n",
    "    response = model_with_tools.invoke(messages)\n",
    "    return {\"messages\": [response]}\n",
    "\n",
    "\n",
    "workflow = StateGraph(MessagesState)\n",
    "\n",
    "# Define the two nodes we will cycle between\n",
    "workflow.add_node(\"agent\", call_model)\n",
    "workflow.add_node(\"tools\", tool_node)\n",
    "\n",
    "workflow.add_edge(START, \"agent\")\n",
    "workflow.add_conditional_edges(\"agent\", should_continue, [\"tools\", END])\n",
    "workflow.add_edge(\"tools\", \"agent\")\n",
    "\n",
    "app = workflow.compile()"
   ]
  },
  {
   "cell_type": "code",
   "execution_count": null,
   "metadata": {},
   "outputs": [],
   "source": [
    "from IPython.display import Image, display\n",
    "\n",
    "display(Image(app.get_graph(xray=2).draw_mermaid_png()))"
   ]
  },
  {
   "cell_type": "code",
   "execution_count": null,
   "metadata": {},
   "outputs": [],
   "source": [
    "# example with a single tool call\n",
    "for chunk in app.stream(\n",
    "    {\"messages\": [(\"human\", \"what's the weather in sf?\")]}, stream_mode=\"values\"\n",
    "):\n",
    "    chunk[\"messages\"][-1].pretty_print()"
   ]
  }
 ],
 "metadata": {
  "kernelspec": {
   "display_name": "langgraph",
   "language": "python",
   "name": "python3"
  },
  "language_info": {
   "codemirror_mode": {
    "name": "ipython",
    "version": 3
   },
   "file_extension": ".py",
   "mimetype": "text/x-python",
   "name": "python",
   "nbconvert_exporter": "python",
   "pygments_lexer": "ipython3",
   "version": "3.12.7"
  }
 },
 "nbformat": 4,
 "nbformat_minor": 2
}
