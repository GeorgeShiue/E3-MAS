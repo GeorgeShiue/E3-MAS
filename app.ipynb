{
 "cells": [
  {
   "cell_type": "markdown",
   "metadata": {},
   "source": [
    "# API Keys"
   ]
  },
  {
   "cell_type": "code",
   "execution_count": 5,
   "metadata": {},
   "outputs": [],
   "source": [
    "import os\n",
    "from dotenv import load_dotenv\n",
    "\n",
    "load_dotenv()\n",
    "api_key = os.getenv(\"API_KEY\")\n",
    "os.environ[\"OPENAI_API_KEY\"] = api_key"
   ]
  },
  {
   "cell_type": "markdown",
   "metadata": {},
   "source": [
    "# Define Tools"
   ]
  },
  {
   "cell_type": "code",
   "execution_count": 6,
   "metadata": {},
   "outputs": [
    {
     "name": "stdout",
     "output_type": "stream",
     "text": [
      "none\n",
      "website_info_retriever\n",
      "website_links_crawler\n",
      "website_reader\n",
      "pdf_reader\n"
     ]
    }
   ],
   "source": [
    "from tools import Tools\n",
    "\n",
    "tools = Tools()\n",
    "tool_dict = tools.tool_dict\n",
    "\n",
    "for tool in tool_dict:\n",
    "    print(tool)"
   ]
  },
  {
   "cell_type": "markdown",
   "metadata": {},
   "source": [
    "# Define Agent"
   ]
  },
  {
   "cell_type": "markdown",
   "metadata": {},
   "source": [
    "## Read Agent Parameter (yaml)"
   ]
  },
  {
   "cell_type": "code",
   "execution_count": 7,
   "metadata": {},
   "outputs": [],
   "source": [
    "import yaml\n",
    "\n",
    "# ! 注意yaml檔案版本\n",
    "with open('agents_parameter.yaml', 'r', encoding=\"utf-8\") as file:\n",
    "    agents_parameter = yaml.safe_load(file)"
   ]
  },
  {
   "cell_type": "markdown",
   "metadata": {},
   "source": [
    "## Define Planner"
   ]
  },
  {
   "cell_type": "code",
   "execution_count": 8,
   "metadata": {},
   "outputs": [
    {
     "name": "stdout",
     "output_type": "stream",
     "text": [
      "planner_model: gpt-4o-mini\n",
      "planner_system_prompt: \n",
      "You are a planning agent in an LLM-based multi-agent system designed to assist users in navigating and understanding school websites.\n",
      "\n",
      "Your job is to generate clear, logical, and actionable step-by-step plans that guide other agents to fulfill the user's request. Each plan step should include:\n",
      "  - A brief explanation of what the step aims to accomplish\n",
      "  - A clear description of what needs to be found or processed\n",
      "  - An output placeholder (e.g., #E1, #E2, etc.) for use in later steps\n",
      "\n",
      "Please strictly follow this reasoning framework when designing your plan:\n",
      "  1. Begin by identifying which website(s) from a pre-constructed internal database are most relevant to the user's input or intent.\n",
      "  2. Analyze the content of the selected website to determine whether it contains enough information to address the user's need.\n",
      "  3. If the content is **insufficient**, locate hyperlinks or references within the page that are most likely to lead to more useful or relevant information. Follow one of those links and repeat the process starting from step 2.\n",
      "  4. If the content is **sufficient**, extract or summarize the key information that directly addresses the user's request.\n",
      "\n",
      "Use variables like #E1, #E2, etc., to represent intermediate results that can be referenced in later steps. Make sure each step builds clearly upon previous steps.\n",
      "At the end of the plan, the final step should return the content that most accurately and completely fulfills the user's request.\n",
      "\n",
      "Example format:\n",
      "  Plan: Search the internal website database to find the site most likely to contain information about the user's request. #E1 = [The most relevant website url based on user input]\n",
      "  Plan: Read the content of the selected site to understand what information it provides. #E2 = [Page content of #E1]\n",
      "  Plan: Evaluate whether the content in #E2 is sufficient to satisfy the user's request. #E3 = [Assessment of sufficiency]\n",
      "  Plan: If #E3 suggests the information is insufficient, identify in-page links that are most relevant to the user's input. #E4 = [List of relevant hyperlinks from #E2]\n",
      "  Plan: If #E3 suggests the information is insufficient, choose the most promising hyperlink and repeat the content reading step. #E5 = [Content of newly navigated page]\n",
      "  Plan: If the information is sufficient, extract the relevant details that directly address the user's request. #E6 = [Final answer based on #E2 or #E5]\n",
      "\n"
     ]
    }
   ],
   "source": [
    "from langchain_core.prompts import ChatPromptTemplate\n",
    "from langchain_openai import ChatOpenAI\n",
    "from pydantic import BaseModel, Field\n",
    "from typing import List\n",
    "\n",
    "\n",
    "class Plan(BaseModel):\n",
    "    \"\"\"Plan to follow in future\"\"\"\n",
    "\n",
    "    steps: List[str] = Field(\n",
    "        description=\"different steps to follow, should be in sorted order\"\n",
    "    )\n",
    "\n",
    "# TODO 改成讀取yaml檔案形式\n",
    "planner_model = agents_parameter[\"Planner\"][\"model\"]\n",
    "print(\"planner_model: \" + planner_model)\n",
    "planner_system_prompt = agents_parameter[\"Planner\"][\"prompt\"]\n",
    "print(\"planner_system_prompt: \\n\" + planner_system_prompt)\n",
    "planner_prompt = ChatPromptTemplate.from_messages(\n",
    "    [\n",
    "        (\n",
    "            \"system\",\n",
    "            planner_system_prompt,\n",
    "        ),\n",
    "        (\"placeholder\", \"{messages}\"), # placeholer 用來動態嵌入使用者輸入的訊息\n",
    "    ]\n",
    ")\n",
    "\n",
    "planner_llm = ChatOpenAI(model=planner_model, temperature=0)\n",
    "planner = planner_prompt | planner_llm.with_structured_output(Plan) # 限制使用特定模板回答問題"
   ]
  },
  {
   "cell_type": "code",
   "execution_count": 10,
   "metadata": {},
   "outputs": [
    {
     "name": "stdout",
     "output_type": "stream",
     "text": [
      "Search the internal website database to find the site most likely to contain information about the headmaster of National Central University in Taiwan. #E1 = [The most relevant website url based on user input]\n",
      "Read the content of the selected site to understand what information it provides regarding the headmaster. #E2 = [Page content of #E1]\n",
      "Evaluate whether the content in #E2 is sufficient to satisfy the user's request about the headmaster. #E3 = [Assessment of sufficiency]\n",
      "If #E3 suggests the information is insufficient, identify in-page links that are most relevant to the user's input regarding the headmaster. #E4 = [List of relevant hyperlinks from #E2]\n",
      "If #E3 suggests the information is insufficient, choose the most promising hyperlink and repeat the content reading step. #E5 = [Content of newly navigated page]\n",
      "If the information is sufficient, extract the relevant details that directly address the user's request about the headmaster. #E6 = [Final answer based on #E2 or #E5]\n"
     ]
    }
   ],
   "source": [
    "response = planner.invoke({\"messages\": [(\"user\", \"Who is the headmaster of National Central University in Taiwan?\")]})\n",
    "for step in response.steps:\n",
    "    print(step)"
   ]
  },
  {
   "cell_type": "markdown",
   "metadata": {},
   "source": [
    "## Define Executor"
   ]
  },
  {
   "cell_type": "code",
   "execution_count": 13,
   "metadata": {},
   "outputs": [
    {
     "name": "stdout",
     "output_type": "stream",
     "text": [
      "executor_model: gpt-4o-mini\n",
      "executor_prompt: \n",
      "You are a helpful assistant.\n",
      "\n",
      "executor_tool_list: \n",
      "website_info_retriever\n",
      "website_links_crawler\n",
      "website_reader\n",
      "pdf_reader\n"
     ]
    }
   ],
   "source": [
    "from langchain_openai import ChatOpenAI\n",
    "from langgraph.prebuilt import create_react_agent\n",
    "from langchain_community.tools.tavily_search import TavilySearchResults\n",
    "\n",
    "executor_model = agents_parameter[\"Executor\"][\"model\"]\n",
    "print(\"executor_model: \" + executor_model)\n",
    "executor_llm = ChatOpenAI(model=executor_model)\n",
    "executor_prompt = agents_parameter[\"Executor\"][\"prompt\"]\n",
    "print(\"executor_prompt: \\n\" + executor_prompt)\n",
    "\n",
    "# tools = [TavilySearchResults(max_results=3)] # 測試時暫時用TavilySearchResults這個工具\n",
    "executor_tool_list = [tool_dict[name] for name in agents_parameter['Executor']['tool_list']]\n",
    "print(\"executor_tool_list: \")\n",
    "for tool in executor_tool_list:\n",
    "    print(tool.name)\n",
    "\n",
    "executor = create_react_agent(executor_llm, executor_tool_list, prompt=executor_prompt)"
   ]
  },
  {
   "cell_type": "code",
   "execution_count": 14,
   "metadata": {},
   "outputs": [
    {
     "name": "stdout",
     "output_type": "stream",
     "text": [
      "link:  https://www.ncu.edu.tw\n",
      "page_content:  網站標題: National Central University\n",
      "簡介: 國立中央大學。\n",
      "---\n",
      "link:  https://www.ncu.edu.tw\n",
      "page_content:  網站標題: National Central University\n",
      "簡介: 國立中央大學（National Central University，簡稱NCU）是台灣的一所國立大學，成立於1962年，位於桃園市。該校以其卓越的學術研究和多元化的學科聞名，涵蓋科學、工程、管理、人文社會科學等領域。國立中央大學積極推動國際合作與交流，並致力於科技創新及社會服務，培養具全球視野和專業能力的人才。校內設施完善，擁有現代化的實驗室和圖書館，並提供多樣的課外活動和學習資源，旨在提升學生的整體素質與競爭力。\n",
      "---\n",
      "link:  http://www.ncu.edu.tw\n",
      "page_content:  網站標題: 中央大學\n",
      "簡介: 國立中央大學（National Central University, NCU）是台灣一所著名的高等教育機構，成立於1962年，位於桃園市。該校提供多樣化的學術課程，涵蓋科學、工程、文學、社會科學等領域，致力於培養具備創新能力和國際視野的人才。中央大學擁有優秀的師資和研究環境，積極進行學術研究和產學合作，並與多所國際知名大學建立合作關係。此外，該校也注重學生的全面發展，提供豐富的課外活動和資源支持。\n",
      "---\n",
      "link:  https://ncusec.ncu.edu.tw/preselection/\n",
      "page_content:  網站標題: 校長遴選專區\n",
      "簡介: 國立中央大學的第九任校長遴選專區提供公告訊息、相關法規、委員名單、表單下載及聯絡資訊。根據最新公告，蕭述三教授已獲教育部同意聘任為校長，並於2024年10月30日正式上任。遴選過程中，包括候選人治校理念說明會和投票結果的相關會議紀錄均已公開。聯絡人為陳敏茲小姐及吳秋萍組長，聯絡電話及校址也已提供。\n",
      "---\n",
      "link:  https://www.ncu.edu.tw/\n",
      "page_content:  網站標題: 中大首頁\n",
      "簡介: 國立中央大學（National Central University, NCU）位於台灣，是一所著名的高等學府，成立於1962年。該校提供多樣化的學術課程和研究領域，涵蓋科學、工程、管理、人文社會科學等。國立中央大學以其優質的教育和研究成果而聞名，致力於培養具國際視野和創新能力的人才。校內擁有先進的設施和豐富的學術資源，並與多所國際大學建立合作關係，促進學術交流與合作。\n",
      "---\n",
      "link:  https://www.ncu.edu.tw/en/pages/index.php?num=2\n",
      "page_content:  網站標題: Colleges & Departments\n",
      "簡介: 國立中央大學（National Central University）提供多元化的學院和研究中心，包括文學院、科學院、工程學院、管理學院、電機與計算機科學學院、地球科學院、客家研究院、健康科學與技術學院，以及可持續性與綠色能源研究所等。每個學院下設有多個系所及研究所，涵蓋不同學科領域。例如，文學院包括中文、英文、法文等文學系，科學院則有物理、數學、化學等科。該校也提供多個國際碩士及博士課程，並設有教學中心和雙語教育中心，以促進學生的全面發展。此外，網站還提供校園地圖、重要公告及聯絡資訊等功能，方便師生及來訪者使用。\n",
      "---\n",
      "link:  http://www.ncu.edu.tw/#&panel1-1\n",
      "page_content:  網站標題: 國立中央大學首頁\n",
      "簡介: 國立中央大學是一所位於台灣的高等教育機構，成立於1961年，致力於提供優質的教育和研究。該校擁有多個學院，涵蓋科學、工程、人文、社會科學等領域，並以其卓越的學術表現和研究成果而聞名。此外，國立中央大學也積極推動國際交流與合作，吸引來自世界各地的學生和學者。校園環境優美，設施完善，為學生提供良好的學習和生活條件。\n",
      "---\n",
      "link:  https://osa.ncu.edu.tw/news_article.php?event_id=3101/news.php?event_category_no=1\n",
      "page_content:  網站標題: 行政\n",
      "簡介: 這篇網頁內容是關於國立中央大學學務處的各個部門及其服務，特別是生活輔導組的活動公告。公告提到了一場名為「宿舍導師講座」的講座，將於2024年12月13日（星期五）舉行，時間為18:30至20:30，地點在女14舍藝文空間。講者是李健榮博士，將探討畢業後的生涯選擇和自主學習的影響。參加者可獲得2小時的生活知能，並符合獎助學金申請的時數要求。聯絡人為胡硯芬，提供了聯絡電話和電子郵件。活動的短網址也提供了，方便查看詳情。\n",
      "---\n",
      "link:  https://www.ncu.edu.tw/en/pages/index.php?num=2\n",
      "page_content:  網站標題: Colleges & Departments\n",
      "簡介: 國立中央大學（National Central University, NCU）擁有多個學院和研究中心，包括文學院、科學院、工程學院、管理學院、電機與資訊學院、地球科學院、客家研究學院及健康科學與技術學院等。每個學院下設有不同的系所和研究所，提供多樣的學術課程和國際合作計畫。\n",
      "\n",
      "網站提供了校園地圖、重要連結、聯繫資訊及社交媒體平台，並提醒使用者可以調整字體大小以便於閱讀。此外，網站使用Cookies以提升用戶體驗，並有隱私政策聲明。\n",
      "\n",
      "學校位於台灣桃園市，提供多項碩士和博士學位課程，並設有各類教育中心，如通識教育中心、語言中心及體育辦公室。\n",
      "---\n",
      "link:  https://speech.ncu.edu.tw/mentor/?page_id=144\n",
      "page_content:  網站標題: 宿舍導師\n",
      "簡介: 國立中央大學的宿舍導師制度是由各學院推薦的熱心教師組成，旨在為學生提供求學過程中的指導和支持。學生可以根據自己的需求選擇適合的宿舍導師，這些導師涵蓋多個學科領域。每學期，宿舍導師會與宿舍幹部合作舉辦各類講座和座談會，鼓勵學生參加以增強學習與生活上的支持。此外，網頁還列出了近幾年的宿舍導師名單，包括不同學院及科系的負責教師。\n",
      "---\n",
      "content='Who is the headmaster of National Central University in Taiwan?' additional_kwargs={} response_metadata={} id='70dd10fe-ea5a-41b6-834a-b3ccbbca8331'\n",
      "content='' additional_kwargs={'tool_calls': [{'id': 'call_fgFhqEehkriuB4mHwCeUivxw', 'function': {'arguments': '{\"query\":\"headmaster of National Central University Taiwan\"}', 'name': 'website_info_retriever'}, 'type': 'function'}], 'refusal': None} response_metadata={'token_usage': {'completion_tokens': 24, 'prompt_tokens': 168, 'total_tokens': 192, 'completion_tokens_details': {'accepted_prediction_tokens': 0, 'audio_tokens': 0, 'reasoning_tokens': 0, 'rejected_prediction_tokens': 0}, 'prompt_tokens_details': {'audio_tokens': 0, 'cached_tokens': 0}}, 'model_name': 'gpt-4o-mini-2024-07-18', 'system_fingerprint': 'fp_b376dfbbd5', 'id': 'chatcmpl-BGl3yKSjrDomvWWIBUcbI4NpA8o7h', 'finish_reason': 'tool_calls', 'logprobs': None} id='run-728b821e-aa33-4baa-8f5c-a622e01229dc-0' tool_calls=[{'name': 'website_info_retriever', 'args': {'query': 'headmaster of National Central University Taiwan'}, 'id': 'call_fgFhqEehkriuB4mHwCeUivxw', 'type': 'tool_call'}] usage_metadata={'input_tokens': 168, 'output_tokens': 24, 'total_tokens': 192, 'input_token_details': {'audio': 0, 'cache_read': 0}, 'output_token_details': {'audio': 0, 'reasoning': 0}}\n",
      "content='link: https://www.ncu.edu.tw\\n網站標題: National Central University\\n簡介: 國立中央大學。\\n---\\nlink: https://www.ncu.edu.tw\\n網站標題: National Central University\\n簡介: 國立中央大學（National Central University，簡稱NCU）是台灣的一所國立大學，成立於1962年，位於桃園市。該校以其卓越的學術研究和多元化的學科聞名，涵蓋科學、工程、管理、人文社會科學等領域。國立中央大學積極推動國際合作與交流，並致力於科技創新及社會服務，培養具全球視野和專業能力的人才。校內設施完善，擁有現代化的實驗室和圖書館，並提供多樣的課外活動和學習資源，旨在提升學生的整體素質與競爭力。\\n---\\nlink: http://www.ncu.edu.tw\\n網站標題: 中央大學\\n簡介: 國立中央大學（National Central University, NCU）是台灣一所著名的高等教育機構，成立於1962年，位於桃園市。該校提供多樣化的學術課程，涵蓋科學、工程、文學、社會科學等領域，致力於培養具備創新能力和國際視野的人才。中央大學擁有優秀的師資和研究環境，積極進行學術研究和產學合作，並與多所國際知名大學建立合作關係。此外，該校也注重學生的全面發展，提供豐富的課外活動和資源支持。\\n---\\nlink: https://ncusec.ncu.edu.tw/preselection/\\n網站標題: 校長遴選專區\\n簡介: 國立中央大學的第九任校長遴選專區提供公告訊息、相關法規、委員名單、表單下載及聯絡資訊。根據最新公告，蕭述三教授已獲教育部同意聘任為校長，並於2024年10月30日正式上任。遴選過程中，包括候選人治校理念說明會和投票結果的相關會議紀錄均已公開。聯絡人為陳敏茲小姐及吳秋萍組長，聯絡電話及校址也已提供。\\n---\\nlink: https://www.ncu.edu.tw/\\n網站標題: 中大首頁\\n簡介: 國立中央大學（National Central University, NCU）位於台灣，是一所著名的高等學府，成立於1962年。該校提供多樣化的學術課程和研究領域，涵蓋科學、工程、管理、人文社會科學等。國立中央大學以其優質的教育和研究成果而聞名，致力於培養具國際視野和創新能力的人才。校內擁有先進的設施和豐富的學術資源，並與多所國際大學建立合作關係，促進學術交流與合作。\\n---\\nlink: https://www.ncu.edu.tw/en/pages/index.php?num=2\\n網站標題: Colleges & Departments\\n簡介: 國立中央大學（National Central University）提供多元化的學院和研究中心，包括文學院、科學院、工程學院、管理學院、電機與計算機科學學院、地球科學院、客家研究院、健康科學與技術學院，以及可持續性與綠色能源研究所等。每個學院下設有多個系所及研究所，涵蓋不同學科領域。例如，文學院包括中文、英文、法文等文學系，科學院則有物理、數學、化學等科。該校也提供多個國際碩士及博士課程，並設有教學中心和雙語教育中心，以促進學生的全面發展。此外，網站還提供校園地圖、重要公告及聯絡資訊等功能，方便師生及來訪者使用。\\n---\\nlink: http://www.ncu.edu.tw/#&panel1-1\\n網站標題: 國立中央大學首頁\\n簡介: 國立中央大學是一所位於台灣的高等教育機構，成立於1961年，致力於提供優質的教育和研究。該校擁有多個學院，涵蓋科學、工程、人文、社會科學等領域，並以其卓越的學術表現和研究成果而聞名。此外，國立中央大學也積極推動國際交流與合作，吸引來自世界各地的學生和學者。校園環境優美，設施完善，為學生提供良好的學習和生活條件。\\n---\\nlink: https://osa.ncu.edu.tw/news_article.php?event_id=3101/news.php?event_category_no=1\\n網站標題: 行政\\n簡介: 這篇網頁內容是關於國立中央大學學務處的各個部門及其服務，特別是生活輔導組的活動公告。公告提到了一場名為「宿舍導師講座」的講座，將於2024年12月13日（星期五）舉行，時間為18:30至20:30，地點在女14舍藝文空間。講者是李健榮博士，將探討畢業後的生涯選擇和自主學習的影響。參加者可獲得2小時的生活知能，並符合獎助學金申請的時數要求。聯絡人為胡硯芬，提供了聯絡電話和電子郵件。活動的短網址也提供了，方便查看詳情。\\n---\\nlink: https://www.ncu.edu.tw/en/pages/index.php?num=2\\n網站標題: Colleges & Departments\\n簡介: 國立中央大學（National Central University, NCU）擁有多個學院和研究中心，包括文學院、科學院、工程學院、管理學院、電機與資訊學院、地球科學院、客家研究學院及健康科學與技術學院等。每個學院下設有不同的系所和研究所，提供多樣的學術課程和國際合作計畫。\\n\\n網站提供了校園地圖、重要連結、聯繫資訊及社交媒體平台，並提醒使用者可以調整字體大小以便於閱讀。此外，網站使用Cookies以提升用戶體驗，並有隱私政策聲明。\\n\\n學校位於台灣桃園市，提供多項碩士和博士學位課程，並設有各類教育中心，如通識教育中心、語言中心及體育辦公室。\\n---\\nlink: https://speech.ncu.edu.tw/mentor/?page_id=144\\n網站標題: 宿舍導師\\n簡介: 國立中央大學的宿舍導師制度是由各學院推薦的熱心教師組成，旨在為學生提供求學過程中的指導和支持。學生可以根據自己的需求選擇適合的宿舍導師，這些導師涵蓋多個學科領域。每學期，宿舍導師會與宿舍幹部合作舉辦各類講座和座談會，鼓勵學生參加以增強學習與生活上的支持。此外，網頁還列出了近幾年的宿舍導師名單，包括不同學院及科系的負責教師。\\n---\\n' name='website_info_retriever' id='11c8f313-5d07-440d-aa60-fced57cb7211' tool_call_id='call_fgFhqEehkriuB4mHwCeUivxw'\n",
      "content='The headmaster (校長) of National Central University (NCU) in Taiwan is Professor Hsiao Shu San (蕭述三). He has been appointed by the Ministry of Education and will officially take office on October 30, 2024.' additional_kwargs={'refusal': None} response_metadata={'token_usage': {'completion_tokens': 55, 'prompt_tokens': 1955, 'total_tokens': 2010, 'completion_tokens_details': {'accepted_prediction_tokens': 0, 'audio_tokens': 0, 'reasoning_tokens': 0, 'rejected_prediction_tokens': 0}, 'prompt_tokens_details': {'audio_tokens': 0, 'cached_tokens': 0}}, 'model_name': 'gpt-4o-mini-2024-07-18', 'system_fingerprint': 'fp_b376dfbbd5', 'id': 'chatcmpl-BGl40ZpE4MHvcGATgX56yCxCHXCHc', 'finish_reason': 'stop', 'logprobs': None} id='run-f3e05b07-6741-442a-8941-1daa9180f0b8-0' usage_metadata={'input_tokens': 1955, 'output_tokens': 55, 'total_tokens': 2010, 'input_token_details': {'audio': 0, 'cache_read': 0}, 'output_token_details': {'audio': 0, 'reasoning': 0}}\n"
     ]
    }
   ],
   "source": [
    "response = executor.invoke({\"messages\": [(\"user\", \"Who is the headmaster of National Central University in Taiwan?\")]})\n",
    "for message in response[\"messages\"]:\n",
    "    print(message)"
   ]
  },
  {
   "cell_type": "markdown",
   "metadata": {},
   "source": [
    "## Define Replanner"
   ]
  },
  {
   "cell_type": "code",
   "execution_count": null,
   "metadata": {},
   "outputs": [],
   "source": [
    "from typing import Union\n",
    "\n",
    "\n",
    "class Response(BaseModel):\n",
    "    \"\"\"Response to user.\"\"\"\n",
    "\n",
    "    response: str\n",
    "\n",
    "\n",
    "class Act(BaseModel):\n",
    "    \"\"\"Action to perform.\"\"\"\n",
    "\n",
    "    action: Union[Response, Plan] = Field(\n",
    "        description=\"Action to perform. If you want to respond to user, use Response. \"\n",
    "        \"If you need to further use tools to get the answer, use Plan.\"\n",
    "    )\n",
    "\n",
    "\n",
    "replanner_prompt = ChatPromptTemplate.from_template(\n",
    "    \"\"\"For the given objective, come up with a simple step by step plan. \\\n",
    "This plan should involve individual tasks, that if executed correctly will yield the correct answer. Do not add any superfluous steps. \\\n",
    "The result of the final step should be the final answer. Make sure that each step has all the information needed - do not skip steps.\n",
    "\n",
    "Your objective was this:\n",
    "{input}\n",
    "\n",
    "Your original plan was this:\n",
    "{plan}\n",
    "\n",
    "You have currently done the follow steps:\n",
    "{past_steps}\n",
    "\n",
    "Update your plan accordingly. If no more steps are needed and you can return to the user, then respond with that. Otherwise, fill out the plan. Only add steps to the plan that still NEED to be done. Do not return previously done steps as part of the plan.\"\"\"\n",
    ")\n",
    "\n",
    "replanner_llm = ChatOpenAI(model=\"gpt-4o\", temperature=0) # ! Replanner需要使用gpt-4o才不會一直call tools\n",
    "replanner = replanner_prompt | replanner_llm.with_structured_output(Act) # 限制使用特定模板回答問題"
   ]
  },
  {
   "cell_type": "markdown",
   "metadata": {},
   "source": [
    "# Define Graph State"
   ]
  },
  {
   "cell_type": "code",
   "execution_count": 15,
   "metadata": {},
   "outputs": [],
   "source": [
    "import operator\n",
    "from typing import Annotated, List, Tuple\n",
    "from typing_extensions import TypedDict\n",
    "\n",
    "\n",
    "class PlanExecute(TypedDict):\n",
    "    input: str\n",
    "    plan: List[str]\n",
    "    past_steps: Annotated[List[Tuple], operator.add]\n",
    "    response: str"
   ]
  },
  {
   "cell_type": "markdown",
   "metadata": {},
   "source": [
    "# Create the Graph"
   ]
  },
  {
   "cell_type": "code",
   "execution_count": null,
   "metadata": {},
   "outputs": [],
   "source": [
    "from typing import Literal\n",
    "from langgraph.graph import END\n",
    "\n",
    "\n",
    "async def execute_step(state: PlanExecute):\n",
    "    plan = state[\"plan\"]\n",
    "    plan_str = \"\\n\".join(f\"{i+1}. {step}\" for i, step in enumerate(plan))\n",
    "    task = plan[0]\n",
    "    task_formatted = f\"\"\"For the following plan:\n",
    "{plan_str}\\n\\nYou are tasked with executing step {1}, {task}.\"\"\"\n",
    "    agent_response = await executor.ainvoke(\n",
    "        {\"messages\": [(\"user\", task_formatted)]}\n",
    "    )\n",
    "    return {\n",
    "        \"past_steps\": [(task, agent_response[\"messages\"][-1].content)],\n",
    "    }\n",
    "\n",
    "\n",
    "async def plan_step(state: PlanExecute):\n",
    "    plan = await planner.ainvoke({\"messages\": [(\"user\", state[\"input\"])]}) # 對應到planner system prompt中的{messages}\n",
    "    return {\"plan\": plan.steps}\n",
    "\n",
    "\n",
    "async def replan_step(state: PlanExecute):\n",
    "    output = await replanner.ainvoke(state)\n",
    "    if isinstance(output.action, Response):\n",
    "        return {\"response\": output.action.response}\n",
    "    else:\n",
    "        return {\"plan\": output.action.steps}\n",
    "\n",
    "\n",
    "def should_end(state: PlanExecute):\n",
    "    if \"response\" in state and state[\"response\"]:\n",
    "        return END\n",
    "    else:\n",
    "        return \"agent\""
   ]
  },
  {
   "cell_type": "code",
   "execution_count": null,
   "metadata": {},
   "outputs": [],
   "source": [
    "from langgraph.graph import StateGraph, START\n",
    "\n",
    "workflow = StateGraph(PlanExecute)\n",
    "\n",
    "# Add the plan node\n",
    "workflow.add_node(\"planner\", plan_step)\n",
    "\n",
    "# Add the execution step\n",
    "workflow.add_node(\"agent\", execute_step)\n",
    "\n",
    "# Add a replan node\n",
    "workflow.add_node(\"replan\", replan_step)\n",
    "\n",
    "workflow.add_edge(START, \"planner\")\n",
    "\n",
    "# From plan we go to agent\n",
    "workflow.add_edge(\"planner\", \"agent\")\n",
    "\n",
    "# From agent, we replan\n",
    "workflow.add_edge(\"agent\", \"replan\")\n",
    "\n",
    "workflow.add_conditional_edges(\n",
    "    \"replan\",\n",
    "    # Next, we pass in the function that will determine which node is called next.\n",
    "    should_end,\n",
    "    [\"agent\", END],\n",
    ")\n",
    "\n",
    "# Finally, we compile it!\n",
    "# This compiles it into a LangChain Runnable,\n",
    "# meaning you can use it as you would any other runnable\n",
    "app = workflow.compile()"
   ]
  },
  {
   "cell_type": "code",
   "execution_count": null,
   "metadata": {},
   "outputs": [],
   "source": [
    "from IPython.display import Image, display\n",
    "\n",
    "display(Image(app.get_graph(xray=True).draw_mermaid_png()))"
   ]
  },
  {
   "cell_type": "code",
   "execution_count": null,
   "metadata": {},
   "outputs": [],
   "source": [
    "# Who is the headmaster of National Central University in Taiwan?\n",
    "config = {\"recursion_limit\": 50}\n",
    "inputs = {\"input\": \"Who is the headmaster of National Central University in Taiwan?\"}\n",
    "async for event in app.astream(inputs, config=config):\n",
    "    for k, v in event.items():\n",
    "        if k != \"__end__\":\n",
    "            print(v)"
   ]
  }
 ],
 "metadata": {
  "kernelspec": {
   "display_name": "langgraph_03_28_25",
   "language": "python",
   "name": "python3"
  },
  "language_info": {
   "codemirror_mode": {
    "name": "ipython",
    "version": 3
   },
   "file_extension": ".py",
   "mimetype": "text/x-python",
   "name": "python",
   "nbconvert_exporter": "python",
   "pygments_lexer": "ipython3",
   "version": "3.12.8"
  }
 },
 "nbformat": 4,
 "nbformat_minor": 2
}
