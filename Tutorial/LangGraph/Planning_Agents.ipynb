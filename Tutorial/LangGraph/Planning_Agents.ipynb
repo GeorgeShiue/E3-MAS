{
 "cells": [
  {
   "cell_type": "markdown",
   "metadata": {},
   "source": [
    "# API Keys & LLM Models"
   ]
  },
  {
   "cell_type": "code",
   "execution_count": 1,
   "metadata": {},
   "outputs": [],
   "source": [
    "import os\n",
    "from dotenv import load_dotenv\n",
    "from langchain.chat_models import init_chat_model\n",
    "\n",
    "load_dotenv()\n",
    "api_key = os.getenv(\"API_KEY\")\n",
    "os.environ[\"OPENAI_API_KEY\"] = api_key\n",
    "tavily_api_key = os.getenv(\"TAVILY_API_KEY\")\n",
    "os.environ[\"TAVILY_API_KEY\"] = tavily_api_key\n",
    "\n",
    "model = init_chat_model(\"gpt-4o-mini\", model_provider=\"openai\")"
   ]
  },
  {
   "cell_type": "markdown",
   "metadata": {},
   "source": [
    "# Plan-and-Execute"
   ]
  },
  {
   "cell_type": "markdown",
   "metadata": {},
   "source": [
    "## Define Tools"
   ]
  },
  {
   "cell_type": "code",
   "execution_count": 2,
   "metadata": {},
   "outputs": [],
   "source": [
    "from langchain_community.tools.tavily_search import TavilySearchResults\n",
    "\n",
    "tools = [TavilySearchResults(max_results=3)]"
   ]
  },
  {
   "cell_type": "markdown",
   "metadata": {},
   "source": [
    "## Define Execution Agent"
   ]
  },
  {
   "cell_type": "code",
   "execution_count": null,
   "metadata": {},
   "outputs": [],
   "source": [
    "from langchain import hub\n",
    "from langchain_openai import ChatOpenAI\n",
    "\n",
    "from langgraph.prebuilt import create_react_agent\n",
    "\n",
    "# Choose the LLM that will drive the agent\n",
    "llm = ChatOpenAI(model=\"gpt-4o-mini\")\n",
    "prompt = \"You are a helpful assistant.\"\n",
    "agent_executor = create_react_agent(llm, tools, prompt=prompt)"
   ]
  },
  {
   "cell_type": "code",
   "execution_count": 4,
   "metadata": {},
   "outputs": [
    {
     "data": {
      "text/plain": [
       "{'messages': [HumanMessage(content='who is the winnner of the us open', additional_kwargs={}, response_metadata={}, id='d0565de8-22ea-4c2c-8b10-a50b92f1af4b'),\n",
       "  AIMessage(content='', additional_kwargs={'tool_calls': [{'id': 'call_auuZngMMSQkhubXJQhsBVJhw', 'function': {'arguments': '{\"query\":\"US Open 2023 winner\"}', 'name': 'tavily_search_results_json'}, 'type': 'function'}], 'refusal': None}, response_metadata={'token_usage': {'completion_tokens': 24, 'prompt_tokens': 95, 'total_tokens': 119, 'completion_tokens_details': {'accepted_prediction_tokens': 0, 'audio_tokens': 0, 'reasoning_tokens': 0, 'rejected_prediction_tokens': 0}, 'prompt_tokens_details': {'audio_tokens': 0, 'cached_tokens': 0}}, 'model_name': 'gpt-4o-mini-2024-07-18', 'system_fingerprint': 'fp_b376dfbbd5', 'id': 'chatcmpl-BGkKBvQJt4X8LLolfcovyshCzhrmn', 'finish_reason': 'tool_calls', 'logprobs': None}, id='run-f4c4cc4a-4fab-4a7d-a3ca-7302b6fcee7f-0', tool_calls=[{'name': 'tavily_search_results_json', 'args': {'query': 'US Open 2023 winner'}, 'id': 'call_auuZngMMSQkhubXJQhsBVJhw', 'type': 'tool_call'}], usage_metadata={'input_tokens': 95, 'output_tokens': 24, 'total_tokens': 119, 'input_token_details': {'audio': 0, 'cache_read': 0}, 'output_token_details': {'audio': 0, 'reasoning': 0}}),\n",
       "  ToolMessage(content='[{\"title\": \"US Open 2023 Winners: Complete list of men\\'s and women\\'s singles ...\", \"url\": \"https://www.sportskeeda.com/tennis/news-us-open-2023-winners-complete-list-men-s-women-s-singles-doubles-champions\", \"content\": \"US Open 2023 Women\\'s singles champion: Coco Gauff\\\\nCoco Gauff capped off her sensational American summer by winning her maiden Grand Slam title at the US Open by beating Aryna Sabalenka 2-6, 6-3, 6-2 in the final. The 19-year-old became only the third American teenager to win the New York Major, the others being Tracy Austin (1979 and 1981) and Serena Williams (1999).\\\\n\\\\nUS Open 2023 Men\\'s doubles champions: Rajeev Ram and Joe Salisbury [...] Novak Djokovic and Coco Gauff are the singles champions at US Open 2023\\\\n \\\\nUS Open 2023 came to an end on Sunday, September 10, with the champions of all 19 disciplines being decided. [...] US Open 2023 Men\\'s singles champion: Novak Djokovic\\\\nNovak Djokovic won his fourth title at the US Open and 24th Grand Slam title by beating Daniil Medvedev 6-3, 7-6(5), 6-3 in the final. Barring his third-round fixture against Laslo Djere where he had to come back from two sets down, the Serb had a pretty straightforward campaign at the tournament.\", \"score\": 0.9134376}, {\"title\": \"2023 US Open (tennis) - Wikipedia\", \"url\": \"https://en.wikipedia.org/wiki/2023_US_Open_(tennis)\", \"content\": \"The 2023 US Open was the 143rd edition of tennis\\' US Open and the fourth and final Grand Slam event of the year. It was held on outdoor hard courts at the USTA Billie Jean King National Tennis Center in New York City. Carlos Alcaraz and Iga Świątek were the men\\'s and women\\'s singles defending champions.[1][2] Świątek lost to Jeļena Ostapenko in the fourth round, while Alcaraz lost to Daniil Medvedev in the semifinals.\\\\nTournament[edit] [...] Find sources:\\xa0\\\\\"2023 US Open\\\\\"\\xa0tennis\\xa0–\\xa0news\\xa0· newspapers\\xa0· books\\xa0· scholar\\xa0· JSTOR (January 2025) (Learn how and when to remove this message)\\\\n2023 US Open\\\\nDate    August 28 – September 10\\\\nEdition 143rd\\\\nCategory    Grand Slam (ITF)\\\\nDraw    128S/64D\\\\nPrize\\xa0money $65,000,000\\\\nSurface Hard\\\\nLocation    New York City, United States\\\\nVenue   USTA Billie Jean King National Tennis Center\\\\nChampions\\\\nMen\\'s singles\\\\n Novak Djokovic\\\\nWomen\\'s singles\\\\n Coco Gauff\\\\nMen\\'s doubles\\\\n Rajeev Ram /  Joe Salisbury\", \"score\": 0.9016528}, {\"title\": \"US Open 2023: Novak Djokovic wins his record 24th Grand Slam ...\", \"url\": \"https://apnews.com/article/us-open-tv-betting-schedule-866b6c8b2842155d20e0ec8fca0a4020\", \"content\": \"Copy\\\\nLink copied\\\\n\\\\n\\\\nEmail\\\\n\\\\nFacebook\\\\nX\\\\nReddit\\\\nLinkedIn\\\\nPinterest\\\\nFlipboard\\\\nPrint\\\\n\\\\nRead More\\\\n    ![Image 6: Novak Djokovic, of Serbia, holds up the championship trophy for photographers after defeating Daniil Medvedev, of Russia, in the men\\'s singles final of the U.S. Open tennis championships, Sunday, Sept. 10, 2023, in New York. (AP Photo/Charles Krupa)](blob:https://apnews.com/7fbd8254586292e1bc6d646fe8d717fc) [...] ![Image 4: Novak Djokovic, of Serbia, holds up the championship trophy for photographers after defeating Daniil Medvedev, of Russia, in the men\\'s singles final of the U.S. Open tennis championships, Sunday, Sept. 10, 2023, in New York. (AP Photo/Charles Krupa)](blob:https://apnews.com/7fbd8254586292e1bc6d646fe8d717fc) [...] ![Image 3: Novak Djokovic, of Serbia, holds up the championship trophy after defeating Daniil Medvedev, of Russia, in the men\\'s singles final of the U.S. Open tennis championships, Sunday, Sept. 10, 2023, in New York. (AP Photo/Mary Altaffer)](https://dims.apnews.com/dims4/default/0c10779/2147483647/strip/true/crop/4555x3037+0+0/resize/599x399!/quality/90/?url=https%3A%2F%2Fassets.apnews.com%2F0d%2F0e%2Fd482e82e3a26ea4521306a20e76d%2F58978e75b43848adadbcaaf472266ee5)\", \"score\": 0.8747745}]', name='tavily_search_results_json', id='2fbe4d38-eacf-4d3d-9db2-6694591da8a0', tool_call_id='call_auuZngMMSQkhubXJQhsBVJhw', artifact={'query': 'US Open 2023 winner', 'follow_up_questions': None, 'answer': None, 'images': [], 'results': [{'url': 'https://www.sportskeeda.com/tennis/news-us-open-2023-winners-complete-list-men-s-women-s-singles-doubles-champions', 'title': \"US Open 2023 Winners: Complete list of men's and women's singles ...\", 'content': \"US Open 2023 Women's singles champion: Coco Gauff\\nCoco Gauff capped off her sensational American summer by winning her maiden Grand Slam title at the US Open by beating Aryna Sabalenka 2-6, 6-3, 6-2 in the final. The 19-year-old became only the third American teenager to win the New York Major, the others being Tracy Austin (1979 and 1981) and Serena Williams (1999).\\n\\nUS Open 2023 Men's doubles champions: Rajeev Ram and Joe Salisbury [...] Novak Djokovic and Coco Gauff are the singles champions at US Open 2023\\n \\nUS Open 2023 came to an end on Sunday, September 10, with the champions of all 19 disciplines being decided. [...] US Open 2023 Men's singles champion: Novak Djokovic\\nNovak Djokovic won his fourth title at the US Open and 24th Grand Slam title by beating Daniil Medvedev 6-3, 7-6(5), 6-3 in the final. Barring his third-round fixture against Laslo Djere where he had to come back from two sets down, the Serb had a pretty straightforward campaign at the tournament.\", 'score': 0.9134376, 'raw_content': None}, {'url': 'https://en.wikipedia.org/wiki/2023_US_Open_(tennis)', 'title': '2023 US Open (tennis) - Wikipedia', 'content': 'The 2023 US Open was the 143rd edition of tennis\\' US Open and the fourth and final Grand Slam event of the year. It was held on outdoor hard courts at the USTA Billie Jean King National Tennis Center in New York City. Carlos Alcaraz and Iga Świątek were the men\\'s and women\\'s singles defending champions.[1][2] Świątek lost to Jeļena Ostapenko in the fourth round, while Alcaraz lost to Daniil Medvedev in the semifinals.\\nTournament[edit] [...] Find sources:\\xa0\"2023 US Open\"\\xa0tennis\\xa0–\\xa0news\\xa0· newspapers\\xa0· books\\xa0· scholar\\xa0· JSTOR (January 2025) (Learn how and when to remove this message)\\n2023 US Open\\nDate    August 28 – September 10\\nEdition 143rd\\nCategory    Grand Slam (ITF)\\nDraw    128S/64D\\nPrize\\xa0money $65,000,000\\nSurface Hard\\nLocation    New York City, United States\\nVenue   USTA Billie Jean King National Tennis Center\\nChampions\\nMen\\'s singles\\n Novak Djokovic\\nWomen\\'s singles\\n Coco Gauff\\nMen\\'s doubles\\n Rajeev Ram /  Joe Salisbury', 'score': 0.9016528, 'raw_content': None}, {'url': 'https://apnews.com/article/us-open-tv-betting-schedule-866b6c8b2842155d20e0ec8fca0a4020', 'title': 'US Open 2023: Novak Djokovic wins his record 24th Grand Slam ...', 'content': \"Copy\\nLink copied\\n\\n\\nEmail\\n\\nFacebook\\nX\\nReddit\\nLinkedIn\\nPinterest\\nFlipboard\\nPrint\\n\\nRead More\\n    ![Image 6: Novak Djokovic, of Serbia, holds up the championship trophy for photographers after defeating Daniil Medvedev, of Russia, in the men's singles final of the U.S. Open tennis championships, Sunday, Sept. 10, 2023, in New York. (AP Photo/Charles Krupa)](blob:https://apnews.com/7fbd8254586292e1bc6d646fe8d717fc) [...] ![Image 4: Novak Djokovic, of Serbia, holds up the championship trophy for photographers after defeating Daniil Medvedev, of Russia, in the men's singles final of the U.S. Open tennis championships, Sunday, Sept. 10, 2023, in New York. (AP Photo/Charles Krupa)](blob:https://apnews.com/7fbd8254586292e1bc6d646fe8d717fc) [...] ![Image 3: Novak Djokovic, of Serbia, holds up the championship trophy after defeating Daniil Medvedev, of Russia, in the men's singles final of the U.S. Open tennis championships, Sunday, Sept. 10, 2023, in New York. (AP Photo/Mary Altaffer)](https://dims.apnews.com/dims4/default/0c10779/2147483647/strip/true/crop/4555x3037+0+0/resize/599x399!/quality/90/?url=https%3A%2F%2Fassets.apnews.com%2F0d%2F0e%2Fd482e82e3a26ea4521306a20e76d%2F58978e75b43848adadbcaaf472266ee5)\", 'score': 0.8747745, 'raw_content': None}], 'response_time': 1.62}),\n",
       "  AIMessage(content=\"The winners of the 2023 US Open are:\\n\\n- **Men's Singles Champion**: Novak Djokovic, who won his fourth US Open title and 24th Grand Slam title overall by defeating Daniil Medvedev with a score of 6-3, 7-6(5), 6-3.\\n- **Women's Singles Champion**: Coco Gauff, who won her first Grand Slam title by beating Aryna Sabalenka 2-6, 6-3, 6-2.\\n\\nYou can find more details about the tournament and its results on the [US Open Wikipedia page](https://en.wikipedia.org/wiki/2023_US_Open_(tennis)) or this [Sportskeeda article](https://www.sportskeeda.com/tennis/news-us-open-2023-winners-complete-list-men-s-women-s-singles-doubles-champions).\", additional_kwargs={'refusal': None}, response_metadata={'token_usage': {'completion_tokens': 184, 'prompt_tokens': 1240, 'total_tokens': 1424, 'completion_tokens_details': {'accepted_prediction_tokens': 0, 'audio_tokens': 0, 'reasoning_tokens': 0, 'rejected_prediction_tokens': 0}, 'prompt_tokens_details': {'audio_tokens': 0, 'cached_tokens': 0}}, 'model_name': 'gpt-4o-mini-2024-07-18', 'system_fingerprint': 'fp_b376dfbbd5', 'id': 'chatcmpl-BGkKEfsRj8MCgc11osZByKHUrzZiE', 'finish_reason': 'stop', 'logprobs': None}, id='run-80481b86-936d-4872-9394-e4ce3b0c2661-0', usage_metadata={'input_tokens': 1240, 'output_tokens': 184, 'total_tokens': 1424, 'input_token_details': {'audio': 0, 'cache_read': 0}, 'output_token_details': {'audio': 0, 'reasoning': 0}})]}"
      ]
     },
     "execution_count": 4,
     "metadata": {},
     "output_type": "execute_result"
    }
   ],
   "source": [
    "agent_executor.invoke({\"messages\": [(\"user\", \"who is the winnner of the us open\")]})"
   ]
  },
  {
   "cell_type": "markdown",
   "metadata": {},
   "source": [
    "## Define the State"
   ]
  },
  {
   "cell_type": "code",
   "execution_count": 5,
   "metadata": {},
   "outputs": [],
   "source": [
    "import operator\n",
    "from typing import Annotated, List, Tuple\n",
    "from typing_extensions import TypedDict\n",
    "\n",
    "\n",
    "class PlanExecute(TypedDict):\n",
    "    input: str\n",
    "    plan: List[str]\n",
    "    past_steps: Annotated[List[Tuple], operator.add]\n",
    "    response: str"
   ]
  },
  {
   "cell_type": "markdown",
   "metadata": {},
   "source": [
    "## Planning Step"
   ]
  },
  {
   "cell_type": "code",
   "execution_count": null,
   "metadata": {},
   "outputs": [],
   "source": [
    "from pydantic import BaseModel, Field\n",
    "from langchain_core.prompts import ChatPromptTemplate\n",
    "from langchain_openai import ChatOpenAI\n",
    "\n",
    "\n",
    "class Plan(BaseModel):\n",
    "    \"\"\"Plan to follow in future\"\"\"\n",
    "\n",
    "    steps: List[str] = Field(\n",
    "        description=\"different steps to follow, should be in sorted order\"\n",
    "    )\n",
    "\n",
    "\n",
    "planner_prompt = ChatPromptTemplate.from_messages(\n",
    "    [\n",
    "        (\n",
    "            \"system\",\n",
    "            \"\"\"For the given objective, come up with a simple step by step plan. \\\n",
    "This plan should involve individual tasks, that if executed correctly will yield the correct answer. Do not add any superfluous steps. \\\n",
    "The result of the final step should be the final answer. Make sure that each step has all the information needed - do not skip steps.\"\"\",\n",
    "        ),\n",
    "        (\"placeholder\", \"{messages}\"),\n",
    "    ]\n",
    ")\n",
    "planner = planner_prompt | ChatOpenAI(\n",
    "    model=\"gpt-4o-mini\", temperature=0\n",
    ").with_structured_output(Plan)"
   ]
  },
  {
   "cell_type": "code",
   "execution_count": 8,
   "metadata": {},
   "outputs": [
    {
     "name": "stdout",
     "output_type": "stream",
     "text": [
      "Identify the current Australian Open winner for the most recent tournament.\n",
      "Research the hometown of the identified winner.\n",
      "Confirm the accuracy of the hometown information from reliable sources.\n"
     ]
    }
   ],
   "source": [
    "response = planner.invoke(\n",
    "    {\n",
    "        \"messages\": [\n",
    "            (\"user\", \"what is the hometown of the current Australia open winner?\")\n",
    "        ]\n",
    "    }\n",
    ")\n",
    "for step in response.steps:\n",
    "    print(step)"
   ]
  },
  {
   "cell_type": "markdown",
   "metadata": {},
   "source": [
    "## Re-Plan Step"
   ]
  },
  {
   "cell_type": "code",
   "execution_count": 9,
   "metadata": {},
   "outputs": [],
   "source": [
    "from typing import Union\n",
    "\n",
    "\n",
    "class Response(BaseModel):\n",
    "    \"\"\"Response to user.\"\"\"\n",
    "\n",
    "    response: str\n",
    "\n",
    "\n",
    "class Act(BaseModel):\n",
    "    \"\"\"Action to perform.\"\"\"\n",
    "\n",
    "    action: Union[Response, Plan] = Field(\n",
    "        description=\"Action to perform. If you want to respond to user, use Response. \"\n",
    "        \"If you need to further use tools to get the answer, use Plan.\"\n",
    "    )\n",
    "\n",
    "\n",
    "replanner_prompt = ChatPromptTemplate.from_template(\n",
    "    \"\"\"For the given objective, come up with a simple step by step plan. \\\n",
    "This plan should involve individual tasks, that if executed correctly will yield the correct answer. Do not add any superfluous steps. \\\n",
    "The result of the final step should be the final answer. Make sure that each step has all the information needed - do not skip steps.\n",
    "\n",
    "Your objective was this:\n",
    "{input}\n",
    "\n",
    "Your original plan was this:\n",
    "{plan}\n",
    "\n",
    "You have currently done the follow steps:\n",
    "{past_steps}\n",
    "\n",
    "Update your plan accordingly. If no more steps are needed and you can return to the user, then respond with that. Otherwise, fill out the plan. Only add steps to the plan that still NEED to be done. Do not return previously done steps as part of the plan.\"\"\"\n",
    ")\n",
    "\n",
    "\n",
    "replanner = replanner_prompt | ChatOpenAI(\n",
    "    model=\"gpt-4o\", temperature=0\n",
    ").with_structured_output(Act)"
   ]
  },
  {
   "cell_type": "markdown",
   "metadata": {},
   "source": [
    "## Create the Graph"
   ]
  },
  {
   "cell_type": "code",
   "execution_count": 10,
   "metadata": {},
   "outputs": [],
   "source": [
    "from typing import Literal\n",
    "from langgraph.graph import END\n",
    "\n",
    "\n",
    "async def execute_step(state: PlanExecute):\n",
    "    plan = state[\"plan\"]\n",
    "    plan_str = \"\\n\".join(f\"{i+1}. {step}\" for i, step in enumerate(plan))\n",
    "    task = plan[0]\n",
    "    task_formatted = f\"\"\"For the following plan:\n",
    "{plan_str}\\n\\nYou are tasked with executing step {1}, {task}.\"\"\"\n",
    "    agent_response = await agent_executor.ainvoke(\n",
    "        {\"messages\": [(\"user\", task_formatted)]}\n",
    "    )\n",
    "    return {\n",
    "        \"past_steps\": [(task, agent_response[\"messages\"][-1].content)],\n",
    "    }\n",
    "\n",
    "\n",
    "async def plan_step(state: PlanExecute):\n",
    "    plan = await planner.ainvoke({\"messages\": [(\"user\", state[\"input\"])]})\n",
    "    return {\"plan\": plan.steps}\n",
    "\n",
    "\n",
    "async def replan_step(state: PlanExecute):\n",
    "    output = await replanner.ainvoke(state)\n",
    "    if isinstance(output.action, Response):\n",
    "        return {\"response\": output.action.response}\n",
    "    else:\n",
    "        return {\"plan\": output.action.steps}\n",
    "\n",
    "\n",
    "def should_end(state: PlanExecute):\n",
    "    if \"response\" in state and state[\"response\"]:\n",
    "        return END\n",
    "    else:\n",
    "        return \"agent\""
   ]
  },
  {
   "cell_type": "code",
   "execution_count": 11,
   "metadata": {},
   "outputs": [],
   "source": [
    "from langgraph.graph import StateGraph, START\n",
    "\n",
    "workflow = StateGraph(PlanExecute)\n",
    "\n",
    "# Add the plan node\n",
    "workflow.add_node(\"planner\", plan_step)\n",
    "\n",
    "# Add the execution step\n",
    "workflow.add_node(\"agent\", execute_step)\n",
    "\n",
    "# Add a replan node\n",
    "workflow.add_node(\"replan\", replan_step)\n",
    "\n",
    "workflow.add_edge(START, \"planner\")\n",
    "\n",
    "# From plan we go to agent\n",
    "workflow.add_edge(\"planner\", \"agent\")\n",
    "\n",
    "# From agent, we replan\n",
    "workflow.add_edge(\"agent\", \"replan\")\n",
    "\n",
    "workflow.add_conditional_edges(\n",
    "    \"replan\",\n",
    "    # Next, we pass in the function that will determine which node is called next.\n",
    "    should_end,\n",
    "    [\"agent\", END],\n",
    ")\n",
    "\n",
    "# Finally, we compile it!\n",
    "# This compiles it into a LangChain Runnable,\n",
    "# meaning you can use it as you would any other runnable\n",
    "app = workflow.compile()"
   ]
  },
  {
   "cell_type": "code",
   "execution_count": null,
   "metadata": {},
   "outputs": [],
   "source": [
    "from IPython.display import Image, display\n",
    "\n",
    "display(Image(app.get_graph(xray=True).draw_mermaid_png()))"
   ]
  },
  {
   "cell_type": "code",
   "execution_count": 12,
   "metadata": {},
   "outputs": [
    {
     "name": "stdout",
     "output_type": "stream",
     "text": [
      "{'plan': [\"Identify the men's singles winner of the 2024 Australian Open after the tournament concludes.\", \"Research the winner's biography to find their hometown.\"]}\n",
      "{'past_steps': [(\"Identify the men's singles winner of the 2024 Australian Open after the tournament concludes.\", 'Jannik Sinner was born on August 16, 2001, in San Candido, Italy (also known as Innichen). It is a small town located in the northernmost part of Italy, near the Austrian border, and is known for its mountainous region and skiing opportunities.\\n\\nIf you need more information or assistance, feel free to ask!')]}\n",
      "{'response': \"The hometown of the men's 2024 Australian Open winner, Jannik Sinner, is San Candido, Italy. If you have any more questions or need further assistance, feel free to ask!\"}\n"
     ]
    }
   ],
   "source": [
    "config = {\"recursion_limit\": 50}\n",
    "inputs = {\"input\": \"what is the hometown of the mens 2024 Australia open winner?\"}\n",
    "async for event in app.astream(inputs, config=config):\n",
    "    for k, v in event.items():\n",
    "        if k != \"__end__\":\n",
    "            print(v)"
   ]
  },
  {
   "cell_type": "markdown",
   "metadata": {},
   "source": [
    "# Reasoning without Observation"
   ]
  },
  {
   "cell_type": "markdown",
   "metadata": {},
   "source": [
    "## Define Graph State"
   ]
  },
  {
   "cell_type": "code",
   "execution_count": null,
   "metadata": {},
   "outputs": [],
   "source": [
    "from typing import List\n",
    "from typing_extensions import TypedDict\n",
    "\n",
    "\n",
    "class ReWOO(TypedDict):\n",
    "    task: str\n",
    "    plan_string: str\n",
    "    steps: List\n",
    "    results: dict\n",
    "    result: str"
   ]
  },
  {
   "cell_type": "markdown",
   "metadata": {},
   "source": [
    "## Planner"
   ]
  },
  {
   "cell_type": "code",
   "execution_count": null,
   "metadata": {},
   "outputs": [],
   "source": [
    "from langchain_openai import ChatOpenAI\n",
    "\n",
    "model = ChatOpenAI(model=\"gpt-4o\")"
   ]
  },
  {
   "cell_type": "code",
   "execution_count": null,
   "metadata": {},
   "outputs": [],
   "source": [
    "prompt = \"\"\"For the following task, make plans that can solve the problem step by step. For each plan, indicate \\\n",
    "which external tool together with tool input to retrieve evidence. You can store the evidence into a \\\n",
    "variable #E that can be called by later tools. (Plan, #E1, Plan, #E2, Plan, ...)\n",
    "\n",
    "Tools can be one of the following:\n",
    "(1) Google[input]: Worker that searches results from Google. Useful when you need to find short\n",
    "and succinct answers about a specific topic. The input should be a search query.\n",
    "(2) LLM[input]: A pretrained LLM like yourself. Useful when you need to act with general\n",
    "world knowledge and common sense. Prioritize it when you are confident in solving the problem\n",
    "yourself. Input can be any instruction.\n",
    "\n",
    "For example,\n",
    "Task: Thomas, Toby, and Rebecca worked a total of 157 hours in one week. Thomas worked x\n",
    "hours. Toby worked 10 hours less than twice what Thomas worked, and Rebecca worked 8 hours\n",
    "less than Toby. How many hours did Rebecca work?\n",
    "Plan: Given Thomas worked x hours, translate the problem into algebraic expressions and solve\n",
    "with Wolfram Alpha. #E1 = WolframAlpha[Solve x + (2x − 10) + ((2x − 10) − 8) = 157]\n",
    "Plan: Find out the number of hours Thomas worked. #E2 = LLM[What is x, given #E1]\n",
    "Plan: Calculate the number of hours Rebecca worked. #E3 = Calculator[(2 ∗ #E2 − 10) − 8]\n",
    "\n",
    "Begin! \n",
    "Describe your plans with rich details. Each Plan should be followed by only one #E.\n",
    "\n",
    "Task: {task}\"\"\""
   ]
  },
  {
   "cell_type": "code",
   "execution_count": null,
   "metadata": {},
   "outputs": [],
   "source": [
    "task = \"what is the exact hometown of the 2024 mens australian open winner\""
   ]
  },
  {
   "cell_type": "code",
   "execution_count": null,
   "metadata": {},
   "outputs": [],
   "source": [
    "result = model.invoke(prompt.format(task=task))"
   ]
  },
  {
   "cell_type": "code",
   "execution_count": null,
   "metadata": {},
   "outputs": [],
   "source": [
    "print(result.content)"
   ]
  },
  {
   "cell_type": "markdown",
   "metadata": {},
   "source": [
    "### Planner Node"
   ]
  },
  {
   "cell_type": "code",
   "execution_count": null,
   "metadata": {},
   "outputs": [],
   "source": [
    "import re\n",
    "\n",
    "from langchain_core.prompts import ChatPromptTemplate\n",
    "\n",
    "# Regex to match expressions of the form E#... = ...[...]\n",
    "regex_pattern = r\"Plan:\\s*(.+)\\s*(#E\\d+)\\s*=\\s*(\\w+)\\s*\\[([^\\]]+)\\]\"\n",
    "prompt_template = ChatPromptTemplate.from_messages([(\"user\", prompt)])\n",
    "planner = prompt_template | model\n",
    "\n",
    "\n",
    "def get_plan(state: ReWOO):\n",
    "    task = state[\"task\"]\n",
    "    result = planner.invoke({\"task\": task})\n",
    "    # Find all matches in the sample text\n",
    "    matches = re.findall(regex_pattern, result.content)\n",
    "    return {\"steps\": matches, \"plan_string\": result.content}"
   ]
  },
  {
   "cell_type": "markdown",
   "metadata": {},
   "source": [
    "## Executor"
   ]
  },
  {
   "cell_type": "code",
   "execution_count": null,
   "metadata": {},
   "outputs": [],
   "source": [
    "from langchain_community.tools.tavily_search import TavilySearchResults\n",
    "\n",
    "search = TavilySearchResults()"
   ]
  },
  {
   "cell_type": "code",
   "execution_count": null,
   "metadata": {},
   "outputs": [],
   "source": [
    "def _get_current_task(state: ReWOO):\n",
    "    if \"results\" not in state or state[\"results\"] is None:\n",
    "        return 1\n",
    "    if len(state[\"results\"]) == len(state[\"steps\"]):\n",
    "        return None\n",
    "    else:\n",
    "        return len(state[\"results\"]) + 1\n",
    "\n",
    "\n",
    "def tool_execution(state: ReWOO):\n",
    "    \"\"\"Worker node that executes the tools of a given plan.\"\"\"\n",
    "    _step = _get_current_task(state)\n",
    "    _, step_name, tool, tool_input = state[\"steps\"][_step - 1]\n",
    "    _results = (state[\"results\"] or {}) if \"results\" in state else {}\n",
    "    for k, v in _results.items():\n",
    "        tool_input = tool_input.replace(k, v)\n",
    "    if tool == \"Google\":\n",
    "        result = search.invoke(tool_input)\n",
    "    elif tool == \"LLM\":\n",
    "        result = model.invoke(tool_input)\n",
    "    else:\n",
    "        raise ValueError\n",
    "    _results[step_name] = str(result)\n",
    "    return {\"results\": _results}"
   ]
  },
  {
   "cell_type": "markdown",
   "metadata": {},
   "source": [
    "## Solver"
   ]
  },
  {
   "cell_type": "code",
   "execution_count": null,
   "metadata": {},
   "outputs": [],
   "source": [
    "solve_prompt = \"\"\"Solve the following task or problem. To solve the problem, we have made step-by-step Plan and \\\n",
    "retrieved corresponding Evidence to each Plan. Use them with caution since long evidence might \\\n",
    "contain irrelevant information.\n",
    "\n",
    "{plan}\n",
    "\n",
    "Now solve the question or task according to provided Evidence above. Respond with the answer\n",
    "directly with no extra words.\n",
    "\n",
    "Task: {task}\n",
    "Response:\"\"\"\n",
    "\n",
    "\n",
    "def solve(state: ReWOO):\n",
    "    plan = \"\"\n",
    "    for _plan, step_name, tool, tool_input in state[\"steps\"]:\n",
    "        _results = (state[\"results\"] or {}) if \"results\" in state else {}\n",
    "        for k, v in _results.items():\n",
    "            tool_input = tool_input.replace(k, v)\n",
    "            step_name = step_name.replace(k, v)\n",
    "        plan += f\"Plan: {_plan}\\n{step_name} = {tool}[{tool_input}]\"\n",
    "    prompt = solve_prompt.format(plan=plan, task=state[\"task\"])\n",
    "    result = model.invoke(prompt)\n",
    "    return {\"result\": result.content}"
   ]
  },
  {
   "cell_type": "markdown",
   "metadata": {},
   "source": [
    "## Define Graph"
   ]
  },
  {
   "cell_type": "code",
   "execution_count": null,
   "metadata": {},
   "outputs": [],
   "source": [
    "def _route(state):\n",
    "    _step = _get_current_task(state)\n",
    "    if _step is None:\n",
    "        # We have executed all tasks\n",
    "        return \"solve\"\n",
    "    else:\n",
    "        # We are still executing tasks, loop back to the \"tool\" node\n",
    "        return \"tool\""
   ]
  },
  {
   "cell_type": "code",
   "execution_count": null,
   "metadata": {},
   "outputs": [],
   "source": [
    "from langgraph.graph import END, StateGraph, START\n",
    "\n",
    "graph = StateGraph(ReWOO)\n",
    "graph.add_node(\"plan\", get_plan)\n",
    "graph.add_node(\"tool\", tool_execution)\n",
    "graph.add_node(\"solve\", solve)\n",
    "graph.add_edge(\"plan\", \"tool\")\n",
    "graph.add_edge(\"solve\", END)\n",
    "graph.add_conditional_edges(\"tool\", _route)\n",
    "graph.add_edge(START, \"plan\")\n",
    "\n",
    "app = graph.compile()"
   ]
  },
  {
   "cell_type": "code",
   "execution_count": null,
   "metadata": {},
   "outputs": [],
   "source": [
    "from IPython.display import Image, display\n",
    "\n",
    "display(Image(app.get_graph(xray=True).draw_mermaid_png()))"
   ]
  },
  {
   "cell_type": "code",
   "execution_count": null,
   "metadata": {},
   "outputs": [],
   "source": [
    "for s in app.stream({\"task\": task}):\n",
    "    print(s)\n",
    "    print(\"---\")"
   ]
  },
  {
   "cell_type": "markdown",
   "metadata": {},
   "source": []
  }
 ],
 "metadata": {
  "kernelspec": {
   "display_name": "langgraph_03_28_25",
   "language": "python",
   "name": "python3"
  },
  "language_info": {
   "codemirror_mode": {
    "name": "ipython",
    "version": 3
   },
   "file_extension": ".py",
   "mimetype": "text/x-python",
   "name": "python",
   "nbconvert_exporter": "python",
   "pygments_lexer": "ipython3",
   "version": "3.12.8"
  }
 },
 "nbformat": 4,
 "nbformat_minor": 2
}
